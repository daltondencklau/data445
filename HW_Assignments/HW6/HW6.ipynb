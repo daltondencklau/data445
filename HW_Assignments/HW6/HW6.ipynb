{
 "cells": [
  {
   "cell_type": "markdown",
   "id": "ebaa8d9c",
   "metadata": {},
   "source": [
    "Exercise 1) A) Because AdaBoost models are built sequentially, the weight of the 72nd observation will depend on the 71st observation, which was dependent on the previous observation.\n",
    "B) if the observation is classified correctly, it would have received a lower weight. Because it was mis-classified, it would receive a higher weight."
   ]
  },
  {
   "cell_type": "markdown",
   "id": "7b9f0c74",
   "metadata": {},
   "source": [
    "Exercise 2) Explain why AdaBoost.M1 is an ensemble model.\n",
    "    This type of model forces the model to reclassify observations that were previously mis-classified. In other words, it combines a group a group of weak learners in order to minmize errors made by the training dataset."
   ]
  },
  {
   "cell_type": "markdown",
   "id": "437f3e74",
   "metadata": {},
   "source": [
    "Exercise 3) see .pdf attachment"
   ]
  },
  {
   "cell_type": "markdown",
   "id": "aaabc452",
   "metadata": {},
   "source": [
    "Exercise 4) If your AdaBoost ensemble under-fits the training dataset, what would you do to fix that? That is, which hyper-parameters should you tweak? I would adjust the amount of trees (n_estimators) used, along with the max depth and learning rate."
   ]
  },
  {
   "cell_type": "markdown",
   "id": "9efff39a",
   "metadata": {},
   "source": [
    "Exercise 5) For binary classification, which of the following statements are TRUE of AdaBoost\n",
    "with decision trees as learners? E: A, B, C, D (It usually has lower bias than a single decision tree, It is popular because it usually works well even before any hyper-parameter tuning, It assigns higher weights to observations that have been misclassified, It can train multiple decision trees in parallel.)"
   ]
  },
  {
   "cell_type": "markdown",
   "id": "154bc7a5",
   "metadata": {},
   "source": [
    "Exercise 6) Which of the following is/are TRUE about gradient boosting trees? B and C (In gradient boosting trees, the decision trees are dependent of each other, It is a method for improving the performance by aggregating the results of several decision trees.)"
   ]
  },
  {
   "cell_type": "markdown",
   "id": "b9323fdb",
   "metadata": {},
   "source": [
    "Exercise 7) In this course have covered two boosting frameworks. What is the main difference between AdaBoost and Gradient Boosting? Be specific. \n",
    "    The main difference between AdaBoost and Gradient Boosting is the fact that AdaBoost models use weights and estimators and are built dependantly off of the previous model. Gradient Boosting models make the resiuduals smaller and smaller as the iterations continue, while also making them the target variable in following iterations."
   ]
  },
  {
   "cell_type": "code",
   "execution_count": 1,
   "id": "e61ff3ce",
   "metadata": {},
   "outputs": [
    {
     "data": {
      "text/html": [
       "<div>\n",
       "<style scoped>\n",
       "    .dataframe tbody tr th:only-of-type {\n",
       "        vertical-align: middle;\n",
       "    }\n",
       "\n",
       "    .dataframe tbody tr th {\n",
       "        vertical-align: top;\n",
       "    }\n",
       "\n",
       "    .dataframe thead th {\n",
       "        text-align: right;\n",
       "    }\n",
       "</style>\n",
       "<table border=\"1\" class=\"dataframe\">\n",
       "  <thead>\n",
       "    <tr style=\"text-align: right;\">\n",
       "      <th></th>\n",
       "      <th>male</th>\n",
       "      <th>age</th>\n",
       "      <th>education</th>\n",
       "      <th>currentSmoker</th>\n",
       "      <th>cigsPerDay</th>\n",
       "      <th>BPMeds</th>\n",
       "      <th>prevalentStroke</th>\n",
       "      <th>prevalentHyp</th>\n",
       "      <th>diabetes</th>\n",
       "      <th>totChol</th>\n",
       "      <th>sysBP</th>\n",
       "      <th>diaBP</th>\n",
       "      <th>BMI</th>\n",
       "      <th>heartRate</th>\n",
       "      <th>glucose</th>\n",
       "      <th>TenYearCHD</th>\n",
       "    </tr>\n",
       "  </thead>\n",
       "  <tbody>\n",
       "    <tr>\n",
       "      <th>0</th>\n",
       "      <td>1</td>\n",
       "      <td>39</td>\n",
       "      <td>4.0</td>\n",
       "      <td>0</td>\n",
       "      <td>0.0</td>\n",
       "      <td>0.0</td>\n",
       "      <td>0</td>\n",
       "      <td>0</td>\n",
       "      <td>0</td>\n",
       "      <td>195.0</td>\n",
       "      <td>106.0</td>\n",
       "      <td>70.0</td>\n",
       "      <td>26.97</td>\n",
       "      <td>80.0</td>\n",
       "      <td>77.0</td>\n",
       "      <td>0</td>\n",
       "    </tr>\n",
       "    <tr>\n",
       "      <th>1</th>\n",
       "      <td>0</td>\n",
       "      <td>46</td>\n",
       "      <td>2.0</td>\n",
       "      <td>0</td>\n",
       "      <td>0.0</td>\n",
       "      <td>0.0</td>\n",
       "      <td>0</td>\n",
       "      <td>0</td>\n",
       "      <td>0</td>\n",
       "      <td>250.0</td>\n",
       "      <td>121.0</td>\n",
       "      <td>81.0</td>\n",
       "      <td>28.73</td>\n",
       "      <td>95.0</td>\n",
       "      <td>76.0</td>\n",
       "      <td>0</td>\n",
       "    </tr>\n",
       "    <tr>\n",
       "      <th>2</th>\n",
       "      <td>1</td>\n",
       "      <td>48</td>\n",
       "      <td>1.0</td>\n",
       "      <td>1</td>\n",
       "      <td>20.0</td>\n",
       "      <td>0.0</td>\n",
       "      <td>0</td>\n",
       "      <td>0</td>\n",
       "      <td>0</td>\n",
       "      <td>245.0</td>\n",
       "      <td>127.5</td>\n",
       "      <td>80.0</td>\n",
       "      <td>25.34</td>\n",
       "      <td>75.0</td>\n",
       "      <td>70.0</td>\n",
       "      <td>0</td>\n",
       "    </tr>\n",
       "    <tr>\n",
       "      <th>3</th>\n",
       "      <td>0</td>\n",
       "      <td>61</td>\n",
       "      <td>3.0</td>\n",
       "      <td>1</td>\n",
       "      <td>30.0</td>\n",
       "      <td>0.0</td>\n",
       "      <td>0</td>\n",
       "      <td>1</td>\n",
       "      <td>0</td>\n",
       "      <td>225.0</td>\n",
       "      <td>150.0</td>\n",
       "      <td>95.0</td>\n",
       "      <td>28.58</td>\n",
       "      <td>65.0</td>\n",
       "      <td>103.0</td>\n",
       "      <td>1</td>\n",
       "    </tr>\n",
       "    <tr>\n",
       "      <th>4</th>\n",
       "      <td>0</td>\n",
       "      <td>46</td>\n",
       "      <td>3.0</td>\n",
       "      <td>1</td>\n",
       "      <td>23.0</td>\n",
       "      <td>0.0</td>\n",
       "      <td>0</td>\n",
       "      <td>0</td>\n",
       "      <td>0</td>\n",
       "      <td>285.0</td>\n",
       "      <td>130.0</td>\n",
       "      <td>84.0</td>\n",
       "      <td>23.10</td>\n",
       "      <td>85.0</td>\n",
       "      <td>85.0</td>\n",
       "      <td>0</td>\n",
       "    </tr>\n",
       "  </tbody>\n",
       "</table>\n",
       "</div>"
      ],
      "text/plain": [
       "   male  age  education  currentSmoker  cigsPerDay  BPMeds  prevalentStroke  \\\n",
       "0     1   39        4.0              0         0.0     0.0                0   \n",
       "1     0   46        2.0              0         0.0     0.0                0   \n",
       "2     1   48        1.0              1        20.0     0.0                0   \n",
       "3     0   61        3.0              1        30.0     0.0                0   \n",
       "4     0   46        3.0              1        23.0     0.0                0   \n",
       "\n",
       "   prevalentHyp  diabetes  totChol  sysBP  diaBP    BMI  heartRate  glucose  \\\n",
       "0             0         0    195.0  106.0   70.0  26.97       80.0     77.0   \n",
       "1             0         0    250.0  121.0   81.0  28.73       95.0     76.0   \n",
       "2             0         0    245.0  127.5   80.0  25.34       75.0     70.0   \n",
       "3             1         0    225.0  150.0   95.0  28.58       65.0    103.0   \n",
       "4             0         0    285.0  130.0   84.0  23.10       85.0     85.0   \n",
       "\n",
       "   TenYearCHD  \n",
       "0           0  \n",
       "1           0  \n",
       "2           0  \n",
       "3           1  \n",
       "4           0  "
      ]
     },
     "execution_count": 1,
     "metadata": {},
     "output_type": "execute_result"
    }
   ],
   "source": [
    "import boto3\n",
    "import pandas as pd; pd.set_option('display.max_column', 100)\n",
    "import numpy as np\n",
    "import matplotlib.pyplot as plt\n",
    "\n",
    "from sklearn.model_selection import train_test_split\n",
    "from sklearn.preprocessing import MinMaxScaler\n",
    "from sklearn.metrics import recall_score, accuracy_score\n",
    "\n",
    "from sklearn.ensemble import RandomForestClassifier, GradientBoostingClassifier, AdaBoostClassifier\n",
    "from sklearn.tree import DecisionTreeClassifier\n",
    "\n",
    "\n",
    "## define bucket in which you are trying to reach\n",
    "s3 = boto3.resource('s3')\n",
    "bucket_name = 'daltondencklau-data445-bucket'\n",
    "bucket = s3.Bucket(bucket_name)\n",
    "\n",
    "## define csv file to read in the bucket\n",
    "file_key= 'framingham.csv'\n",
    "\n",
    "## syntax to allow us to read the file\n",
    "bucket_object = bucket.Object(file_key)\n",
    "file_object = bucket_object.get()\n",
    "file_content_stream = file_object.get('Body')\n",
    "\n",
    "## reading the data file\n",
    "heart = pd.read_csv(file_content_stream)\n",
    "heart.head()"
   ]
  },
  {
   "cell_type": "code",
   "execution_count": 2,
   "id": "eee45944",
   "metadata": {},
   "outputs": [],
   "source": [
    "## removing missing values\n",
    "heart = heart.dropna()"
   ]
  },
  {
   "cell_type": "code",
   "execution_count": 3,
   "id": "4e811a1b",
   "metadata": {},
   "outputs": [],
   "source": [
    "X = heart[['age', 'totChol', 'sysBP', 'BMI', 'heartRate', 'glucose']]\n",
    "Y = heart['TenYearCHD']"
   ]
  },
  {
   "cell_type": "code",
   "execution_count": 4,
   "id": "f2b407c6",
   "metadata": {
    "collapsed": true,
    "jupyter": {
     "outputs_hidden": true
    }
   },
   "outputs": [
    {
     "name": "stdout",
     "output_type": "stream",
     "text": [
      "0\n",
      "1\n",
      "2\n",
      "3\n",
      "4\n",
      "5\n",
      "6\n",
      "7\n",
      "8\n",
      "9\n",
      "10\n",
      "11\n",
      "12\n",
      "13\n",
      "14\n",
      "15\n",
      "16\n",
      "17\n",
      "18\n",
      "19\n",
      "20\n",
      "21\n",
      "22\n",
      "23\n",
      "24\n",
      "25\n",
      "26\n",
      "27\n",
      "28\n",
      "29\n",
      "30\n",
      "31\n",
      "32\n",
      "33\n",
      "34\n",
      "35\n",
      "36\n",
      "37\n",
      "38\n",
      "39\n",
      "40\n",
      "41\n",
      "42\n",
      "43\n",
      "44\n",
      "45\n",
      "46\n",
      "47\n",
      "48\n",
      "49\n",
      "50\n",
      "51\n",
      "52\n",
      "53\n",
      "54\n",
      "55\n",
      "56\n",
      "57\n",
      "58\n",
      "59\n",
      "60\n",
      "61\n",
      "62\n",
      "63\n",
      "64\n",
      "65\n",
      "66\n",
      "67\n",
      "68\n",
      "69\n",
      "70\n",
      "71\n",
      "72\n",
      "73\n",
      "74\n",
      "75\n",
      "76\n",
      "77\n",
      "78\n",
      "79\n",
      "80\n",
      "81\n",
      "82\n",
      "83\n",
      "84\n",
      "85\n",
      "86\n",
      "87\n",
      "88\n",
      "89\n",
      "90\n",
      "91\n",
      "92\n",
      "93\n",
      "94\n",
      "95\n",
      "96\n",
      "97\n",
      "98\n",
      "99\n"
     ]
    }
   ],
   "source": [
    "## creating a list for recall scores\n",
    "md1_recall_score = list()\n",
    "md2_recall_score = list()\n",
    "md3_recall_score = list()\n",
    "\n",
    "## creating a list for accuracy scores (MAYBE COMBINE SOMEHOW INTO A DATAFRAME??????????)\n",
    "md1_accuracy_score = list()\n",
    "md2_accuracy_score = list()\n",
    "md3_accuracy_score = list()\n",
    "\n",
    "for i in range(0,100):\n",
    "    \n",
    "    print(i)\n",
    "    \n",
    "    ## splitting the variables into 80% training and 20% testing, stratifying Y\n",
    "    X_train, X_test, Y_train, Y_test = train_test_split(X, Y, test_size = 0.2, stratify = Y)\n",
    "    \n",
    "    ## building models (do not have to identify base estimator for Gradient[auto = decision tree])\n",
    "    md1 = RandomForestClassifier(n_estimators = 500, max_depth = 3).fit(X_train, Y_train)\n",
    "    md2 = AdaBoostClassifier(base_estimator = DecisionTreeClassifier(max_depth = 3), n_estimators = 500, learning_rate = 0.01).fit(X_train, Y_train)\n",
    "    md3 = GradientBoostingClassifier(n_estimators = 500, max_depth = 3, learning_rate = 0.1).fit(X_train, Y_train)\n",
    "    \n",
    "    ## predicting on the testing data\n",
    "    md1_preds = md1.predict_proba(X_test)[:, 1]\n",
    "    md2_preds = md2.predict_proba(X_test)[:, 1]\n",
    "    md3_preds = md3.predict_proba(X_test)[:, 1]\n",
    "    \n",
    "    ## changing likelihoods to labels, using a 10% cuttoff value\n",
    "    md1_labels = np.where(md1_preds < 0.1, 0, 1)\n",
    "    md2_labels = np.where(md2_preds < 0.1, 0, 1)\n",
    "    md3_labels = np.where(md3_preds < 0.1, 0, 1)\n",
    "    \n",
    "    ## calculating the recall score\n",
    "    md1_recall = recall_score(Y_test, md1_labels)\n",
    "    md2_recall = recall_score(Y_test, md2_labels)\n",
    "    md3_recall = recall_score(Y_test, md3_labels)\n",
    "    \n",
    "    ## calculating accuracy score\n",
    "    md1_accuracy = accuracy_score(Y_test, md1_labels)\n",
    "    md2_accuracy = accuracy_score(Y_test, md2_labels)\n",
    "    md3_accuracy = accuracy_score(Y_test, md3_labels)\n",
    "    \n",
    "    ## appending recall score results to a list\n",
    "    md1_recall_score.append(md1_recall)\n",
    "    md2_recall_score.append(md2_recall)\n",
    "    md3_recall_score.append(md3_recall)\n",
    "    \n",
    "    ## appending accuracy score results to a list\n",
    "    md1_accuracy_score.append(md1_accuracy)\n",
    "    md2_accuracy_score.append(md2_accuracy)\n",
    "    md3_accuracy_score.append(md3_accuracy)"
   ]
  },
  {
   "cell_type": "code",
   "execution_count": 5,
   "id": "a5556329",
   "metadata": {},
   "outputs": [],
   "source": [
    "## do i need to identify base estimators for Ada and Gradient Boosting? No, it automatically chooses for\n",
    "## gradient boosting and decision tree is the right one for Adaboosting."
   ]
  },
  {
   "cell_type": "code",
   "execution_count": 6,
   "id": "5cd31b4f",
   "metadata": {},
   "outputs": [
    {
     "name": "stdout",
     "output_type": "stream",
     "text": [
      "The average recall score for the Random Forest Model is 0.8521428571428571\n",
      "The average recall score for the AdaBoost Model is 0.9887500000000001\n",
      "The average recall score for the GradientBoosting Model is 0.6312500000000001\n"
     ]
    }
   ],
   "source": [
    "## printing average recall scores\n",
    "print('The average recall score for the Random Forest Model is', np.mean(md1_recall_score))\n",
    "print('The average recall score for the AdaBoost Model is', np.mean(md2_recall_score))\n",
    "print('The average recall score for the GradientBoosting Model is', np.mean(md3_recall_score))"
   ]
  },
  {
   "cell_type": "code",
   "execution_count": 7,
   "id": "3a8acdd6",
   "metadata": {},
   "outputs": [
    {
     "name": "stdout",
     "output_type": "stream",
     "text": [
      "The average accuracy score for the Random Forest Model is 0.4553688524590164\n",
      "The average accuracy score for the AdaBoost Model is 0.15904371584699456\n",
      "The average accuracy score for the GradientBoosting Model is 0.5891393442622951\n"
     ]
    }
   ],
   "source": [
    "## printing average accuracy scores\n",
    "print('The average accuracy score for the Random Forest Model is', np.mean(md1_accuracy_score))\n",
    "print('The average accuracy score for the AdaBoost Model is', np.mean(md2_accuracy_score))\n",
    "print('The average accuracy score for the GradientBoosting Model is', np.mean(md3_accuracy_score))"
   ]
  },
  {
   "cell_type": "code",
   "execution_count": 8,
   "id": "8aef9c0d",
   "metadata": {},
   "outputs": [],
   "source": [
    "## as recall goes up, precision goes down??"
   ]
  },
  {
   "cell_type": "code",
   "execution_count": 9,
   "id": "a8f76b71",
   "metadata": {},
   "outputs": [
    {
     "data": {
      "image/png": "[encoded data removed]",
      "text/plain": [
       "<Figure size 432x288 with 1 Axes>"
      ]
     },
     "metadata": {
      "needs_background": "light"
     },
     "output_type": "display_data"
    }
   ],
   "source": [
    "## plotting recall scores\n",
    "plt.plot(md1_recall_score , linewidth = 2, color = 'steelblue')\n",
    "plt.plot(md2_recall_score , linewidth = 2, color = 'orange')\n",
    "plt.plot(md3_recall_score , linewidth = 2, color = 'red')\n",
    "plt.xlabel('Iteration')\n",
    "plt.ylabel('Recall Score')\n",
    "plt.legend(loc = 'upper right', labels = ['model 1', 'model 2', 'model 3'])\n",
    "plt.grid()\n",
    "plt.grid\n",
    "plt.show;"
   ]
  },
  {
   "cell_type": "code",
   "execution_count": 10,
   "id": "e0f0e1c2",
   "metadata": {},
   "outputs": [
    {
     "data": {
      "image/png": "[encoded data removed]",
      "text/plain": [
       "<Figure size 432x288 with 1 Axes>"
      ]
     },
     "metadata": {
      "needs_background": "light"
     },
     "output_type": "display_data"
    }
   ],
   "source": [
    "## plotting accuracy scores\n",
    "plt.plot(md1_accuracy_score , linewidth = 2, color = 'steelblue')\n",
    "plt.plot(md2_accuracy_score , linewidth = 2, color = 'orange')\n",
    "plt.plot(md3_accuracy_score , linewidth = 2, color = 'red')\n",
    "plt.xlabel('Iteration')\n",
    "plt.ylabel('Accuracy Score')\n",
    "plt.legend(loc = 'upper right', labels = ['model 1', 'model 2', 'model 3'])\n",
    "plt.grid()\n",
    "plt.grid\n",
    "plt.show;"
   ]
  },
  {
   "cell_type": "code",
   "execution_count": 12,
   "id": "e2f0ef54",
   "metadata": {},
   "outputs": [],
   "source": [
    "## Based on the recall scores, the AdaBoost model preformed the best. However, the accuracy scores are much lower\n",
    "## for the same AdaBoost Model, with the Gradient Boosting Model having the highest accuracy score.\n",
    "\n",
    "## To improve these results, I would alter the number of trees in each model to try refitting the data. I would\n",
    "## start with decreasing the number of trees, and then evaluating the performance. If the accuracy and recall\n",
    "## still do not meet the requirements, I would try increasing the number of trees or adjusting the learning rate."
   ]
  }
 ],
 "metadata": {
  "kernelspec": {
   "display_name": "conda_python3",
   "language": "python",
   "name": "conda_python3"
  },
  "language_info": {
   "codemirror_mode": {
    "name": "ipython",
    "version": 3
   },
   "file_extension": ".py",
   "mimetype": "text/x-python",
   "name": "python",
   "nbconvert_exporter": "python",
   "pygments_lexer": "ipython3",
   "version": "3.8.12"
  }
 },
 "nbformat": 4,
 "nbformat_minor": 5
}
