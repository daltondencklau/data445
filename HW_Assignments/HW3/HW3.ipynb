{
 "cells": [
  {
   "cell_type": "code",
   "execution_count": null,
   "id": "549f9b75",
   "metadata": {},
   "outputs": [],
   "source": [
    "import boto3\n",
    "import pandas as pd; pd.set_option('display.max_column', 100)\n",
    "import numpy as np\n",
    "import matplotlib.pyplot as plt\n",
    "from sklearn.model_selection import train_test_split\n",
    "from sklearn.linear_model import LinearRegression, Ridge, RidgeCV, Lasso, LassoCV\n",
    "\n",
    "## define bucket in which you are trying to reach\n",
    "s3 = boto3.resource('s3')\n",
    "bucket_name = 'daltondencklau-data445-bucket'\n",
    "bucket = s3.Bucket(bucket_name)\n",
    "\n",
    "## define csv file to read in the bucket\n",
    "file_key= 'CarPrice_Assignment.csv'\n",
    "\n",
    "## syntax to allow us to read the file\n",
    "bucket_object = bucket.Object(file_key)\n",
    "file_object = bucket_object.get()\n",
    "file_content_stream = file_object.get('Body')\n",
    "\n",
    "## reading the data file\n",
    "car_price = pd.read_csv(file_content_stream)\n",
    "car_price.head()"
   ]
  },
  {
   "cell_type": "code",
   "execution_count": null,
   "id": "a78739d9",
   "metadata": {},
   "outputs": [],
   "source": [
    "## creating a list to store the results\n",
    "md1_coef = list()\n",
    "md2_coef = list()\n",
    "\n",
    "for i in range(0,1000):\n",
    "    ## defining input and target variables\n",
    "    X = car_price[['wheelbase', 'enginesize', 'compressionratio', 'horsepower', 'peakrpm', 'citympg', 'highwaympg']]\n",
    "    Y = car_price['price']\n",
    "\n",
    "    ## splitting data into training and testing datasets\n",
    "    X_train, X_test, Y_train, Y_test = train_test_split(X, Y, test_size = 0.2)\n",
    "    \n",
    "    ## estimating lambda for lasso by CV with 5 folds\n",
    "    lasso_cv = LassoCV(alphas = [0.001, 0.01, 0.1, 1, 10, 100], normalize = True, cv = 5).fit(X_train, Y_train)\n",
    "\n",
    "    ## extracting the best lambda value via cross validation\n",
    "    cv_lambda = lasso_cv.alpha_\n",
    "    print('The estimated for the lasso model is', cv_lambda)\n",
    "\n",
    "    ## building the lasso model\n",
    "    lasso_md = Lasso(alpha = cv_lambda, normalize = True).fit(X_train, Y_train)\n",
    "    lasso_md.coef_\n",
    "    \n",
    "    "
   ]
  }
 ],
 "metadata": {
  "kernelspec": {
   "display_name": "conda_python3",
   "language": "python",
   "name": "conda_python3"
  },
  "language_info": {
   "codemirror_mode": {
    "name": "ipython",
    "version": 3
   },
   "file_extension": ".py",
   "mimetype": "text/x-python",
   "name": "python",
   "nbconvert_exporter": "python",
   "pygments_lexer": "ipython3",
   "version": "3.8.12"
  }
 },
 "nbformat": 4,
 "nbformat_minor": 5
}
