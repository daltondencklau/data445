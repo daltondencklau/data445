{
 "cells": [
  {
   "cell_type": "markdown",
   "id": "d1e7839c",
   "metadata": {},
   "source": [
    "## Exercises"
   ]
  },
  {
   "cell_type": "markdown",
   "id": "154589af",
   "metadata": {},
   "source": [
    "1. What type of algorithm would you use to segment a company customers database into multiple groups?\n",
    "I would use a clustering agorithm, such as K-means. This kind of algorithm would group similar observations in the same group or cluster."
   ]
  },
  {
   "cell_type": "markdown",
   "id": "0c1355fe",
   "metadata": {},
   "source": [
    "2. Would you frame the problem of spam detection as a supervised learning problem or an unsupervised learning problem? Explain.\n",
    "I would frame spam deterction as supervised learning because there is a clear goal: spam or not spam. Unsupervised learning has no target variable to be modeled and is used to observe new patterns in datasets."
   ]
  },
  {
   "cell_type": "markdown",
   "id": "2242e1f0",
   "metadata": {},
   "source": [
    "3. What is a test set, and why would you want to use it?\n",
    "A test set is the portion of the dataset that you will use to test how well/effective your model is after it's trained on the training dataset."
   ]
  },
  {
   "cell_type": "markdown",
   "id": "11644c6c",
   "metadata": {},
   "source": [
    "4. You are training a classification model with 100 variables/features that achieves 95% accuracy in the training dataset. However, when you run it in the test dataset, you only get 60% accuracy. Which of the following options are valid approached to solve this problem?\n",
    "E (a and c)."
   ]
  },
  {
   "cell_type": "code",
   "execution_count": 9,
   "id": "e870e214",
   "metadata": {},
   "outputs": [
    {
     "data": {
      "text/html": [
       "<div>\n",
       "<style scoped>\n",
       "    .dataframe tbody tr th:only-of-type {\n",
       "        vertical-align: middle;\n",
       "    }\n",
       "\n",
       "    .dataframe tbody tr th {\n",
       "        vertical-align: top;\n",
       "    }\n",
       "\n",
       "    .dataframe thead th {\n",
       "        text-align: right;\n",
       "    }\n",
       "</style>\n",
       "<table border=\"1\" class=\"dataframe\">\n",
       "  <thead>\n",
       "    <tr style=\"text-align: right;\">\n",
       "      <th></th>\n",
       "      <th>No</th>\n",
       "      <th>transaction_date</th>\n",
       "      <th>house_age</th>\n",
       "      <th>distance_to_the_nearest_MRT_station</th>\n",
       "      <th>number_of_convenience_stores</th>\n",
       "      <th>latitude</th>\n",
       "      <th>longitude</th>\n",
       "      <th>house_price_of_unit_area</th>\n",
       "    </tr>\n",
       "  </thead>\n",
       "  <tbody>\n",
       "    <tr>\n",
       "      <th>0</th>\n",
       "      <td>1</td>\n",
       "      <td>2012.917</td>\n",
       "      <td>32.0</td>\n",
       "      <td>84.87882</td>\n",
       "      <td>10</td>\n",
       "      <td>24.98298</td>\n",
       "      <td>121.54024</td>\n",
       "      <td>37.9</td>\n",
       "    </tr>\n",
       "    <tr>\n",
       "      <th>1</th>\n",
       "      <td>2</td>\n",
       "      <td>2012.917</td>\n",
       "      <td>19.5</td>\n",
       "      <td>306.59470</td>\n",
       "      <td>9</td>\n",
       "      <td>24.98034</td>\n",
       "      <td>121.53951</td>\n",
       "      <td>42.2</td>\n",
       "    </tr>\n",
       "    <tr>\n",
       "      <th>2</th>\n",
       "      <td>3</td>\n",
       "      <td>2013.583</td>\n",
       "      <td>13.3</td>\n",
       "      <td>561.98450</td>\n",
       "      <td>5</td>\n",
       "      <td>24.98746</td>\n",
       "      <td>121.54391</td>\n",
       "      <td>47.3</td>\n",
       "    </tr>\n",
       "    <tr>\n",
       "      <th>3</th>\n",
       "      <td>4</td>\n",
       "      <td>2013.500</td>\n",
       "      <td>13.3</td>\n",
       "      <td>561.98450</td>\n",
       "      <td>5</td>\n",
       "      <td>24.98746</td>\n",
       "      <td>121.54391</td>\n",
       "      <td>54.8</td>\n",
       "    </tr>\n",
       "    <tr>\n",
       "      <th>4</th>\n",
       "      <td>5</td>\n",
       "      <td>2012.833</td>\n",
       "      <td>5.0</td>\n",
       "      <td>390.56840</td>\n",
       "      <td>5</td>\n",
       "      <td>24.97937</td>\n",
       "      <td>121.54245</td>\n",
       "      <td>43.1</td>\n",
       "    </tr>\n",
       "  </tbody>\n",
       "</table>\n",
       "</div>"
      ],
      "text/plain": [
       "   No  transaction_date  house_age  distance_to_the_nearest_MRT_station  \\\n",
       "0   1          2012.917       32.0                             84.87882   \n",
       "1   2          2012.917       19.5                            306.59470   \n",
       "2   3          2013.583       13.3                            561.98450   \n",
       "3   4          2013.500       13.3                            561.98450   \n",
       "4   5          2012.833        5.0                            390.56840   \n",
       "\n",
       "   number_of_convenience_stores  latitude  longitude  house_price_of_unit_area  \n",
       "0                            10  24.98298  121.54024                      37.9  \n",
       "1                             9  24.98034  121.53951                      42.2  \n",
       "2                             5  24.98746  121.54391                      47.3  \n",
       "3                             5  24.98746  121.54391                      54.8  \n",
       "4                             5  24.97937  121.54245                      43.1  "
      ]
     },
     "execution_count": 9,
     "metadata": {},
     "output_type": "execute_result"
    }
   ],
   "source": [
    "import boto3\n",
    "import pandas as pd; pd.set_option('display.max_column', 100)\n",
    "import numpy as np\n",
    "import matplotlib.pyplot as plt\n",
    "\n",
    "## define bucket in which you are trying to reach\n",
    "s3 = boto3.resource('s3')\n",
    "bucket_name = 'daltondencklau-data445-bucket'\n",
    "bucket = s3.Bucket(bucket_name)\n",
    "\n",
    "\n",
    "## define csv file to read in the bucket\n",
    "file_key= 'Real_Estate.csv'\n",
    "\n",
    "## syntax to allow us to read the file\n",
    "bucket_object = bucket.Object(file_key)\n",
    "file_object = bucket_object.get()\n",
    "file_content_stream = file_object.get('Body')\n",
    "\n",
    "## reading the data file\n",
    "house_price = pd.read_csv(file_content_stream)\n",
    "house_price.head()"
   ]
  },
  {
   "cell_type": "markdown",
   "id": "6142dd32",
   "metadata": {},
   "source": [
    "## Dropping the 'No' and 'transaction_date' column"
   ]
  },
  {
   "cell_type": "code",
   "execution_count": 10,
   "id": "3ca0200b",
   "metadata": {},
   "outputs": [
    {
     "data": {
      "text/html": [
       "<div>\n",
       "<style scoped>\n",
       "    .dataframe tbody tr th:only-of-type {\n",
       "        vertical-align: middle;\n",
       "    }\n",
       "\n",
       "    .dataframe tbody tr th {\n",
       "        vertical-align: top;\n",
       "    }\n",
       "\n",
       "    .dataframe thead th {\n",
       "        text-align: right;\n",
       "    }\n",
       "</style>\n",
       "<table border=\"1\" class=\"dataframe\">\n",
       "  <thead>\n",
       "    <tr style=\"text-align: right;\">\n",
       "      <th></th>\n",
       "      <th>house_age</th>\n",
       "      <th>distance_to_the_nearest_MRT_station</th>\n",
       "      <th>number_of_convenience_stores</th>\n",
       "      <th>latitude</th>\n",
       "      <th>longitude</th>\n",
       "      <th>house_price_of_unit_area</th>\n",
       "    </tr>\n",
       "  </thead>\n",
       "  <tbody>\n",
       "    <tr>\n",
       "      <th>0</th>\n",
       "      <td>32.0</td>\n",
       "      <td>84.87882</td>\n",
       "      <td>10</td>\n",
       "      <td>24.98298</td>\n",
       "      <td>121.54024</td>\n",
       "      <td>37.9</td>\n",
       "    </tr>\n",
       "    <tr>\n",
       "      <th>1</th>\n",
       "      <td>19.5</td>\n",
       "      <td>306.59470</td>\n",
       "      <td>9</td>\n",
       "      <td>24.98034</td>\n",
       "      <td>121.53951</td>\n",
       "      <td>42.2</td>\n",
       "    </tr>\n",
       "    <tr>\n",
       "      <th>2</th>\n",
       "      <td>13.3</td>\n",
       "      <td>561.98450</td>\n",
       "      <td>5</td>\n",
       "      <td>24.98746</td>\n",
       "      <td>121.54391</td>\n",
       "      <td>47.3</td>\n",
       "    </tr>\n",
       "    <tr>\n",
       "      <th>3</th>\n",
       "      <td>13.3</td>\n",
       "      <td>561.98450</td>\n",
       "      <td>5</td>\n",
       "      <td>24.98746</td>\n",
       "      <td>121.54391</td>\n",
       "      <td>54.8</td>\n",
       "    </tr>\n",
       "    <tr>\n",
       "      <th>4</th>\n",
       "      <td>5.0</td>\n",
       "      <td>390.56840</td>\n",
       "      <td>5</td>\n",
       "      <td>24.97937</td>\n",
       "      <td>121.54245</td>\n",
       "      <td>43.1</td>\n",
       "    </tr>\n",
       "  </tbody>\n",
       "</table>\n",
       "</div>"
      ],
      "text/plain": [
       "   house_age  distance_to_the_nearest_MRT_station  \\\n",
       "0       32.0                             84.87882   \n",
       "1       19.5                            306.59470   \n",
       "2       13.3                            561.98450   \n",
       "3       13.3                            561.98450   \n",
       "4        5.0                            390.56840   \n",
       "\n",
       "   number_of_convenience_stores  latitude  longitude  house_price_of_unit_area  \n",
       "0                            10  24.98298  121.54024                      37.9  \n",
       "1                             9  24.98034  121.53951                      42.2  \n",
       "2                             5  24.98746  121.54391                      47.3  \n",
       "3                             5  24.98746  121.54391                      54.8  \n",
       "4                             5  24.97937  121.54245                      43.1  "
      ]
     },
     "execution_count": 10,
     "metadata": {},
     "output_type": "execute_result"
    }
   ],
   "source": [
    "house_price = house_price.drop(columns = ['No', 'transaction_date'], axis =1)\n",
    "house_price.head()"
   ]
  },
  {
   "cell_type": "markdown",
   "id": "42bd215e",
   "metadata": {},
   "source": [
    "## Builiding Linear Regression Model 1"
   ]
  },
  {
   "cell_type": "code",
   "execution_count": 21,
   "id": "a131d4d0",
   "metadata": {},
   "outputs": [],
   "source": [
    "from sklearn.model_selection import train_test_split\n",
    "\n",
    "## defining input and target variables\n",
    "X = house_price.drop(columns = 'house_price_of_unit_area', axis =1)\n",
    "Y = house_price['house_price_of_unit_area']\n",
    "\n",
    "## splitting the data into 80% training and 20% testing\n",
    "X_train, X_test, Y_train, Y_test = train_test_split(X, Y, test_size = .2)"
   ]
  },
  {
   "cell_type": "code",
   "execution_count": 22,
   "id": "fc0e6d08",
   "metadata": {},
   "outputs": [],
   "source": [
    "## building the linear regression model\n",
    "from sklearn.linear_model import LinearRegression\n",
    "lm_md = LinearRegression().fit(X_train, Y_train)"
   ]
  },
  {
   "cell_type": "code",
   "execution_count": 23,
   "id": "300dd164",
   "metadata": {},
   "outputs": [
    {
     "data": {
      "text/plain": [
       "array([51.7413717 , 29.51080917, 12.46229439, 31.8656718 , 32.76590465,\n",
       "       40.26348059, 14.36139229, 39.82634563, 35.85174574, 14.57000965,\n",
       "       11.73954593, 41.28106417, 43.27314403, 39.89614275, 29.93260935,\n",
       "       30.65910564, 29.45565433, 38.05798265, 45.29916806, 47.24276137,\n",
       "       38.90996049, 41.88587595, 50.00313907, 31.08781976, 47.82992917,\n",
       "       47.24276137, 13.07230068, 44.50856666, 25.65125672, 33.70031197,\n",
       "       44.73647877, 29.16295488, 27.77472655, 40.58974394, 47.24276137,\n",
       "       44.97142188, 44.67687381, 53.22068566, 42.76372087, 23.26633971,\n",
       "       30.16881458, 30.41494038, 46.77735052, 37.0461214 , 51.77117418,\n",
       "       45.7794203 , 38.28070972, 46.03960375, 13.80108757, 41.16185425,\n",
       "       32.52781186, 43.14392064, 14.75476693, 47.63341804, 33.76346413,\n",
       "       44.17801589, 46.45177835, 39.79641835, 49.56257636, 43.08021314,\n",
       "       34.37713283, 46.02241711, 33.56489653, 13.52833403, 13.52833403,\n",
       "       46.36237091, 51.94998906, 44.88549117, 41.92962455, 39.4918969 ,\n",
       "       29.21513522, 31.18339253, 46.36237091, 41.15779685, 41.3771825 ,\n",
       "       48.865989  , 40.85443342, 23.29385019, 43.87106103, 40.46472275,\n",
       "       42.77326408, 33.18051885, 50.93787838])"
      ]
     },
     "execution_count": 23,
     "metadata": {},
     "output_type": "execute_result"
    }
   ],
   "source": [
    "## predicting on the testing dataset\n",
    "lm_preds = lm_md.predict(X_test)\n",
    "lm_preds"
   ]
  },
  {
   "cell_type": "code",
   "execution_count": 24,
   "id": "51d6e579",
   "metadata": {},
   "outputs": [
    {
     "data": {
      "text/plain": [
       "107.67014792289746"
      ]
     },
     "execution_count": 24,
     "metadata": {},
     "output_type": "execute_result"
    }
   ],
   "source": [
    "## calculating the MSE for model 1\n",
    "np.mean((Y_test - lm_preds)**2)"
   ]
  },
  {
   "cell_type": "code",
   "execution_count": null,
   "id": "ac5c2492",
   "metadata": {},
   "outputs": [],
   "source": [
    "## the MSE for model 1 is 107.7"
   ]
  },
  {
   "cell_type": "code",
   "execution_count": 25,
   "id": "5dc19a8a",
   "metadata": {},
   "outputs": [
    {
     "data": {
      "image/png": "[encoded data removed]",
      "text/plain": [
       "<Figure size 432x288 with 1 Axes>"
      ]
     },
     "metadata": {
      "needs_background": "light"
     },
     "output_type": "display_data"
    }
   ],
   "source": [
    "## visualizing results\n",
    "import matplotlib.pyplot as plt\n",
    "plt.scatter(lm_preds, Y_test)\n",
    "plt.xlabel('linear model predictions')\n",
    "plt.ylabel('actual values')\n",
    "plt.show()"
   ]
  },
  {
   "cell_type": "markdown",
   "id": "f0f9b0bb",
   "metadata": {},
   "source": [
    "## Building Linear Regression Model 2"
   ]
  },
  {
   "cell_type": "code",
   "execution_count": 26,
   "id": "cbee418e",
   "metadata": {},
   "outputs": [],
   "source": [
    "## defining input and target variables\n",
    "X2 = house_price[['house_age', 'distance_to_the_nearest_MRT_station', 'number_of_convenience_stores', 'latitude', 'longitude']]\n",
    "Y2 = house_price['house_price_of_unit_area']"
   ]
  },
  {
   "cell_type": "code",
   "execution_count": 27,
   "id": "b873ac81",
   "metadata": {},
   "outputs": [],
   "source": [
    "## building the linear regression model\n",
    "lm_md_2 = LinearRegression().fit(X_train.drop(columns = ['distance_to_the_nearest_MRT_station'], axis = 1), Y_train)"
   ]
  },
  {
   "cell_type": "code",
   "execution_count": 28,
   "id": "4c26e1d0",
   "metadata": {},
   "outputs": [
    {
     "data": {
      "text/plain": [
       "array([52.13672941, 34.9997784 , 14.04808474, 32.90964315, 30.93865572,\n",
       "       40.99770697, 16.20751495, 41.50468168, 33.89922091, 16.41968987,\n",
       "       14.10312323, 39.79660716, 43.50821586, 38.10395175, 29.07623711,\n",
       "       29.71353222, 28.88504546, 38.12711387, 44.43050432, 45.77404396,\n",
       "       40.35922693, 41.88892037, 51.71677046, 27.59566517, 49.93163596,\n",
       "       45.77404396, 14.60066712, 44.01659647, 25.75800476, 32.06253936,\n",
       "       42.56899137, 29.20452909, 35.6874444 , 41.28982411, 45.77404396,\n",
       "       40.73322225, 42.50836996, 54.33797449, 43.29369681, 19.65352359,\n",
       "       31.74213901, 32.34626568, 44.11971679, 35.42952558, 52.16704011,\n",
       "       48.247287  , 37.50231943, 47.32818531, 15.65997292, 39.67536434,\n",
       "       30.57855622, 38.09475303, 16.62991542, 48.42729029, 32.95250855,\n",
       "       45.09148819, 46.9001056 , 38.15053637, 49.66430643, 43.84537833,\n",
       "       33.51347423, 46.50255447, 32.01454246, 15.6214332 , 15.6214332 ,\n",
       "       46.80917349, 52.34890433, 42.72054488, 44.05451453, 36.45990685,\n",
       "       30.7721965 , 30.84834451, 46.80917349, 41.49000955, 38.80826516,\n",
       "       50.49095053, 41.56414309, 27.40119184, 44.34559591, 39.72263086,\n",
       "       44.75368258, 31.27587639, 52.03662592])"
      ]
     },
     "execution_count": 28,
     "metadata": {},
     "output_type": "execute_result"
    }
   ],
   "source": [
    "## predicting on the testing dataset\n",
    "lm_preds_2 = lm_md_2.predict(X_test.drop(columns = ['distance_to_the_nearest_MRT_station'], axis = 1))\n",
    "lm_preds_2"
   ]
  },
  {
   "cell_type": "code",
   "execution_count": 29,
   "id": "26d47d50",
   "metadata": {},
   "outputs": [
    {
     "data": {
      "text/plain": [
       "116.03640353082362"
      ]
     },
     "execution_count": 29,
     "metadata": {},
     "output_type": "execute_result"
    }
   ],
   "source": [
    "## calculating the MSE for model 2\n",
    "np.mean((Y_test -lm_preds_2)**2)"
   ]
  },
  {
   "cell_type": "code",
   "execution_count": 13,
   "id": "96b41eeb",
   "metadata": {},
   "outputs": [],
   "source": [
    "## The MSE for model 2 is 116.03"
   ]
  },
  {
   "cell_type": "code",
   "execution_count": 14,
   "id": "6dc087e0",
   "metadata": {},
   "outputs": [],
   "source": [
    "## Based on the MSE from both of these models, I would select the first model because the MSE value is lower."
   ]
  },
  {
   "cell_type": "markdown",
   "id": "1375f191",
   "metadata": {},
   "source": [
    "## Reating above steps 100 times"
   ]
  },
  {
   "cell_type": "code",
   "execution_count": 30,
   "id": "076484fb",
   "metadata": {},
   "outputs": [
    {
     "name": "stdout",
     "output_type": "stream",
     "text": [
      "The mse of model 1 is:  82.88036430850364\n",
      "The mse of model 2 is:  89.99327149999468\n",
      "    md1_results  md2_results\n",
      "0     70.560730    78.825619\n",
      "1     57.543602    60.992798\n",
      "2    148.559814   158.592691\n",
      "3     86.608218    84.969413\n",
      "4    146.825124   155.569838\n",
      "..          ...          ...\n",
      "95    94.157511    97.733300\n",
      "96    65.271271    75.360618\n",
      "97    74.562154    83.331231\n",
      "98    91.196396    97.825628\n",
      "99    50.509376    59.642875\n",
      "\n",
      "[100 rows x 2 columns]\n"
     ]
    }
   ],
   "source": [
    "MSE_results = pd.DataFrame({'md1_results': np.repeat(np.nan, 100), 'md2_results': np.repeat(np.nan, 100)})\n",
    "\n",
    "## defining input and target variables for model 1\n",
    "X = house_price.drop(columns = 'house_price_of_unit_area', axis =1)\n",
    "Y = house_price['house_price_of_unit_area']\n",
    "\n",
    "## defining input and target variables for model 2\n",
    "X2 = house_price.drop(columns = ['distance_to_the_nearest_MRT_station'], axis = 1)\n",
    "Y2 = house_price['house_price_of_unit_area']\n",
    "\n",
    "for i in range(0,100):\n",
    "    X_train, X_test, Y_train, Y_test = train_test_split(X, Y, test_size = .2)\n",
    "    md1 = LinearRegression().fit(X_train, Y_train)\n",
    "    \n",
    "    md2 = LinearRegression().fit(X_train.drop(columns = ['distance_to_the_nearest_MRT_station'], axis = 1), Y_train)\n",
    "    \n",
    "    ## predicting on the test dataset\n",
    "    md1_preds = md1.predict(X_test)\n",
    "    md2_preds = md2.predict(X_test.drop(columns = ['distance_to_the_nearest_MRT_station'], axis = 1))\n",
    "    \n",
    "    ## computing MSE\n",
    "    mse1 = np.mean((Y_test - md1_preds)**2)\n",
    "    mse2 = np.mean((Y_test - md2_preds)**2)\n",
    "    MSE_results['md1_results'][i] = mse1\n",
    "    MSE_results['md2_results'][i] = mse2\n",
    "    \n",
    "print('The mse of model 1 is: ', MSE_results['md1_results'].mean())\n",
    "print('The mse of model 2 is: ', MSE_results['md2_results'].mean())\n",
    "print(MSE_results)"
   ]
  },
  {
   "cell_type": "code",
   "execution_count": 31,
   "id": "73ab3a85",
   "metadata": {},
   "outputs": [
    {
     "name": "stdout",
     "output_type": "stream",
     "text": [
      "    md1_results  md2_results\n",
      "0     70.560730    78.825619\n",
      "1     57.543602    60.992798\n",
      "2    148.559814   158.592691\n",
      "3     86.608218    84.969413\n",
      "4    146.825124   155.569838\n",
      "5     77.818130    80.547360\n",
      "6     56.904950    70.272342\n",
      "7     58.758003    61.624827\n",
      "8     59.621960    60.587567\n",
      "9     49.032009    57.939227\n",
      "10    70.663469    73.640463\n",
      "11   101.965195   106.128242\n",
      "12    91.932778    89.223395\n",
      "13   143.389529   155.767113\n",
      "14    70.674152    66.634848\n",
      "15    69.086313    73.079441\n",
      "16    56.250957    66.316128\n",
      "17   146.345643   156.545702\n",
      "18    61.247137    66.760520\n",
      "19    72.647019    77.305510\n",
      "20   122.775367   134.054276\n",
      "21    54.751752    65.568087\n",
      "22   152.578251   164.706954\n",
      "23   159.539433   169.600846\n",
      "24    59.741421    66.635709\n",
      "25   152.349765   163.992634\n",
      "26    69.963149    73.566603\n",
      "27    47.770657    58.782573\n",
      "28    75.518731    78.999818\n",
      "29    71.843551    73.827726\n",
      "30    68.189036    79.608904\n",
      "31    63.160770    66.123867\n",
      "32    58.035775    63.423197\n",
      "33    46.220409    57.735324\n",
      "34   157.626826   169.724428\n",
      "35    59.924543    66.868419\n",
      "36    61.019661    61.668486\n",
      "37   137.131344   148.034866\n",
      "38    54.711691    57.806797\n",
      "39    60.504085    69.308698\n",
      "40    56.055047    60.251497\n",
      "41    92.020125    98.667544\n",
      "42    71.814037    81.568112\n",
      "43    67.943570    76.447673\n",
      "44   184.318669   198.002308\n",
      "45    64.186483    73.557462\n",
      "46    75.018233    79.494500\n",
      "47    39.776918    45.220134\n",
      "48    61.045622    67.709891\n",
      "49    75.458231    80.592827\n",
      "50    58.745196    61.461846\n",
      "51    81.694210    88.332883\n",
      "52    81.748327    88.712455\n",
      "53    73.130774    75.332848\n",
      "54    53.197740    66.527882\n",
      "55    63.732312    75.732047\n",
      "56    74.969740    80.385787\n",
      "57    81.404179    87.659846\n",
      "58    55.732078    60.446608\n",
      "59   123.900884   137.612869\n",
      "60    53.548438    55.310545\n",
      "61   157.776153   173.964233\n",
      "62    53.880679    57.377837\n",
      "63   103.897293   117.535396\n",
      "64   137.572474   145.195985\n",
      "65    64.494089    75.918066\n",
      "66   146.526691   159.076159\n",
      "67   116.250760   127.855221\n",
      "68    50.825726    61.211643\n",
      "69   137.746097   152.608739\n",
      "70    63.171200    60.418625\n",
      "71    77.090018    87.024223\n",
      "72   119.974691   136.118643\n",
      "73    97.640363   107.400853\n",
      "74   119.854013   135.406101\n",
      "75    42.735339    46.325251\n",
      "76    49.230459    50.026835\n",
      "77    81.089993    85.180396\n",
      "78    78.455852    89.456596\n",
      "79    52.073045    64.369292\n",
      "80    57.554450    61.977413\n",
      "81    54.223753    60.804030\n",
      "82    68.270105    78.450031\n",
      "83    76.007674    86.437136\n",
      "84    65.311177    71.313096\n",
      "85    59.004493    56.374334\n",
      "86   136.833921   151.402816\n",
      "87    82.212321    79.171776\n",
      "88    87.985715    92.996478\n",
      "89    58.542383    63.887130\n",
      "90    53.785659    54.908281\n",
      "91    83.670386    95.298849\n",
      "92    91.603464   100.252605\n",
      "93    77.103174    74.048345\n",
      "94    90.714352    95.252260\n",
      "95    94.157511    97.733300\n",
      "96    65.271271    75.360618\n",
      "97    74.562154    83.331231\n",
      "98    91.196396    97.825628\n",
      "99    50.509376    59.642875\n"
     ]
    }
   ],
   "source": [
    "## printing all observations\n",
    "print(MSE_results.to_string())"
   ]
  },
  {
   "cell_type": "markdown",
   "id": "18c7f0c5",
   "metadata": {},
   "source": [
    "### Visualizing results on a graph"
   ]
  },
  {
   "cell_type": "code",
   "execution_count": 32,
   "id": "dea1a88e",
   "metadata": {},
   "outputs": [
    {
     "data": {
      "image/png": "[encoded data removed]",
      "text/plain": [
       "<Figure size 432x288 with 1 Axes>"
      ]
     },
     "metadata": {
      "needs_background": "light"
     },
     "output_type": "display_data"
    }
   ],
   "source": [
    "plt.plot(MSE_results['md1_results'], color = 'skyblue')\n",
    "plt.plot(MSE_results['md2_results'], color = 'salmon')\n",
    "plt.xlabel('iteration')\n",
    "plt.ylabel('MSE')\n",
    "plt.legend(loc = 'upper right', labels = ['model 1', 'model 2'])\n",
    "plt.grid()\n",
    "plt.show();"
   ]
  },
  {
   "cell_type": "code",
   "execution_count": 3,
   "id": "5c11b8e4",
   "metadata": {},
   "outputs": [],
   "source": [
    "## df['col']"
   ]
  },
  {
   "cell_type": "code",
   "execution_count": null,
   "id": "864e8431",
   "metadata": {},
   "outputs": [],
   "source": [
    "## based on the MSE Results and the model averages, I would choose Model 1 because it has a lower MSE value\n",
    "## on average. In the graph about, we can visuzlize that the model 1 (skyblue) has lower MSE values compared to\n",
    "## model 2 (salmon)."
   ]
  }
 ],
 "metadata": {
  "kernelspec": {
   "display_name": "conda_python3",
   "language": "python",
   "name": "conda_python3"
  },
  "language_info": {
   "codemirror_mode": {
    "name": "ipython",
    "version": 3
   },
   "file_extension": ".py",
   "mimetype": "text/x-python",
   "name": "python",
   "nbconvert_exporter": "python",
   "pygments_lexer": "ipython3",
   "version": "3.8.12"
  }
 },
 "nbformat": 4,
 "nbformat_minor": 5
}
