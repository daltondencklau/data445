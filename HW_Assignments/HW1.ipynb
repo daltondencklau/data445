{
 "cells": [
  {
   "cell_type": "markdown",
   "id": "19bac8ac",
   "metadata": {},
   "source": [
    "## Exercises"
   ]
  },
  {
   "cell_type": "markdown",
   "id": "68eae400",
   "metadata": {},
   "source": [
    "1. What type of algorithm would you use to segment a company customers database into multiple groups?\n",
    "I would use a clustering agorithm, such as K-means. This kind of algorithm would group similar observations in the same group or cluster."
   ]
  },
  {
   "cell_type": "markdown",
   "id": "bcd843a3",
   "metadata": {},
   "source": [
    "2. Would you frame the problem of spam detection as a supervised learning problem or an unsupervised learning problem? Explain.\n",
    "I would frame spam deterction as supervised learning because there is a clear goal: spam or not spam. Unsupervised learning has no target variable to be modeled and is used to observe new patterns in datasets."
   ]
  },
  {
   "cell_type": "markdown",
   "id": "bacf0014",
   "metadata": {},
   "source": [
    "3. What is a test set, and why would you want to use it?\n",
    "A test set is the portion of the dataset that you will use to test how well/effective your model is after it's trained on the training dataset."
   ]
  },
  {
   "cell_type": "markdown",
   "id": "afc2fa46",
   "metadata": {},
   "source": [
    "4. You are training a classification model with 100 variables/features that achieves 95% accuracy in the training dataset. However, when you run it in the test dataset, you only get 60% accuracy. Which of the following options are valid approached to solve this problem?\n",
    "E (a and c)."
   ]
  },
  {
   "cell_type": "code",
   "execution_count": 2,
   "id": "df4c412a",
   "metadata": {},
   "outputs": [
    {
     "data": {
      "text/html": [
       "<div>\n",
       "<style scoped>\n",
       "    .dataframe tbody tr th:only-of-type {\n",
       "        vertical-align: middle;\n",
       "    }\n",
       "\n",
       "    .dataframe tbody tr th {\n",
       "        vertical-align: top;\n",
       "    }\n",
       "\n",
       "    .dataframe thead th {\n",
       "        text-align: right;\n",
       "    }\n",
       "</style>\n",
       "<table border=\"1\" class=\"dataframe\">\n",
       "  <thead>\n",
       "    <tr style=\"text-align: right;\">\n",
       "      <th></th>\n",
       "      <th>No</th>\n",
       "      <th>transaction_date</th>\n",
       "      <th>house_age</th>\n",
       "      <th>distance_to_the_nearest_MRT_station</th>\n",
       "      <th>number_of_convenience_stores</th>\n",
       "      <th>latitude</th>\n",
       "      <th>longitude</th>\n",
       "      <th>house_price_of_unit_area</th>\n",
       "    </tr>\n",
       "  </thead>\n",
       "  <tbody>\n",
       "    <tr>\n",
       "      <th>0</th>\n",
       "      <td>1</td>\n",
       "      <td>2012.917</td>\n",
       "      <td>32.0</td>\n",
       "      <td>84.87882</td>\n",
       "      <td>10</td>\n",
       "      <td>24.98298</td>\n",
       "      <td>121.54024</td>\n",
       "      <td>37.9</td>\n",
       "    </tr>\n",
       "    <tr>\n",
       "      <th>1</th>\n",
       "      <td>2</td>\n",
       "      <td>2012.917</td>\n",
       "      <td>19.5</td>\n",
       "      <td>306.59470</td>\n",
       "      <td>9</td>\n",
       "      <td>24.98034</td>\n",
       "      <td>121.53951</td>\n",
       "      <td>42.2</td>\n",
       "    </tr>\n",
       "    <tr>\n",
       "      <th>2</th>\n",
       "      <td>3</td>\n",
       "      <td>2013.583</td>\n",
       "      <td>13.3</td>\n",
       "      <td>561.98450</td>\n",
       "      <td>5</td>\n",
       "      <td>24.98746</td>\n",
       "      <td>121.54391</td>\n",
       "      <td>47.3</td>\n",
       "    </tr>\n",
       "    <tr>\n",
       "      <th>3</th>\n",
       "      <td>4</td>\n",
       "      <td>2013.500</td>\n",
       "      <td>13.3</td>\n",
       "      <td>561.98450</td>\n",
       "      <td>5</td>\n",
       "      <td>24.98746</td>\n",
       "      <td>121.54391</td>\n",
       "      <td>54.8</td>\n",
       "    </tr>\n",
       "    <tr>\n",
       "      <th>4</th>\n",
       "      <td>5</td>\n",
       "      <td>2012.833</td>\n",
       "      <td>5.0</td>\n",
       "      <td>390.56840</td>\n",
       "      <td>5</td>\n",
       "      <td>24.97937</td>\n",
       "      <td>121.54245</td>\n",
       "      <td>43.1</td>\n",
       "    </tr>\n",
       "  </tbody>\n",
       "</table>\n",
       "</div>"
      ],
      "text/plain": [
       "   No  transaction_date  house_age  distance_to_the_nearest_MRT_station  \\\n",
       "0   1          2012.917       32.0                             84.87882   \n",
       "1   2          2012.917       19.5                            306.59470   \n",
       "2   3          2013.583       13.3                            561.98450   \n",
       "3   4          2013.500       13.3                            561.98450   \n",
       "4   5          2012.833        5.0                            390.56840   \n",
       "\n",
       "   number_of_convenience_stores  latitude  longitude  house_price_of_unit_area  \n",
       "0                            10  24.98298  121.54024                      37.9  \n",
       "1                             9  24.98034  121.53951                      42.2  \n",
       "2                             5  24.98746  121.54391                      47.3  \n",
       "3                             5  24.98746  121.54391                      54.8  \n",
       "4                             5  24.97937  121.54245                      43.1  "
      ]
     },
     "execution_count": 2,
     "metadata": {},
     "output_type": "execute_result"
    }
   ],
   "source": [
    "import boto3\n",
    "import pandas as pd; pd.set_option('display.max_column', 100)\n",
    "import numpy as np\n",
    "\n",
    "\n",
    "## define bucket in which you are trying to reach\n",
    "s3 = boto3.resource('s3')\n",
    "bucket_name = 'daltondencklau-data445-bucket'\n",
    "bucket = s3.Bucket(bucket_name)\n",
    "\n",
    "\n",
    "## define csv file to read in the bucket\n",
    "file_key= 'Real_Estate.csv'\n",
    "\n",
    "## syntax to allow us to read the file\n",
    "bucket_object = bucket.Object(file_key)\n",
    "file_object = bucket_object.get()\n",
    "file_content_stream = file_object.get('Body')\n",
    "\n",
    "## reading the data file\n",
    "house_price = pd.read_csv(file_content_stream)\n",
    "house_price.head()"
   ]
  },
  {
   "cell_type": "markdown",
   "id": "7c70eb51",
   "metadata": {},
   "source": [
    "## Dropping the 'No' and 'transaction_date' column"
   ]
  },
  {
   "cell_type": "code",
   "execution_count": 3,
   "id": "69cbea91",
   "metadata": {},
   "outputs": [
    {
     "data": {
      "text/html": [
       "<div>\n",
       "<style scoped>\n",
       "    .dataframe tbody tr th:only-of-type {\n",
       "        vertical-align: middle;\n",
       "    }\n",
       "\n",
       "    .dataframe tbody tr th {\n",
       "        vertical-align: top;\n",
       "    }\n",
       "\n",
       "    .dataframe thead th {\n",
       "        text-align: right;\n",
       "    }\n",
       "</style>\n",
       "<table border=\"1\" class=\"dataframe\">\n",
       "  <thead>\n",
       "    <tr style=\"text-align: right;\">\n",
       "      <th></th>\n",
       "      <th>house_age</th>\n",
       "      <th>distance_to_the_nearest_MRT_station</th>\n",
       "      <th>number_of_convenience_stores</th>\n",
       "      <th>latitude</th>\n",
       "      <th>longitude</th>\n",
       "      <th>house_price_of_unit_area</th>\n",
       "    </tr>\n",
       "  </thead>\n",
       "  <tbody>\n",
       "    <tr>\n",
       "      <th>0</th>\n",
       "      <td>32.0</td>\n",
       "      <td>84.87882</td>\n",
       "      <td>10</td>\n",
       "      <td>24.98298</td>\n",
       "      <td>121.54024</td>\n",
       "      <td>37.9</td>\n",
       "    </tr>\n",
       "    <tr>\n",
       "      <th>1</th>\n",
       "      <td>19.5</td>\n",
       "      <td>306.59470</td>\n",
       "      <td>9</td>\n",
       "      <td>24.98034</td>\n",
       "      <td>121.53951</td>\n",
       "      <td>42.2</td>\n",
       "    </tr>\n",
       "    <tr>\n",
       "      <th>2</th>\n",
       "      <td>13.3</td>\n",
       "      <td>561.98450</td>\n",
       "      <td>5</td>\n",
       "      <td>24.98746</td>\n",
       "      <td>121.54391</td>\n",
       "      <td>47.3</td>\n",
       "    </tr>\n",
       "    <tr>\n",
       "      <th>3</th>\n",
       "      <td>13.3</td>\n",
       "      <td>561.98450</td>\n",
       "      <td>5</td>\n",
       "      <td>24.98746</td>\n",
       "      <td>121.54391</td>\n",
       "      <td>54.8</td>\n",
       "    </tr>\n",
       "    <tr>\n",
       "      <th>4</th>\n",
       "      <td>5.0</td>\n",
       "      <td>390.56840</td>\n",
       "      <td>5</td>\n",
       "      <td>24.97937</td>\n",
       "      <td>121.54245</td>\n",
       "      <td>43.1</td>\n",
       "    </tr>\n",
       "  </tbody>\n",
       "</table>\n",
       "</div>"
      ],
      "text/plain": [
       "   house_age  distance_to_the_nearest_MRT_station  \\\n",
       "0       32.0                             84.87882   \n",
       "1       19.5                            306.59470   \n",
       "2       13.3                            561.98450   \n",
       "3       13.3                            561.98450   \n",
       "4        5.0                            390.56840   \n",
       "\n",
       "   number_of_convenience_stores  latitude  longitude  house_price_of_unit_area  \n",
       "0                            10  24.98298  121.54024                      37.9  \n",
       "1                             9  24.98034  121.53951                      42.2  \n",
       "2                             5  24.98746  121.54391                      47.3  \n",
       "3                             5  24.98746  121.54391                      54.8  \n",
       "4                             5  24.97937  121.54245                      43.1  "
      ]
     },
     "execution_count": 3,
     "metadata": {},
     "output_type": "execute_result"
    }
   ],
   "source": [
    "house_price = house_price.drop(columns = ['No', 'transaction_date'], axis =1)\n",
    "house_price.head()"
   ]
  },
  {
   "cell_type": "markdown",
   "id": "3e12e311",
   "metadata": {},
   "source": [
    "## Builiding Linear Regression Model 1"
   ]
  },
  {
   "cell_type": "code",
   "execution_count": 4,
   "id": "c29dcb50",
   "metadata": {},
   "outputs": [],
   "source": [
    "from sklearn.model_selection import train_test_split\n",
    "\n",
    "## defining input and target variables\n",
    "X = house_price.drop(columns = 'house_price_of_unit_area', axis =1)\n",
    "Y = house_price['house_price_of_unit_area']\n",
    "\n",
    "## splitting the data into 80% training and 20% testing\n",
    "X_train, X_test, Y_train, Y_test = train_test_split(X, Y, test_size = .2)"
   ]
  },
  {
   "cell_type": "code",
   "execution_count": 5,
   "id": "8278cebf",
   "metadata": {},
   "outputs": [],
   "source": [
    "## building the linear regression model\n",
    "from sklearn.linear_model import LinearRegression\n",
    "lm_md = LinearRegression().fit(X_train, Y_train)"
   ]
  },
  {
   "cell_type": "code",
   "execution_count": 7,
   "id": "066700ad",
   "metadata": {},
   "outputs": [
    {
     "data": {
      "text/plain": [
       "array([50.53573398, 46.00845592, 28.19087542, 31.06819232, 37.13619368,\n",
       "       32.63780019, 45.86335389, 43.02905892, 45.52042777, 52.16817627,\n",
       "       49.71034352, 42.70132979, 48.99765247, 45.54541037, 35.22923655,\n",
       "       40.50919976, 45.39900241, 14.71677118, 44.00462784, 41.35817397,\n",
       "       39.74781885, 33.63601624, 24.77629876, 37.73336787, 32.42602105,\n",
       "       42.15290713, 27.65115717, 43.10037692, 28.72545008, 45.79608327,\n",
       "       34.63723882, 42.23911125, 41.22147196, 14.68775077, 40.33687109,\n",
       "       14.39542882, 36.94531916, 38.61201083, 45.80531308, 30.83421898,\n",
       "       45.14324935, 48.78409521, 33.20252074, 41.97518414, 29.56752561,\n",
       "       42.43079017, 39.60756077, 41.55481775, 13.30791978, 45.60345118,\n",
       "       31.61776993, 39.09881723, 41.39995609, 25.54845561, 24.44771316,\n",
       "       30.35532946, 45.9213947 , 33.83427599, 41.66526219, 31.53853345,\n",
       "       46.8183134 , 45.68335296, 39.82170868, 33.67751852, 39.87865877,\n",
       "        6.16635742, 46.2128797 , 42.25152371, 33.11545952,  6.22439823,\n",
       "       42.91343451, 30.37805406, 40.03268878, 45.60345118, 31.64885613,\n",
       "       43.60120288, 31.76287196, 52.22621708, 40.36409773, 46.50927491,\n",
       "       39.1003126 , 31.22653747, 44.84015254])"
      ]
     },
     "execution_count": 7,
     "metadata": {},
     "output_type": "execute_result"
    }
   ],
   "source": [
    "## predicting on the testing dataset\n",
    "lm_preds = lm_md.predict(X_test)\n",
    "lm_preds"
   ]
  },
  {
   "cell_type": "code",
   "execution_count": 8,
   "id": "589a2672",
   "metadata": {},
   "outputs": [
    {
     "data": {
      "text/plain": [
       "76.55178749724845"
      ]
     },
     "execution_count": 8,
     "metadata": {},
     "output_type": "execute_result"
    }
   ],
   "source": [
    "## calculating the MSE for model 1\n",
    "np.mean((Y_test -lm_preds)**2)"
   ]
  },
  {
   "cell_type": "code",
   "execution_count": null,
   "id": "b2e69c2b",
   "metadata": {},
   "outputs": [],
   "source": [
    "## The MSE for model 1 is 76.552."
   ]
  },
  {
   "cell_type": "markdown",
   "id": "ac65d83d",
   "metadata": {},
   "source": [
    "## Building Linear Regression Model 2"
   ]
  },
  {
   "cell_type": "code",
   "execution_count": 16,
   "id": "a8a7eaf1",
   "metadata": {},
   "outputs": [],
   "source": [
    "## defining input and target variables\n",
    "X2 = house_price[['house_age', 'distance_to_the_nearest_MRT_station', 'number_of_convenience_stores', 'latitude', 'longitude']]\n",
    "Y2 = house_price['house_price_of_unit_area']\n",
    "X_train, X_test, Y_train, Y_test = train_test_split(X, Y, test_size = .2)"
   ]
  },
  {
   "cell_type": "code",
   "execution_count": 17,
   "id": "404447e3",
   "metadata": {},
   "outputs": [],
   "source": [
    "## building the linear regression model\n",
    "\n",
    "lm_md_2 = LinearRegression().fit(X_train, Y_train)"
   ]
  },
  {
   "cell_type": "code",
   "execution_count": 18,
   "id": "5c67234e",
   "metadata": {},
   "outputs": [
    {
     "data": {
      "text/plain": [
       "array([42.24723772, 22.6766526 , 51.68199896, 40.86965119, 33.10142822,\n",
       "       35.36169179, 46.84716191, 32.21086022, 14.67663606, 40.01878522,\n",
       "       32.99207479, 42.58344098, 41.83977031, 48.59662356, 51.91650491,\n",
       "       29.82003048, 45.52252223, 47.82980159, 50.12567498, 41.07274869,\n",
       "       49.21238086, 11.19544567, 26.30229655, 33.43331908, 33.06470402,\n",
       "       40.63927657, 38.38855768, 41.93417505, 14.6036769 , 24.53078554,\n",
       "       41.34525156, 14.87013838, 51.74062545, 50.43777789, 30.30978443,\n",
       "       32.35157131, 31.25441094,  1.51653615, 41.2010525 , 53.72662038,\n",
       "       48.8202504 , 46.25537127, 34.41816157, 49.02544311, 49.97668896,\n",
       "        7.13613269, 37.8926787 , 36.29013751, 50.30155445, 33.87686831,\n",
       "       48.81937434, 21.21748646, 40.87039335, 35.23770853, 33.96480804,\n",
       "       35.26702178, 46.64093062, 33.9354948 , 51.85787843, 45.90809953,\n",
       "       42.08853315, 36.63684084, 50.5710431 , 41.83977031, 39.37072352,\n",
       "       46.05466575, 14.77955636, 33.06986218, 48.8202504 , 38.8019719 ,\n",
       "       50.43777789, 14.60431592, 39.07604002, 21.64638206, 39.93084549,\n",
       "       53.63868065, 30.93401236, 41.29810741, 13.89665694, 42.11158524,\n",
       "       43.77891267, 42.97701988, 30.47887846])"
      ]
     },
     "execution_count": 18,
     "metadata": {},
     "output_type": "execute_result"
    }
   ],
   "source": [
    "## predicting on the testing dataset\n",
    "\n",
    "lm_preds_2 = lm_md_2.predict(X_test)\n",
    "lm_preds_2"
   ]
  },
  {
   "cell_type": "code",
   "execution_count": 19,
   "id": "39c2c389",
   "metadata": {},
   "outputs": [
    {
     "data": {
      "text/plain": [
       "385.0874379887391"
      ]
     },
     "execution_count": 19,
     "metadata": {},
     "output_type": "execute_result"
    }
   ],
   "source": [
    "## calculating the MSE for model 2\n",
    "\n",
    "np.mean((Y_test -lm_preds)**2)"
   ]
  },
  {
   "cell_type": "code",
   "execution_count": null,
   "id": "7ee2bb28",
   "metadata": {},
   "outputs": [],
   "source": [
    "## The MSE for model 2 is 385.0878"
   ]
  },
  {
   "cell_type": "code",
   "execution_count": null,
   "id": "0ea3a008",
   "metadata": {},
   "outputs": [],
   "source": [
    "## Based on the MSE from both of these models, I would select the first model because the MSE value is lower."
   ]
  },
  {
   "cell_type": "markdown",
   "id": "fc6f8302",
   "metadata": {},
   "source": [
    "## DO I NEED TO SPLIT THE DATA INTO 80/20 FOR BOTH MODELS OR JUST ONCE?"
   ]
  },
  {
   "cell_type": "code",
   "execution_count": null,
   "id": "6cab96f5",
   "metadata": {},
   "outputs": [],
   "source": []
  }
 ],
 "metadata": {
  "kernelspec": {
   "display_name": "conda_python3",
   "language": "python",
   "name": "conda_python3"
  },
  "language_info": {
   "codemirror_mode": {
    "name": "ipython",
    "version": 3
   },
   "file_extension": ".py",
   "mimetype": "text/x-python",
   "name": "python",
   "nbconvert_exporter": "python",
   "pygments_lexer": "ipython3",
   "version": "3.8.12"
  }
 },
 "nbformat": 4,
 "nbformat_minor": 5
}
