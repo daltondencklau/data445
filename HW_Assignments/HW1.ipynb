{
 "cells": [
  {
   "cell_type": "markdown",
   "id": "cd3daaf3",
   "metadata": {},
   "source": [
    "## Exercises"
   ]
  },
  {
   "cell_type": "markdown",
   "id": "481135f0",
   "metadata": {},
   "source": [
    "1. What type of algorithm would you use to segment a company customers database into multiple groups?\n",
    "I would use a clustering agorithm, such as K-means. This kind of algorithm would group similar observations in the same group or cluster."
   ]
  },
  {
   "cell_type": "markdown",
   "id": "1eed3e4b",
   "metadata": {},
   "source": [
    "2. Would you frame the problem of spam detection as a supervised learning problem or an unsupervised learning problem? Explain.\n",
    "I would frame spam deterction as supervised learning because there is a clear goal: spam or not spam. Unsupervised learning has no target variable to be modeled and is used to observe new patterns in datasets."
   ]
  },
  {
   "cell_type": "markdown",
   "id": "03b89a63",
   "metadata": {},
   "source": [
    "3. What is a test set, and why would you want to use it?\n",
    "A test set is the portion of the dataset that you will use to test how well/effective your model is after it's trained on the training dataset."
   ]
  },
  {
   "cell_type": "markdown",
   "id": "55d5aa39",
   "metadata": {},
   "source": [
    "4. You are training a classification model with 100 variables/features that achieves 95% accuracy in the training dataset. However, when you run it in the test dataset, you only get 60% accuracy. Which of the following options are valid approached to solve this problem?\n",
    "E (a and c)."
   ]
  },
  {
   "cell_type": "code",
   "execution_count": 9,
   "id": "cbf11a7d",
   "metadata": {},
   "outputs": [
    {
     "data": {
      "text/html": [
       "<div>\n",
       "<style scoped>\n",
       "    .dataframe tbody tr th:only-of-type {\n",
       "        vertical-align: middle;\n",
       "    }\n",
       "\n",
       "    .dataframe tbody tr th {\n",
       "        vertical-align: top;\n",
       "    }\n",
       "\n",
       "    .dataframe thead th {\n",
       "        text-align: right;\n",
       "    }\n",
       "</style>\n",
       "<table border=\"1\" class=\"dataframe\">\n",
       "  <thead>\n",
       "    <tr style=\"text-align: right;\">\n",
       "      <th></th>\n",
       "      <th>No</th>\n",
       "      <th>transaction_date</th>\n",
       "      <th>house_age</th>\n",
       "      <th>distance_to_the_nearest_MRT_station</th>\n",
       "      <th>number_of_convenience_stores</th>\n",
       "      <th>latitude</th>\n",
       "      <th>longitude</th>\n",
       "      <th>house_price_of_unit_area</th>\n",
       "    </tr>\n",
       "  </thead>\n",
       "  <tbody>\n",
       "    <tr>\n",
       "      <th>0</th>\n",
       "      <td>1</td>\n",
       "      <td>2012.917</td>\n",
       "      <td>32.0</td>\n",
       "      <td>84.87882</td>\n",
       "      <td>10</td>\n",
       "      <td>24.98298</td>\n",
       "      <td>121.54024</td>\n",
       "      <td>37.9</td>\n",
       "    </tr>\n",
       "    <tr>\n",
       "      <th>1</th>\n",
       "      <td>2</td>\n",
       "      <td>2012.917</td>\n",
       "      <td>19.5</td>\n",
       "      <td>306.59470</td>\n",
       "      <td>9</td>\n",
       "      <td>24.98034</td>\n",
       "      <td>121.53951</td>\n",
       "      <td>42.2</td>\n",
       "    </tr>\n",
       "    <tr>\n",
       "      <th>2</th>\n",
       "      <td>3</td>\n",
       "      <td>2013.583</td>\n",
       "      <td>13.3</td>\n",
       "      <td>561.98450</td>\n",
       "      <td>5</td>\n",
       "      <td>24.98746</td>\n",
       "      <td>121.54391</td>\n",
       "      <td>47.3</td>\n",
       "    </tr>\n",
       "    <tr>\n",
       "      <th>3</th>\n",
       "      <td>4</td>\n",
       "      <td>2013.500</td>\n",
       "      <td>13.3</td>\n",
       "      <td>561.98450</td>\n",
       "      <td>5</td>\n",
       "      <td>24.98746</td>\n",
       "      <td>121.54391</td>\n",
       "      <td>54.8</td>\n",
       "    </tr>\n",
       "    <tr>\n",
       "      <th>4</th>\n",
       "      <td>5</td>\n",
       "      <td>2012.833</td>\n",
       "      <td>5.0</td>\n",
       "      <td>390.56840</td>\n",
       "      <td>5</td>\n",
       "      <td>24.97937</td>\n",
       "      <td>121.54245</td>\n",
       "      <td>43.1</td>\n",
       "    </tr>\n",
       "  </tbody>\n",
       "</table>\n",
       "</div>"
      ],
      "text/plain": [
       "   No  transaction_date  house_age  distance_to_the_nearest_MRT_station  \\\n",
       "0   1          2012.917       32.0                             84.87882   \n",
       "1   2          2012.917       19.5                            306.59470   \n",
       "2   3          2013.583       13.3                            561.98450   \n",
       "3   4          2013.500       13.3                            561.98450   \n",
       "4   5          2012.833        5.0                            390.56840   \n",
       "\n",
       "   number_of_convenience_stores  latitude  longitude  house_price_of_unit_area  \n",
       "0                            10  24.98298  121.54024                      37.9  \n",
       "1                             9  24.98034  121.53951                      42.2  \n",
       "2                             5  24.98746  121.54391                      47.3  \n",
       "3                             5  24.98746  121.54391                      54.8  \n",
       "4                             5  24.97937  121.54245                      43.1  "
      ]
     },
     "execution_count": 9,
     "metadata": {},
     "output_type": "execute_result"
    }
   ],
   "source": [
    "import boto3\n",
    "import pandas as pd; pd.set_option('display.max_column', 100)\n",
    "import numpy as np\n",
    "import matplotlib.pyplot as plt\n",
    "\n",
    "## define bucket in which you are trying to reach\n",
    "s3 = boto3.resource('s3')\n",
    "bucket_name = 'daltondencklau-data445-bucket'\n",
    "bucket = s3.Bucket(bucket_name)\n",
    "\n",
    "\n",
    "## define csv file to read in the bucket\n",
    "file_key= 'Real_Estate.csv'\n",
    "\n",
    "## syntax to allow us to read the file\n",
    "bucket_object = bucket.Object(file_key)\n",
    "file_object = bucket_object.get()\n",
    "file_content_stream = file_object.get('Body')\n",
    "\n",
    "## reading the data file\n",
    "house_price = pd.read_csv(file_content_stream)\n",
    "house_price.head()"
   ]
  },
  {
   "cell_type": "markdown",
   "id": "36856016",
   "metadata": {},
   "source": [
    "## Dropping the 'No' and 'transaction_date' column"
   ]
  },
  {
   "cell_type": "code",
   "execution_count": 10,
   "id": "32e5befd",
   "metadata": {},
   "outputs": [
    {
     "data": {
      "text/html": [
       "<div>\n",
       "<style scoped>\n",
       "    .dataframe tbody tr th:only-of-type {\n",
       "        vertical-align: middle;\n",
       "    }\n",
       "\n",
       "    .dataframe tbody tr th {\n",
       "        vertical-align: top;\n",
       "    }\n",
       "\n",
       "    .dataframe thead th {\n",
       "        text-align: right;\n",
       "    }\n",
       "</style>\n",
       "<table border=\"1\" class=\"dataframe\">\n",
       "  <thead>\n",
       "    <tr style=\"text-align: right;\">\n",
       "      <th></th>\n",
       "      <th>house_age</th>\n",
       "      <th>distance_to_the_nearest_MRT_station</th>\n",
       "      <th>number_of_convenience_stores</th>\n",
       "      <th>latitude</th>\n",
       "      <th>longitude</th>\n",
       "      <th>house_price_of_unit_area</th>\n",
       "    </tr>\n",
       "  </thead>\n",
       "  <tbody>\n",
       "    <tr>\n",
       "      <th>0</th>\n",
       "      <td>32.0</td>\n",
       "      <td>84.87882</td>\n",
       "      <td>10</td>\n",
       "      <td>24.98298</td>\n",
       "      <td>121.54024</td>\n",
       "      <td>37.9</td>\n",
       "    </tr>\n",
       "    <tr>\n",
       "      <th>1</th>\n",
       "      <td>19.5</td>\n",
       "      <td>306.59470</td>\n",
       "      <td>9</td>\n",
       "      <td>24.98034</td>\n",
       "      <td>121.53951</td>\n",
       "      <td>42.2</td>\n",
       "    </tr>\n",
       "    <tr>\n",
       "      <th>2</th>\n",
       "      <td>13.3</td>\n",
       "      <td>561.98450</td>\n",
       "      <td>5</td>\n",
       "      <td>24.98746</td>\n",
       "      <td>121.54391</td>\n",
       "      <td>47.3</td>\n",
       "    </tr>\n",
       "    <tr>\n",
       "      <th>3</th>\n",
       "      <td>13.3</td>\n",
       "      <td>561.98450</td>\n",
       "      <td>5</td>\n",
       "      <td>24.98746</td>\n",
       "      <td>121.54391</td>\n",
       "      <td>54.8</td>\n",
       "    </tr>\n",
       "    <tr>\n",
       "      <th>4</th>\n",
       "      <td>5.0</td>\n",
       "      <td>390.56840</td>\n",
       "      <td>5</td>\n",
       "      <td>24.97937</td>\n",
       "      <td>121.54245</td>\n",
       "      <td>43.1</td>\n",
       "    </tr>\n",
       "  </tbody>\n",
       "</table>\n",
       "</div>"
      ],
      "text/plain": [
       "   house_age  distance_to_the_nearest_MRT_station  \\\n",
       "0       32.0                             84.87882   \n",
       "1       19.5                            306.59470   \n",
       "2       13.3                            561.98450   \n",
       "3       13.3                            561.98450   \n",
       "4        5.0                            390.56840   \n",
       "\n",
       "   number_of_convenience_stores  latitude  longitude  house_price_of_unit_area  \n",
       "0                            10  24.98298  121.54024                      37.9  \n",
       "1                             9  24.98034  121.53951                      42.2  \n",
       "2                             5  24.98746  121.54391                      47.3  \n",
       "3                             5  24.98746  121.54391                      54.8  \n",
       "4                             5  24.97937  121.54245                      43.1  "
      ]
     },
     "execution_count": 10,
     "metadata": {},
     "output_type": "execute_result"
    }
   ],
   "source": [
    "house_price = house_price.drop(columns = ['No', 'transaction_date'], axis =1)\n",
    "house_price.head()"
   ]
  },
  {
   "cell_type": "markdown",
   "id": "7a72159e",
   "metadata": {},
   "source": [
    "## Builiding Linear Regression Model 1"
   ]
  },
  {
   "cell_type": "code",
   "execution_count": 21,
   "id": "b1885467",
   "metadata": {},
   "outputs": [],
   "source": [
    "from sklearn.model_selection import train_test_split\n",
    "\n",
    "## defining input and target variables\n",
    "X = house_price.drop(columns = 'house_price_of_unit_area', axis =1)\n",
    "Y = house_price['house_price_of_unit_area']\n",
    "\n",
    "## splitting the data into 80% training and 20% testing\n",
    "X_train, X_test, Y_train, Y_test = train_test_split(X, Y, test_size = .2)"
   ]
  },
  {
   "cell_type": "code",
   "execution_count": 22,
   "id": "5eae445f",
   "metadata": {},
   "outputs": [],
   "source": [
    "## building the linear regression model\n",
    "from sklearn.linear_model import LinearRegression\n",
    "lm_md = LinearRegression().fit(X_train, Y_train)"
   ]
  },
  {
   "cell_type": "code",
   "execution_count": 23,
   "id": "d1904456",
   "metadata": {},
   "outputs": [
    {
     "data": {
      "text/plain": [
       "array([51.7413717 , 29.51080917, 12.46229439, 31.8656718 , 32.76590465,\n",
       "       40.26348059, 14.36139229, 39.82634563, 35.85174574, 14.57000965,\n",
       "       11.73954593, 41.28106417, 43.27314403, 39.89614275, 29.93260935,\n",
       "       30.65910564, 29.45565433, 38.05798265, 45.29916806, 47.24276137,\n",
       "       38.90996049, 41.88587595, 50.00313907, 31.08781976, 47.82992917,\n",
       "       47.24276137, 13.07230068, 44.50856666, 25.65125672, 33.70031197,\n",
       "       44.73647877, 29.16295488, 27.77472655, 40.58974394, 47.24276137,\n",
       "       44.97142188, 44.67687381, 53.22068566, 42.76372087, 23.26633971,\n",
       "       30.16881458, 30.41494038, 46.77735052, 37.0461214 , 51.77117418,\n",
       "       45.7794203 , 38.28070972, 46.03960375, 13.80108757, 41.16185425,\n",
       "       32.52781186, 43.14392064, 14.75476693, 47.63341804, 33.76346413,\n",
       "       44.17801589, 46.45177835, 39.79641835, 49.56257636, 43.08021314,\n",
       "       34.37713283, 46.02241711, 33.56489653, 13.52833403, 13.52833403,\n",
       "       46.36237091, 51.94998906, 44.88549117, 41.92962455, 39.4918969 ,\n",
       "       29.21513522, 31.18339253, 46.36237091, 41.15779685, 41.3771825 ,\n",
       "       48.865989  , 40.85443342, 23.29385019, 43.87106103, 40.46472275,\n",
       "       42.77326408, 33.18051885, 50.93787838])"
      ]
     },
     "execution_count": 23,
     "metadata": {},
     "output_type": "execute_result"
    }
   ],
   "source": [
    "## predicting on the testing dataset\n",
    "lm_preds = lm_md.predict(X_test)\n",
    "lm_preds"
   ]
  },
  {
   "cell_type": "code",
   "execution_count": 24,
   "id": "a57acdf2",
   "metadata": {},
   "outputs": [
    {
     "data": {
      "text/plain": [
       "107.67014792289746"
      ]
     },
     "execution_count": 24,
     "metadata": {},
     "output_type": "execute_result"
    }
   ],
   "source": [
    "## calculating the MSE for model 1\n",
    "np.mean((Y_test - lm_preds)**2)"
   ]
  },
  {
   "cell_type": "code",
   "execution_count": 25,
   "id": "d26d40d6",
   "metadata": {},
   "outputs": [
    {
     "data": {
      "image/png": "[encoded data removed]",
      "text/plain": [
       "<Figure size 432x288 with 1 Axes>"
      ]
     },
     "metadata": {
      "needs_background": "light"
     },
     "output_type": "display_data"
    }
   ],
   "source": [
    "## visualizing results\n",
    "import matplotlib.pyplot as plt\n",
    "plt.scatter(lm_preds, Y_test)\n",
    "plt.xlabel('linear model predictions')\n",
    "plt.ylabel('actual values')\n",
    "plt.show()"
   ]
  },
  {
   "cell_type": "code",
   "execution_count": 8,
   "id": "abca9a9e",
   "metadata": {},
   "outputs": [],
   "source": [
    "## The MSE for model 1 is 81.7"
   ]
  },
  {
   "cell_type": "markdown",
   "id": "8a614aa0",
   "metadata": {},
   "source": [
    "## Building Linear Regression Model 2"
   ]
  },
  {
   "cell_type": "code",
   "execution_count": 16,
   "id": "115ca629",
   "metadata": {},
   "outputs": [],
   "source": [
    "## defining input and target variables\n",
    "X2 = house_price[['house_age', 'distance_to_the_nearest_MRT_station', 'number_of_convenience_stores', 'latitude', 'longitude']]\n",
    "Y2 = house_price['house_price_of_unit_area']"
   ]
  },
  {
   "cell_type": "code",
   "execution_count": 17,
   "id": "a9e8b0b0",
   "metadata": {},
   "outputs": [],
   "source": [
    "## building the linear regression model\n",
    "lm_md_2 = LinearRegression().fit(X_train.drop(columns = ['distance_to_the_nearest_MRT_station'], axis = 1), Y_train)"
   ]
  },
  {
   "cell_type": "code",
   "execution_count": 18,
   "id": "877bd68f",
   "metadata": {},
   "outputs": [
    {
     "data": {
      "text/plain": [
       "array([31.60410233, 36.2122565 , 52.7392599 , 56.9696593 , 35.62574771,\n",
       "       41.05675868, 38.7455773 , 29.45047288, 14.96801356, 42.11129387,\n",
       "       35.86228725, 37.66588685, 43.02549964, 40.38654397, 56.13639165,\n",
       "       30.52175066, 52.96362336, 16.81277133, 13.40130753, 44.85039334,\n",
       "       42.96940878, 52.83072124, 51.23818313, 46.39434711, 52.71121447,\n",
       "       49.33808909, 44.95642853, 16.89722358, 30.05689713, 42.21760182,\n",
       "       32.31506425, 49.62096905, 17.40749395, 39.10404576, 33.39526994,\n",
       "       20.66439999, 35.01320055, 46.63605361, 40.33344979, 46.54281687,\n",
       "       29.34596884, 46.27311915, 29.44142823, 32.73500639, 36.10597704,\n",
       "       17.71295157, 35.57157272, 37.13317367, 45.89371606, 37.13818331,\n",
       "       30.6365378 , 35.1493497 , 44.14023895, 40.49899712, 17.68490614,\n",
       "       27.08594895, 42.91331791, 35.01493374, 38.9340638 , 14.88387726,\n",
       "       49.45502752, 46.26764959, 34.10491163, 45.93587376, 36.38448438,\n",
       "       38.98454063, 32.28701882, 43.45204023, 43.61207938, 54.41267547,\n",
       "       41.79859111, 20.74397865, 35.67347075, 39.69852096, 48.48961398,\n",
       "       28.60757475, 45.06807122, 20.73562485, 37.64445084, 49.22655019,\n",
       "       52.83072124, 10.03617634, 38.63247185])"
      ]
     },
     "execution_count": 18,
     "metadata": {},
     "output_type": "execute_result"
    }
   ],
   "source": [
    "## predicting on the testing dataset\n",
    "lm_preds_2 = lm_md_2.predict(X_test.drop(columns = ['distance_to_the_nearest_MRT_station'], axis = 1))\n",
    "lm_preds_2"
   ]
  },
  {
   "cell_type": "code",
   "execution_count": 20,
   "id": "36906d0c",
   "metadata": {},
   "outputs": [
    {
     "data": {
      "text/plain": [
       "80.00569203443483"
      ]
     },
     "execution_count": 20,
     "metadata": {},
     "output_type": "execute_result"
    }
   ],
   "source": [
    "## calculating the MSE for model 2\n",
    "np.mean((Y_test -lm_preds_2)**2)"
   ]
  },
  {
   "cell_type": "code",
   "execution_count": 13,
   "id": "433fc280",
   "metadata": {},
   "outputs": [],
   "source": [
    "## The MSE for model 2 is 127.1."
   ]
  },
  {
   "cell_type": "code",
   "execution_count": 14,
   "id": "5a06255b",
   "metadata": {},
   "outputs": [],
   "source": [
    "## Based on the MSE from both of these models, I would select the first model because the MSE value is lower."
   ]
  },
  {
   "cell_type": "markdown",
   "id": "755103ab",
   "metadata": {},
   "source": [
    "## Reating above steps 100 times"
   ]
  },
  {
   "cell_type": "code",
   "execution_count": 20,
   "id": "32552bc0",
   "metadata": {},
   "outputs": [
    {
     "name": "stdout",
     "output_type": "stream",
     "text": [
      "    md1_results  md2_results\n",
      "0           NaN          NaN\n",
      "1           NaN          NaN\n",
      "2           NaN          NaN\n",
      "3           NaN          NaN\n",
      "4           NaN          NaN\n",
      "..          ...          ...\n",
      "95          NaN          NaN\n",
      "96          NaN          NaN\n",
      "97          NaN          NaN\n",
      "98          NaN          NaN\n",
      "99          NaN          NaN\n",
      "\n",
      "[100 rows x 2 columns]\n",
      "The mse of model 1 is:  76.5064228911402\n",
      "The mse of model 2 is:  82.90528254534546\n",
      "    md1_results  md2_results\n",
      "0    132.346802   147.812195\n",
      "1     75.130584    88.426193\n",
      "2     48.134225    45.052608\n",
      "3     76.375415    80.379918\n",
      "4    141.985745   156.005451\n",
      "..          ...          ...\n",
      "95    73.927887    84.532239\n",
      "96    46.108595    43.078647\n",
      "97    61.806008    63.120460\n",
      "98    72.853171    81.539287\n",
      "99   117.056624   133.973496\n",
      "\n",
      "[100 rows x 2 columns]\n"
     ]
    }
   ],
   "source": [
    "MSE_results = pd.DataFrame({'md1_results': np.repeat(np.nan, 100), 'md2_results': np.repeat(np.nan, 100)})\n",
    "\n",
    "## defining input and target variables for model 1\n",
    "X = house_price.drop(columns = 'house_price_of_unit_area', axis =1)\n",
    "Y = house_price['house_price_of_unit_area']\n",
    "\n",
    "## defining input and target variables for model 2\n",
    "X2 = house_price.drop(columns = ['distance_to_the_nearest_MRT_station'], axis = 1)\n",
    "Y2 = house_price['house_price_of_unit_area']\n",
    "\n",
    "for i in range(0,100):\n",
    "    X_train, X_test, Y_train, Y_test = train_test_split(X, Y, test_size = .2)\n",
    "    md1 = LinearRegression().fit(X_train, Y_train)\n",
    "    \n",
    "    md2 = LinearRegression().fit(X_train.drop(columns = ['distance_to_the_nearest_MRT_station'], axis = 1), Y_train)\n",
    "    \n",
    "    ## predicting on the test dataset\n",
    "    md1_preds = md1.predict(X_test)\n",
    "    md2_preds = md2.predict(X_test.drop(columns = ['distance_to_the_nearest_MRT_station'], axis = 1))\n",
    "    \n",
    "    ## computing MSE\n",
    "    mse1 = np.mean((Y_test - md1_preds)**2)\n",
    "    mse2 = np.mean((Y_test - md2_preds)**2)\n",
    "    MSE_results['md1_results'][i] = mse1\n",
    "    MSE_results['md2_results'][i] = mse2\n",
    "    \n",
    "print('The mse of model 1 is: ', MSE_results['md1_results'].mean())\n",
    "print('The mse of model 2 is: ', MSE_results['md2_results'].mean())\n",
    "print(MSE_results)"
   ]
  },
  {
   "cell_type": "code",
   "execution_count": 23,
   "id": "00b3a35c",
   "metadata": {},
   "outputs": [
    {
     "name": "stdout",
     "output_type": "stream",
     "text": [
      "    md1_results  md2_results\n",
      "0    132.346802   147.812195\n",
      "1     75.130584    88.426193\n",
      "2     48.134225    45.052608\n",
      "3     76.375415    80.379918\n",
      "4    141.985745   156.005451\n",
      "5     84.171891    90.907931\n",
      "6     56.833019    56.192403\n",
      "7     69.748835    76.685332\n",
      "8     45.134687    44.741458\n",
      "9     48.542408    43.862564\n",
      "10    79.936026    78.853559\n",
      "11    65.597763    80.613525\n",
      "12    55.773311    68.307996\n",
      "13    47.797506    44.508379\n",
      "14    76.434654    70.268470\n",
      "15    70.827586    72.648486\n",
      "16    50.634705    57.664336\n",
      "17   138.590777   150.601024\n",
      "18    58.040744    66.934598\n",
      "19    90.522650    95.003467\n",
      "20    60.070434    71.099135\n",
      "21    48.558830    52.989346\n",
      "22    71.389460    74.175438\n",
      "23    39.882550    45.196576\n",
      "24    71.473556    72.483055\n",
      "25    53.320682    64.357721\n",
      "26   131.720461   140.364505\n",
      "27    85.588142    88.428656\n",
      "28    78.949677    88.162167\n",
      "29    58.617034    56.234658\n",
      "30   115.913048   129.201635\n",
      "31    55.034392    55.876616\n",
      "32    73.100693    73.106907\n",
      "33    71.775714    71.881869\n",
      "34    76.549057    78.699102\n",
      "35   148.857927   159.456763\n",
      "36    87.631087    92.458610\n",
      "37    53.082755    60.352252\n",
      "38    66.939960    70.816536\n",
      "39    61.464565    74.722936\n",
      "40    61.132314    65.311967\n",
      "41    88.613586    97.307382\n",
      "42   110.704011   124.452328\n",
      "43    76.786592    74.934946\n",
      "44   118.673137   133.699791\n",
      "45    78.765727    71.069464\n",
      "46    59.600456    72.266998\n",
      "47    63.237208    72.954496\n",
      "48    71.668344    76.530625\n",
      "49    68.890096    65.971713\n",
      "50    54.940944    60.786024\n",
      "51   138.042781   152.695551\n",
      "52    57.329044    57.766672\n",
      "53    52.809375    52.329318\n",
      "54    55.718263    63.762514\n",
      "55    94.352197    91.378376\n",
      "56    63.879901    66.459725\n",
      "57    44.218743    57.669231\n",
      "58    50.202270    55.125138\n",
      "59    58.382706    58.986802\n",
      "60    58.041289    61.148458\n",
      "61    69.576092    77.550361\n",
      "62    48.843558    57.447831\n",
      "63    67.490794    62.657144\n",
      "64   144.009287   150.652251\n",
      "65    84.746092    96.854587\n",
      "66    90.466562    96.290441\n",
      "67    49.503746    66.442919\n",
      "68   140.139612   156.139741\n",
      "69    58.952664    60.130738\n",
      "70   137.433978   151.738606\n",
      "71    91.241986    99.637976\n",
      "72    71.337550    67.314777\n",
      "73   143.655907   159.564564\n",
      "74    58.803732    73.114705\n",
      "75    66.159530    76.448560\n",
      "76    64.239343    65.466276\n",
      "77    63.788973    72.434934\n",
      "78    83.944107    86.968467\n",
      "79    58.163558    66.693840\n",
      "80    41.340604    56.362599\n",
      "81   128.868461   143.253337\n",
      "82    64.208271    67.806047\n",
      "83    77.808772    82.890827\n",
      "84    69.398170    76.762211\n",
      "85   134.227919   145.347904\n",
      "86    46.161777    48.116273\n",
      "87    61.024377    74.210815\n",
      "88    67.018556    69.178373\n",
      "89   119.063057   135.499813\n",
      "90    55.727648    60.944655\n",
      "91    47.918426    59.296042\n",
      "92    59.636278    73.122358\n",
      "93    58.001035    64.072352\n",
      "94   107.521246   115.729904\n",
      "95    73.927887    84.532239\n",
      "96    46.108595    43.078647\n",
      "97    61.806008    63.120460\n",
      "98    72.853171    81.539287\n",
      "99   117.056624   133.973496\n"
     ]
    }
   ],
   "source": [
    "## printing all observations\n",
    "print(MSE_results.to_string())"
   ]
  },
  {
   "cell_type": "markdown",
   "id": "9d2ff72d",
   "metadata": {},
   "source": [
    "### Visualizing results on a graph"
   ]
  },
  {
   "cell_type": "code",
   "execution_count": 8,
   "id": "c98e332e",
   "metadata": {},
   "outputs": [
    {
     "ename": "NameError",
     "evalue": "name 'MSE_results' is not defined",
     "output_type": "error",
     "traceback": [
      "\u001b[0;31m---------------------------------------------------------------------------\u001b[0m",
      "\u001b[0;31mNameError\u001b[0m                                 Traceback (most recent call last)",
      "\u001b[0;32m/tmp/ipykernel_21464/1871992915.py\u001b[0m in \u001b[0;36m<cell line: 1>\u001b[0;34m()\u001b[0m\n\u001b[0;32m----> 1\u001b[0;31m \u001b[0mplt\u001b[0m\u001b[0;34m.\u001b[0m\u001b[0mplot\u001b[0m\u001b[0;34m(\u001b[0m\u001b[0mMSE_results\u001b[0m\u001b[0;34m[\u001b[0m\u001b[0;34m'md1_results'\u001b[0m\u001b[0;34m]\u001b[0m\u001b[0;34m,\u001b[0m \u001b[0mcolor\u001b[0m \u001b[0;34m=\u001b[0m \u001b[0;34m'skyblue'\u001b[0m\u001b[0;34m)\u001b[0m\u001b[0;34m\u001b[0m\u001b[0;34m\u001b[0m\u001b[0m\n\u001b[0m\u001b[1;32m      2\u001b[0m \u001b[0mplt\u001b[0m\u001b[0;34m.\u001b[0m\u001b[0mplot\u001b[0m\u001b[0;34m(\u001b[0m\u001b[0mMSE_results\u001b[0m\u001b[0;34m[\u001b[0m\u001b[0;34m'md2_results'\u001b[0m\u001b[0;34m]\u001b[0m\u001b[0;34m,\u001b[0m \u001b[0mcolor\u001b[0m \u001b[0;34m=\u001b[0m \u001b[0;34m'salmon'\u001b[0m\u001b[0;34m)\u001b[0m\u001b[0;34m\u001b[0m\u001b[0;34m\u001b[0m\u001b[0m\n\u001b[1;32m      3\u001b[0m \u001b[0mplt\u001b[0m\u001b[0;34m.\u001b[0m\u001b[0mxlabel\u001b[0m\u001b[0;34m(\u001b[0m\u001b[0;34m'iteration'\u001b[0m\u001b[0;34m)\u001b[0m\u001b[0;34m\u001b[0m\u001b[0;34m\u001b[0m\u001b[0m\n\u001b[1;32m      4\u001b[0m \u001b[0mplt\u001b[0m\u001b[0;34m.\u001b[0m\u001b[0mylabel\u001b[0m\u001b[0;34m(\u001b[0m\u001b[0;34m'MSE'\u001b[0m\u001b[0;34m)\u001b[0m\u001b[0;34m\u001b[0m\u001b[0;34m\u001b[0m\u001b[0m\n\u001b[1;32m      5\u001b[0m \u001b[0mplt\u001b[0m\u001b[0;34m.\u001b[0m\u001b[0mlegend\u001b[0m\u001b[0;34m(\u001b[0m\u001b[0mloc\u001b[0m \u001b[0;34m=\u001b[0m \u001b[0;34m'upper right'\u001b[0m\u001b[0;34m,\u001b[0m \u001b[0mlabels\u001b[0m \u001b[0;34m=\u001b[0m \u001b[0;34m[\u001b[0m\u001b[0;34m'model 1'\u001b[0m\u001b[0;34m,\u001b[0m \u001b[0;34m'model 2'\u001b[0m\u001b[0;34m]\u001b[0m\u001b[0;34m)\u001b[0m\u001b[0;34m\u001b[0m\u001b[0;34m\u001b[0m\u001b[0m\n",
      "\u001b[0;31mNameError\u001b[0m: name 'MSE_results' is not defined"
     ]
    }
   ],
   "source": [
    "plt.plot(MSE_results['md1_results'], color = 'skyblue')\n",
    "plt.plot(MSE_results['md2_results'], color = 'salmon')\n",
    "plt.xlabel('iteration')\n",
    "plt.ylabel('MSE')\n",
    "plt.legend(loc = 'upper right', labels = ['model 1', 'model 2'])\n",
    "plt.grid()\n",
    "plt.show();"
   ]
  },
  {
   "cell_type": "code",
   "execution_count": 3,
   "id": "58466701",
   "metadata": {},
   "outputs": [],
   "source": [
    "## df['col']"
   ]
  },
  {
   "cell_type": "code",
   "execution_count": null,
   "id": "9924e468",
   "metadata": {},
   "outputs": [],
   "source": [
    "## based on the MSE Results and the model averages, I would choose Model 1 because it has a lower MSE value\n",
    "## on average. In the graph about, we can visuzlize that the model 1 (skyblue) has lower MSE values compared to\n",
    "## model 2 (salmon)."
   ]
  }
 ],
 "metadata": {
  "kernelspec": {
   "display_name": "conda_python3",
   "language": "python",
   "name": "conda_python3"
  },
  "language_info": {
   "codemirror_mode": {
    "name": "ipython",
    "version": 3
   },
   "file_extension": ".py",
   "mimetype": "text/x-python",
   "name": "python",
   "nbconvert_exporter": "python",
   "pygments_lexer": "ipython3",
   "version": "3.8.12"
  }
 },
 "nbformat": 4,
 "nbformat_minor": 5
}
