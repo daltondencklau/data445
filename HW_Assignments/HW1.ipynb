{
 "cells": [
  {
   "cell_type": "markdown",
   "id": "a504bf0d",
   "metadata": {},
   "source": [
    "## Exercises"
   ]
  },
  {
   "cell_type": "markdown",
   "id": "a9588fad",
   "metadata": {},
   "source": [
    "1. What type of algorithm would you use to segment a company customers database into multiple groups?\n",
    "I would use a clustering agorithm, such as K-means. This kind of algorithm would group similar observations in the same group or cluster."
   ]
  },
  {
   "cell_type": "markdown",
   "id": "1652e875",
   "metadata": {},
   "source": [
    "2. Would you frame the problem of spam detection as a supervised learning problem or an unsupervised learning problem? Explain.\n",
    "I would frame spam deterction as supervised learning because there is a clear goal: spam or not spam. Unsupervised learning has no target variable to be modeled and is used to observe new patterns in datasets."
   ]
  },
  {
   "cell_type": "markdown",
   "id": "6d4fa5f2",
   "metadata": {},
   "source": [
    "3. What is a test set, and why would you want to use it?\n",
    "A test set is the portion of the dataset that you will use to test how well/effective your model is after it's trained on the training dataset."
   ]
  },
  {
   "cell_type": "markdown",
   "id": "bca061d7",
   "metadata": {},
   "source": [
    "4. You are training a classification model with 100 variables/features that achieves 95% accuracy in the training dataset. However, when you run it in the test dataset, you only get 60% accuracy. Which of the following options are valid approached to solve this problem?\n",
    "E (a and c)."
   ]
  },
  {
   "cell_type": "code",
   "execution_count": 2,
   "id": "04351b58",
   "metadata": {},
   "outputs": [
    {
     "data": {
      "text/html": [
       "<div>\n",
       "<style scoped>\n",
       "    .dataframe tbody tr th:only-of-type {\n",
       "        vertical-align: middle;\n",
       "    }\n",
       "\n",
       "    .dataframe tbody tr th {\n",
       "        vertical-align: top;\n",
       "    }\n",
       "\n",
       "    .dataframe thead th {\n",
       "        text-align: right;\n",
       "    }\n",
       "</style>\n",
       "<table border=\"1\" class=\"dataframe\">\n",
       "  <thead>\n",
       "    <tr style=\"text-align: right;\">\n",
       "      <th></th>\n",
       "      <th>No</th>\n",
       "      <th>transaction_date</th>\n",
       "      <th>house_age</th>\n",
       "      <th>distance_to_the_nearest_MRT_station</th>\n",
       "      <th>number_of_convenience_stores</th>\n",
       "      <th>latitude</th>\n",
       "      <th>longitude</th>\n",
       "      <th>house_price_of_unit_area</th>\n",
       "    </tr>\n",
       "  </thead>\n",
       "  <tbody>\n",
       "    <tr>\n",
       "      <th>0</th>\n",
       "      <td>1</td>\n",
       "      <td>2012.917</td>\n",
       "      <td>32.0</td>\n",
       "      <td>84.87882</td>\n",
       "      <td>10</td>\n",
       "      <td>24.98298</td>\n",
       "      <td>121.54024</td>\n",
       "      <td>37.9</td>\n",
       "    </tr>\n",
       "    <tr>\n",
       "      <th>1</th>\n",
       "      <td>2</td>\n",
       "      <td>2012.917</td>\n",
       "      <td>19.5</td>\n",
       "      <td>306.59470</td>\n",
       "      <td>9</td>\n",
       "      <td>24.98034</td>\n",
       "      <td>121.53951</td>\n",
       "      <td>42.2</td>\n",
       "    </tr>\n",
       "    <tr>\n",
       "      <th>2</th>\n",
       "      <td>3</td>\n",
       "      <td>2013.583</td>\n",
       "      <td>13.3</td>\n",
       "      <td>561.98450</td>\n",
       "      <td>5</td>\n",
       "      <td>24.98746</td>\n",
       "      <td>121.54391</td>\n",
       "      <td>47.3</td>\n",
       "    </tr>\n",
       "    <tr>\n",
       "      <th>3</th>\n",
       "      <td>4</td>\n",
       "      <td>2013.500</td>\n",
       "      <td>13.3</td>\n",
       "      <td>561.98450</td>\n",
       "      <td>5</td>\n",
       "      <td>24.98746</td>\n",
       "      <td>121.54391</td>\n",
       "      <td>54.8</td>\n",
       "    </tr>\n",
       "    <tr>\n",
       "      <th>4</th>\n",
       "      <td>5</td>\n",
       "      <td>2012.833</td>\n",
       "      <td>5.0</td>\n",
       "      <td>390.56840</td>\n",
       "      <td>5</td>\n",
       "      <td>24.97937</td>\n",
       "      <td>121.54245</td>\n",
       "      <td>43.1</td>\n",
       "    </tr>\n",
       "  </tbody>\n",
       "</table>\n",
       "</div>"
      ],
      "text/plain": [
       "   No  transaction_date  house_age  distance_to_the_nearest_MRT_station  \\\n",
       "0   1          2012.917       32.0                             84.87882   \n",
       "1   2          2012.917       19.5                            306.59470   \n",
       "2   3          2013.583       13.3                            561.98450   \n",
       "3   4          2013.500       13.3                            561.98450   \n",
       "4   5          2012.833        5.0                            390.56840   \n",
       "\n",
       "   number_of_convenience_stores  latitude  longitude  house_price_of_unit_area  \n",
       "0                            10  24.98298  121.54024                      37.9  \n",
       "1                             9  24.98034  121.53951                      42.2  \n",
       "2                             5  24.98746  121.54391                      47.3  \n",
       "3                             5  24.98746  121.54391                      54.8  \n",
       "4                             5  24.97937  121.54245                      43.1  "
      ]
     },
     "execution_count": 2,
     "metadata": {},
     "output_type": "execute_result"
    }
   ],
   "source": [
    "import boto3\n",
    "import pandas as pd; pd.set_option('display.max_column', 100)\n",
    "import numpy as np\n",
    "\n",
    "\n",
    "## define bucket in which you are trying to reach\n",
    "s3 = boto3.resource('s3')\n",
    "bucket_name = 'daltondencklau-data445-bucket'\n",
    "bucket = s3.Bucket(bucket_name)\n",
    "\n",
    "\n",
    "## define csv file to read in the bucket\n",
    "file_key= 'Real_Estate.csv'\n",
    "\n",
    "## syntax to allow us to read the file\n",
    "bucket_object = bucket.Object(file_key)\n",
    "file_object = bucket_object.get()\n",
    "file_content_stream = file_object.get('Body')\n",
    "\n",
    "## reading the data file\n",
    "house_price = pd.read_csv(file_content_stream)\n",
    "house_price.head()"
   ]
  },
  {
   "cell_type": "markdown",
   "id": "24cce507",
   "metadata": {},
   "source": [
    "## Dropping the 'No' and 'transaction_date' column"
   ]
  },
  {
   "cell_type": "code",
   "execution_count": 2,
   "id": "610e17be",
   "metadata": {},
   "outputs": [
    {
     "data": {
      "text/html": [
       "<div>\n",
       "<style scoped>\n",
       "    .dataframe tbody tr th:only-of-type {\n",
       "        vertical-align: middle;\n",
       "    }\n",
       "\n",
       "    .dataframe tbody tr th {\n",
       "        vertical-align: top;\n",
       "    }\n",
       "\n",
       "    .dataframe thead th {\n",
       "        text-align: right;\n",
       "    }\n",
       "</style>\n",
       "<table border=\"1\" class=\"dataframe\">\n",
       "  <thead>\n",
       "    <tr style=\"text-align: right;\">\n",
       "      <th></th>\n",
       "      <th>house_age</th>\n",
       "      <th>distance_to_the_nearest_MRT_station</th>\n",
       "      <th>number_of_convenience_stores</th>\n",
       "      <th>latitude</th>\n",
       "      <th>longitude</th>\n",
       "      <th>house_price_of_unit_area</th>\n",
       "    </tr>\n",
       "  </thead>\n",
       "  <tbody>\n",
       "    <tr>\n",
       "      <th>0</th>\n",
       "      <td>32.0</td>\n",
       "      <td>84.87882</td>\n",
       "      <td>10</td>\n",
       "      <td>24.98298</td>\n",
       "      <td>121.54024</td>\n",
       "      <td>37.9</td>\n",
       "    </tr>\n",
       "    <tr>\n",
       "      <th>1</th>\n",
       "      <td>19.5</td>\n",
       "      <td>306.59470</td>\n",
       "      <td>9</td>\n",
       "      <td>24.98034</td>\n",
       "      <td>121.53951</td>\n",
       "      <td>42.2</td>\n",
       "    </tr>\n",
       "    <tr>\n",
       "      <th>2</th>\n",
       "      <td>13.3</td>\n",
       "      <td>561.98450</td>\n",
       "      <td>5</td>\n",
       "      <td>24.98746</td>\n",
       "      <td>121.54391</td>\n",
       "      <td>47.3</td>\n",
       "    </tr>\n",
       "    <tr>\n",
       "      <th>3</th>\n",
       "      <td>13.3</td>\n",
       "      <td>561.98450</td>\n",
       "      <td>5</td>\n",
       "      <td>24.98746</td>\n",
       "      <td>121.54391</td>\n",
       "      <td>54.8</td>\n",
       "    </tr>\n",
       "    <tr>\n",
       "      <th>4</th>\n",
       "      <td>5.0</td>\n",
       "      <td>390.56840</td>\n",
       "      <td>5</td>\n",
       "      <td>24.97937</td>\n",
       "      <td>121.54245</td>\n",
       "      <td>43.1</td>\n",
       "    </tr>\n",
       "  </tbody>\n",
       "</table>\n",
       "</div>"
      ],
      "text/plain": [
       "   house_age  distance_to_the_nearest_MRT_station  \\\n",
       "0       32.0                             84.87882   \n",
       "1       19.5                            306.59470   \n",
       "2       13.3                            561.98450   \n",
       "3       13.3                            561.98450   \n",
       "4        5.0                            390.56840   \n",
       "\n",
       "   number_of_convenience_stores  latitude  longitude  house_price_of_unit_area  \n",
       "0                            10  24.98298  121.54024                      37.9  \n",
       "1                             9  24.98034  121.53951                      42.2  \n",
       "2                             5  24.98746  121.54391                      47.3  \n",
       "3                             5  24.98746  121.54391                      54.8  \n",
       "4                             5  24.97937  121.54245                      43.1  "
      ]
     },
     "execution_count": 2,
     "metadata": {},
     "output_type": "execute_result"
    }
   ],
   "source": [
    "house_price = house_price.drop(columns = ['No', 'transaction_date'], axis =1)\n",
    "house_price.head()"
   ]
  },
  {
   "cell_type": "markdown",
   "id": "b21dc163",
   "metadata": {},
   "source": [
    "## Builiding Linear Regression Model 1"
   ]
  },
  {
   "cell_type": "code",
   "execution_count": 3,
   "id": "00478e89",
   "metadata": {},
   "outputs": [],
   "source": [
    "from sklearn.model_selection import train_test_split\n",
    "\n",
    "## defining input and target variables\n",
    "X = house_price.drop(columns = 'house_price_of_unit_area', axis =1)\n",
    "Y = house_price['house_price_of_unit_area']\n",
    "\n",
    "## splitting the data into 80% training and 20% testing\n",
    "X_train, X_test, Y_train, Y_test = train_test_split(X, Y, test_size = .2)"
   ]
  },
  {
   "cell_type": "code",
   "execution_count": 4,
   "id": "690f0e69",
   "metadata": {},
   "outputs": [],
   "source": [
    "## building the linear regression model\n",
    "from sklearn.linear_model import LinearRegression\n",
    "lm_md = LinearRegression().fit(X_train, Y_train)"
   ]
  },
  {
   "cell_type": "code",
   "execution_count": 5,
   "id": "d53bac94",
   "metadata": {},
   "outputs": [
    {
     "data": {
      "text/plain": [
       "array([22.01778706, 37.20068046, 31.14360641, 38.1833962 , 38.7978951 ,\n",
       "       46.48858808, 30.39569321, 48.9331909 , 37.65731331, 29.87117724,\n",
       "       37.84640362, 42.45648299, 37.60406547, 29.38232078, 42.64189661,\n",
       "       41.604412  , 44.8699722 , 45.66879977, 35.69723141, 32.89905868,\n",
       "       47.15813063, 48.17610367, 30.78767383, 38.09902935, 43.01515312,\n",
       "       26.26062146, 13.2567571 , 32.11670802, 49.25764382, 33.15477647,\n",
       "       40.69479712, 46.50857961, 50.42876917, 47.2753868 , 41.73769848,\n",
       "       40.53561393, 14.93782112, 33.17428021, 33.76254861,  8.59407987,\n",
       "       49.52626292, 40.20237363, 45.65262291, 47.94924875, 51.30387988,\n",
       "       12.85854612, 49.12551616, 46.44853298, 42.28262784, 44.63024217,\n",
       "       31.85543535, 39.08852247, 32.44009623, 25.26298992, 46.81858798,\n",
       "       31.65307998, 51.59797219, 31.46576861, 44.956119  , 12.40592989,\n",
       "       47.28766898, 27.40724661, 51.04215678, 33.71056161, 44.42517643,\n",
       "       40.19532391, 25.18772926, 43.00539221, 40.66419888, 25.30640688,\n",
       "       44.38342848, 13.31501888, 47.4523687 , 14.79346246, 37.71513758,\n",
       "       12.38815094, 34.90271984, 37.59275011, 32.98140969, 42.73645978,\n",
       "       43.59472647,  9.7344924 , 47.80406565])"
      ]
     },
     "execution_count": 5,
     "metadata": {},
     "output_type": "execute_result"
    }
   ],
   "source": [
    "## predicting on the testing dataset\n",
    "lm_preds = lm_md.predict(X_test)\n",
    "lm_preds"
   ]
  },
  {
   "cell_type": "code",
   "execution_count": 6,
   "id": "9548c009",
   "metadata": {},
   "outputs": [
    {
     "data": {
      "text/plain": [
       "112.01642552843724"
      ]
     },
     "execution_count": 6,
     "metadata": {},
     "output_type": "execute_result"
    }
   ],
   "source": [
    "## calculating the MSE for model 1\n",
    "np.mean((Y_test - lm_preds)**2)"
   ]
  },
  {
   "cell_type": "code",
   "execution_count": 7,
   "id": "18c4c2bf",
   "metadata": {},
   "outputs": [
    {
     "data": {
      "image/png": "[encoded data removed]",
      "text/plain": [
       "<Figure size 432x288 with 1 Axes>"
      ]
     },
     "metadata": {
      "needs_background": "light"
     },
     "output_type": "display_data"
    }
   ],
   "source": [
    "## visualizing results\n",
    "import matplotlib.pyplot as plt\n",
    "plt.scatter(lm_preds, Y_test)\n",
    "plt.xlabel('linear model predictions')\n",
    "plt.ylabel('actual values')\n",
    "plt.show()"
   ]
  },
  {
   "cell_type": "code",
   "execution_count": 8,
   "id": "3d1b9b1c",
   "metadata": {},
   "outputs": [],
   "source": [
    "## The MSE for model 1 is 112.02"
   ]
  },
  {
   "cell_type": "markdown",
   "id": "c2a26b61",
   "metadata": {},
   "source": [
    "## Building Linear Regression Model 2"
   ]
  },
  {
   "cell_type": "code",
   "execution_count": 9,
   "id": "f69f3421",
   "metadata": {},
   "outputs": [],
   "source": [
    "## defining input and target variables\n",
    "X2 = house_price[['house_age', 'distance_to_the_nearest_MRT_station', 'number_of_convenience_stores', 'latitude', 'longitude']]\n",
    "Y2 = house_price['house_price_of_unit_area']"
   ]
  },
  {
   "cell_type": "code",
   "execution_count": 10,
   "id": "83814b2b",
   "metadata": {},
   "outputs": [],
   "source": [
    "## building the linear regression model\n",
    "lm_md_2 = LinearRegression().fit(X_train.drop(columns = ['distance_to_the_nearest_MRT_station'], axis = 1), Y_train)"
   ]
  },
  {
   "cell_type": "code",
   "execution_count": 11,
   "id": "f4a54e0f",
   "metadata": {},
   "outputs": [
    {
     "data": {
      "text/plain": [
       "array([34.27221948, 36.69641136, 32.41155583, 38.27045481, 38.5290932 ,\n",
       "       45.66050589, 35.06155632, 49.08459436, 36.00174643, 28.71181518,\n",
       "       38.03296328, 37.14188425, 36.15630608, 30.94115661, 45.85261034,\n",
       "       42.05629571, 45.70857775, 46.40462556, 33.25138106, 30.81919795,\n",
       "       47.18602499, 49.21714404, 31.97129814, 38.2333131 , 41.58626152,\n",
       "       34.5927361 , 15.21684054, 31.81378367, 50.18158773, 30.97444818,\n",
       "       39.53105864, 46.75652468, 50.4544109 , 43.95427067, 40.42102239,\n",
       "       41.50957793, 16.84888163, 30.68812885, 33.42223481, 13.12978495,\n",
       "       50.55384754, 39.03913898, 47.81664814, 49.13157062, 52.23455734,\n",
       "       14.63754868, 51.16982329, 46.73082996, 43.66613865, 44.61452347,\n",
       "       31.95841815, 40.73921718, 30.70419599, 25.5617776 , 47.22359654,\n",
       "       33.95253922, 52.91919164, 28.81869551, 45.79431823, 14.8038401 ,\n",
       "       47.95880959, 27.43508193, 52.46618101, 32.37281248, 46.9363021 ,\n",
       "       41.31080498, 21.16582126, 40.32667035, 36.21665418, 21.23967244,\n",
       "       45.361045  , 16.47635238, 48.13221788, 16.75320961, 38.37406217,\n",
       "       15.05636248, 34.01159892, 34.59046039, 31.77987606, 41.62686376,\n",
       "       41.52649415, 13.84635308, 46.32431624])"
      ]
     },
     "execution_count": 11,
     "metadata": {},
     "output_type": "execute_result"
    }
   ],
   "source": [
    "## predicting on the testing dataset\n",
    "lm_preds_2 = lm_md_2.predict(X_test.drop(columns = ['distance_to_the_nearest_MRT_station'], axis = 1))\n",
    "lm_preds_2"
   ]
  },
  {
   "cell_type": "code",
   "execution_count": 12,
   "id": "fe1c2757",
   "metadata": {},
   "outputs": [
    {
     "data": {
      "text/plain": [
       "127.140128611473"
      ]
     },
     "execution_count": 12,
     "metadata": {},
     "output_type": "execute_result"
    }
   ],
   "source": [
    "## calculating the MSE for model 2\n",
    "np.mean((Y_test -lm_preds_2)**2)"
   ]
  },
  {
   "cell_type": "code",
   "execution_count": 13,
   "id": "c7bd1fce",
   "metadata": {},
   "outputs": [],
   "source": [
    "## The MSE for model 2 is 127.1."
   ]
  },
  {
   "cell_type": "code",
   "execution_count": 14,
   "id": "5233bda9",
   "metadata": {},
   "outputs": [],
   "source": [
    "## Based on the MSE from both of these models, I would select the first model because the MSE value is lower."
   ]
  },
  {
   "cell_type": "markdown",
   "id": "41803f0c",
   "metadata": {},
   "source": [
    "## Reating above steps 100 times"
   ]
  },
  {
   "cell_type": "code",
   "execution_count": 20,
   "id": "51fb745f",
   "metadata": {},
   "outputs": [
    {
     "name": "stdout",
     "output_type": "stream",
     "text": [
      "    md1_results  md2_results\n",
      "0           NaN          NaN\n",
      "1           NaN          NaN\n",
      "2           NaN          NaN\n",
      "3           NaN          NaN\n",
      "4           NaN          NaN\n",
      "..          ...          ...\n",
      "95          NaN          NaN\n",
      "96          NaN          NaN\n",
      "97          NaN          NaN\n",
      "98          NaN          NaN\n",
      "99          NaN          NaN\n",
      "\n",
      "[100 rows x 2 columns]\n",
      "The mse of model 1 is:  76.5064228911402\n",
      "The mse of model 2 is:  82.90528254534546\n",
      "    md1_results  md2_results\n",
      "0    132.346802   147.812195\n",
      "1     75.130584    88.426193\n",
      "2     48.134225    45.052608\n",
      "3     76.375415    80.379918\n",
      "4    141.985745   156.005451\n",
      "..          ...          ...\n",
      "95    73.927887    84.532239\n",
      "96    46.108595    43.078647\n",
      "97    61.806008    63.120460\n",
      "98    72.853171    81.539287\n",
      "99   117.056624   133.973496\n",
      "\n",
      "[100 rows x 2 columns]\n"
     ]
    }
   ],
   "source": [
    "MSE_results = pd.DataFrame({'md1_results': np.repeat(np.nan, 100), 'md2_results': np.repeat(np.nan, 100)})\n",
    "\n",
    "## defining input and target variables for model 1\n",
    "X = house_price.drop(columns = 'house_price_of_unit_area', axis =1)\n",
    "Y = house_price['house_price_of_unit_area']\n",
    "\n",
    "## defining input and target variables for model 2\n",
    "X2 = house_price.drop(columns = ['distance_to_the_nearest_MRT_station'], axis = 1)\n",
    "Y2 = house_price['house_price_of_unit_area']\n",
    "\n",
    "for i in range(0,100):\n",
    "    X_train, X_test, Y_train, Y_test = train_test_split(X, Y, test_size = .2)\n",
    "    md1 = LinearRegression().fit(X_train, Y_train)\n",
    "    \n",
    "    md2 = LinearRegression().fit(X_train.drop(columns = ['distance_to_the_nearest_MRT_station'], axis = 1), Y_train)\n",
    "    \n",
    "    ## predicting on the test dataset\n",
    "    md1_preds = md1.predict(X_test)\n",
    "    md2_preds = md2.predict(X_test.drop(columns = ['distance_to_the_nearest_MRT_station'], axis = 1))\n",
    "    \n",
    "    ## computing MSE\n",
    "    mse1 = np.mean((Y_test - md1_preds)**2)\n",
    "    mse2 = np.mean((Y_test - md2_preds)**2)\n",
    "    MSE_results['md1_results'][i] = mse1\n",
    "    MSE_results['md2_results'][i] = mse2\n",
    "    \n",
    "print('The mse of model 1 is: ', MSE_results['md1_results'].mean())\n",
    "print('The mse of model 2 is: ', MSE_results['md2_results'].mean())\n",
    "print(MSE_results)"
   ]
  },
  {
   "cell_type": "code",
   "execution_count": 23,
   "id": "4bccb8f0",
   "metadata": {},
   "outputs": [
    {
     "name": "stdout",
     "output_type": "stream",
     "text": [
      "    md1_results  md2_results\n",
      "0    132.346802   147.812195\n",
      "1     75.130584    88.426193\n",
      "2     48.134225    45.052608\n",
      "3     76.375415    80.379918\n",
      "4    141.985745   156.005451\n",
      "5     84.171891    90.907931\n",
      "6     56.833019    56.192403\n",
      "7     69.748835    76.685332\n",
      "8     45.134687    44.741458\n",
      "9     48.542408    43.862564\n",
      "10    79.936026    78.853559\n",
      "11    65.597763    80.613525\n",
      "12    55.773311    68.307996\n",
      "13    47.797506    44.508379\n",
      "14    76.434654    70.268470\n",
      "15    70.827586    72.648486\n",
      "16    50.634705    57.664336\n",
      "17   138.590777   150.601024\n",
      "18    58.040744    66.934598\n",
      "19    90.522650    95.003467\n",
      "20    60.070434    71.099135\n",
      "21    48.558830    52.989346\n",
      "22    71.389460    74.175438\n",
      "23    39.882550    45.196576\n",
      "24    71.473556    72.483055\n",
      "25    53.320682    64.357721\n",
      "26   131.720461   140.364505\n",
      "27    85.588142    88.428656\n",
      "28    78.949677    88.162167\n",
      "29    58.617034    56.234658\n",
      "30   115.913048   129.201635\n",
      "31    55.034392    55.876616\n",
      "32    73.100693    73.106907\n",
      "33    71.775714    71.881869\n",
      "34    76.549057    78.699102\n",
      "35   148.857927   159.456763\n",
      "36    87.631087    92.458610\n",
      "37    53.082755    60.352252\n",
      "38    66.939960    70.816536\n",
      "39    61.464565    74.722936\n",
      "40    61.132314    65.311967\n",
      "41    88.613586    97.307382\n",
      "42   110.704011   124.452328\n",
      "43    76.786592    74.934946\n",
      "44   118.673137   133.699791\n",
      "45    78.765727    71.069464\n",
      "46    59.600456    72.266998\n",
      "47    63.237208    72.954496\n",
      "48    71.668344    76.530625\n",
      "49    68.890096    65.971713\n",
      "50    54.940944    60.786024\n",
      "51   138.042781   152.695551\n",
      "52    57.329044    57.766672\n",
      "53    52.809375    52.329318\n",
      "54    55.718263    63.762514\n",
      "55    94.352197    91.378376\n",
      "56    63.879901    66.459725\n",
      "57    44.218743    57.669231\n",
      "58    50.202270    55.125138\n",
      "59    58.382706    58.986802\n",
      "60    58.041289    61.148458\n",
      "61    69.576092    77.550361\n",
      "62    48.843558    57.447831\n",
      "63    67.490794    62.657144\n",
      "64   144.009287   150.652251\n",
      "65    84.746092    96.854587\n",
      "66    90.466562    96.290441\n",
      "67    49.503746    66.442919\n",
      "68   140.139612   156.139741\n",
      "69    58.952664    60.130738\n",
      "70   137.433978   151.738606\n",
      "71    91.241986    99.637976\n",
      "72    71.337550    67.314777\n",
      "73   143.655907   159.564564\n",
      "74    58.803732    73.114705\n",
      "75    66.159530    76.448560\n",
      "76    64.239343    65.466276\n",
      "77    63.788973    72.434934\n",
      "78    83.944107    86.968467\n",
      "79    58.163558    66.693840\n",
      "80    41.340604    56.362599\n",
      "81   128.868461   143.253337\n",
      "82    64.208271    67.806047\n",
      "83    77.808772    82.890827\n",
      "84    69.398170    76.762211\n",
      "85   134.227919   145.347904\n",
      "86    46.161777    48.116273\n",
      "87    61.024377    74.210815\n",
      "88    67.018556    69.178373\n",
      "89   119.063057   135.499813\n",
      "90    55.727648    60.944655\n",
      "91    47.918426    59.296042\n",
      "92    59.636278    73.122358\n",
      "93    58.001035    64.072352\n",
      "94   107.521246   115.729904\n",
      "95    73.927887    84.532239\n",
      "96    46.108595    43.078647\n",
      "97    61.806008    63.120460\n",
      "98    72.853171    81.539287\n",
      "99   117.056624   133.973496\n"
     ]
    }
   ],
   "source": [
    "## printing all observations\n",
    "print(MSE_results.to_string())"
   ]
  },
  {
   "cell_type": "markdown",
   "id": "3fadd404",
   "metadata": {},
   "source": [
    "### Visualizing results on a graph"
   ]
  },
  {
   "cell_type": "code",
   "execution_count": null,
   "id": "b09af48a",
   "metadata": {},
   "outputs": [],
   "source": [
    "plt.plot(MSE_results['md1_results'], color = 'skyblue')\n",
    "plt.plot(MSE_results['md2_results'], color = 'salmon')\n",
    "plt.xlabel('iteration')\n",
    "plt.ylabel('MSE')\n",
    "plt.legend(loc = 'upper right', labels = ['model 1', 'model 2'])\n",
    "plt.grid()\n",
    "plt.show();"
   ]
  },
  {
   "cell_type": "code",
   "execution_count": 33,
   "id": "9c849ee6",
   "metadata": {},
   "outputs": [],
   "source": [
    "## df['col']"
   ]
  },
  {
   "cell_type": "code",
   "execution_count": null,
   "id": "e56650bb",
   "metadata": {},
   "outputs": [],
   "source": [
    "## based on the MSE Results and the model averages, I would choose Model 1 because it has a lower MSE value\n",
    "## on average. In the graph about, we can visuzlize that the model 1 (skyblue) has lower MSE values compared to\n",
    "## model 2 (salmon)."
   ]
  }
 ],
 "metadata": {
  "kernelspec": {
   "display_name": "conda_python3",
   "language": "python",
   "name": "conda_python3"
  },
  "language_info": {
   "codemirror_mode": {
    "name": "ipython",
    "version": 3
   },
   "file_extension": ".py",
   "mimetype": "text/x-python",
   "name": "python",
   "nbconvert_exporter": "python",
   "pygments_lexer": "ipython3",
   "version": "3.8.12"
  }
 },
 "nbformat": 4,
 "nbformat_minor": 5
}
