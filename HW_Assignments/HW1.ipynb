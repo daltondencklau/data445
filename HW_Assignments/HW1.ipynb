{
 "cells": [
  {
   "cell_type": "markdown",
   "id": "ed8e0b0e",
   "metadata": {},
   "source": [
    "## Exercises"
   ]
  },
  {
   "cell_type": "markdown",
   "id": "8575b746",
   "metadata": {},
   "source": [
    "1. What type of algorithm would you use to segment a company customers database into multiple groups?\n",
    "I would use a clustering agorithm, such as K-means. This kind of algorithm would group similar observations in the same group or cluster."
   ]
  },
  {
   "cell_type": "markdown",
   "id": "f76e8feb",
   "metadata": {},
   "source": [
    "2. Would you frame the problem of spam detection as a supervised learning problem or an unsupervised learning problem? Explain.\n",
    "I would frame spam deterction as supervised learning because there is a clear goal: spam or not spam. Unsupervised learning has no target variable to be modeled and is used to observe new patterns in datasets."
   ]
  },
  {
   "cell_type": "markdown",
   "id": "4c64d5ba",
   "metadata": {},
   "source": [
    "3. What is a test set, and why would you want to use it?\n",
    "A test set is the portion of the dataset that you will use to test how well/effective your model is after it's trained on the training dataset."
   ]
  },
  {
   "cell_type": "markdown",
   "id": "4107778b",
   "metadata": {},
   "source": [
    "4. You are training a classification model with 100 variables/features that achieves 95% accuracy in the training dataset. However, when you run it in the test dataset, you only get 60% accuracy. Which of the following options are valid approached to solve this problem?\n",
    "E (a and c)."
   ]
  },
  {
   "cell_type": "code",
   "execution_count": 1,
   "id": "314498a4",
   "metadata": {},
   "outputs": [
    {
     "data": {
      "text/html": [
       "<div>\n",
       "<style scoped>\n",
       "    .dataframe tbody tr th:only-of-type {\n",
       "        vertical-align: middle;\n",
       "    }\n",
       "\n",
       "    .dataframe tbody tr th {\n",
       "        vertical-align: top;\n",
       "    }\n",
       "\n",
       "    .dataframe thead th {\n",
       "        text-align: right;\n",
       "    }\n",
       "</style>\n",
       "<table border=\"1\" class=\"dataframe\">\n",
       "  <thead>\n",
       "    <tr style=\"text-align: right;\">\n",
       "      <th></th>\n",
       "      <th>No</th>\n",
       "      <th>transaction_date</th>\n",
       "      <th>house_age</th>\n",
       "      <th>distance_to_the_nearest_MRT_station</th>\n",
       "      <th>number_of_convenience_stores</th>\n",
       "      <th>latitude</th>\n",
       "      <th>longitude</th>\n",
       "      <th>house_price_of_unit_area</th>\n",
       "    </tr>\n",
       "  </thead>\n",
       "  <tbody>\n",
       "    <tr>\n",
       "      <th>0</th>\n",
       "      <td>1</td>\n",
       "      <td>2012.917</td>\n",
       "      <td>32.0</td>\n",
       "      <td>84.87882</td>\n",
       "      <td>10</td>\n",
       "      <td>24.98298</td>\n",
       "      <td>121.54024</td>\n",
       "      <td>37.9</td>\n",
       "    </tr>\n",
       "    <tr>\n",
       "      <th>1</th>\n",
       "      <td>2</td>\n",
       "      <td>2012.917</td>\n",
       "      <td>19.5</td>\n",
       "      <td>306.59470</td>\n",
       "      <td>9</td>\n",
       "      <td>24.98034</td>\n",
       "      <td>121.53951</td>\n",
       "      <td>42.2</td>\n",
       "    </tr>\n",
       "    <tr>\n",
       "      <th>2</th>\n",
       "      <td>3</td>\n",
       "      <td>2013.583</td>\n",
       "      <td>13.3</td>\n",
       "      <td>561.98450</td>\n",
       "      <td>5</td>\n",
       "      <td>24.98746</td>\n",
       "      <td>121.54391</td>\n",
       "      <td>47.3</td>\n",
       "    </tr>\n",
       "    <tr>\n",
       "      <th>3</th>\n",
       "      <td>4</td>\n",
       "      <td>2013.500</td>\n",
       "      <td>13.3</td>\n",
       "      <td>561.98450</td>\n",
       "      <td>5</td>\n",
       "      <td>24.98746</td>\n",
       "      <td>121.54391</td>\n",
       "      <td>54.8</td>\n",
       "    </tr>\n",
       "    <tr>\n",
       "      <th>4</th>\n",
       "      <td>5</td>\n",
       "      <td>2012.833</td>\n",
       "      <td>5.0</td>\n",
       "      <td>390.56840</td>\n",
       "      <td>5</td>\n",
       "      <td>24.97937</td>\n",
       "      <td>121.54245</td>\n",
       "      <td>43.1</td>\n",
       "    </tr>\n",
       "  </tbody>\n",
       "</table>\n",
       "</div>"
      ],
      "text/plain": [
       "   No  transaction_date  house_age  distance_to_the_nearest_MRT_station  \\\n",
       "0   1          2012.917       32.0                             84.87882   \n",
       "1   2          2012.917       19.5                            306.59470   \n",
       "2   3          2013.583       13.3                            561.98450   \n",
       "3   4          2013.500       13.3                            561.98450   \n",
       "4   5          2012.833        5.0                            390.56840   \n",
       "\n",
       "   number_of_convenience_stores  latitude  longitude  house_price_of_unit_area  \n",
       "0                            10  24.98298  121.54024                      37.9  \n",
       "1                             9  24.98034  121.53951                      42.2  \n",
       "2                             5  24.98746  121.54391                      47.3  \n",
       "3                             5  24.98746  121.54391                      54.8  \n",
       "4                             5  24.97937  121.54245                      43.1  "
      ]
     },
     "execution_count": 1,
     "metadata": {},
     "output_type": "execute_result"
    }
   ],
   "source": [
    "import boto3\n",
    "import pandas as pd; pd.set_option('display.max_column', 100)\n",
    "import numpy as np\n",
    "\n",
    "\n",
    "## define bucket in which you are trying to reach\n",
    "s3 = boto3.resource('s3')\n",
    "bucket_name = 'daltondencklau-data445-bucket'\n",
    "bucket = s3.Bucket(bucket_name)\n",
    "\n",
    "\n",
    "## define csv file to read in the bucket\n",
    "file_key= 'Real_Estate.csv'\n",
    "\n",
    "## syntax to allow us to read the file\n",
    "bucket_object = bucket.Object(file_key)\n",
    "file_object = bucket_object.get()\n",
    "file_content_stream = file_object.get('Body')\n",
    "\n",
    "## reading the data file\n",
    "house_price = pd.read_csv(file_content_stream)\n",
    "house_price.head()"
   ]
  },
  {
   "cell_type": "markdown",
   "id": "4df73ce5",
   "metadata": {},
   "source": [
    "## Dropping the 'No' and 'transaction_date' column"
   ]
  },
  {
   "cell_type": "code",
   "execution_count": 2,
   "id": "72a5a84f",
   "metadata": {},
   "outputs": [
    {
     "data": {
      "text/html": [
       "<div>\n",
       "<style scoped>\n",
       "    .dataframe tbody tr th:only-of-type {\n",
       "        vertical-align: middle;\n",
       "    }\n",
       "\n",
       "    .dataframe tbody tr th {\n",
       "        vertical-align: top;\n",
       "    }\n",
       "\n",
       "    .dataframe thead th {\n",
       "        text-align: right;\n",
       "    }\n",
       "</style>\n",
       "<table border=\"1\" class=\"dataframe\">\n",
       "  <thead>\n",
       "    <tr style=\"text-align: right;\">\n",
       "      <th></th>\n",
       "      <th>house_age</th>\n",
       "      <th>distance_to_the_nearest_MRT_station</th>\n",
       "      <th>number_of_convenience_stores</th>\n",
       "      <th>latitude</th>\n",
       "      <th>longitude</th>\n",
       "      <th>house_price_of_unit_area</th>\n",
       "    </tr>\n",
       "  </thead>\n",
       "  <tbody>\n",
       "    <tr>\n",
       "      <th>0</th>\n",
       "      <td>32.0</td>\n",
       "      <td>84.87882</td>\n",
       "      <td>10</td>\n",
       "      <td>24.98298</td>\n",
       "      <td>121.54024</td>\n",
       "      <td>37.9</td>\n",
       "    </tr>\n",
       "    <tr>\n",
       "      <th>1</th>\n",
       "      <td>19.5</td>\n",
       "      <td>306.59470</td>\n",
       "      <td>9</td>\n",
       "      <td>24.98034</td>\n",
       "      <td>121.53951</td>\n",
       "      <td>42.2</td>\n",
       "    </tr>\n",
       "    <tr>\n",
       "      <th>2</th>\n",
       "      <td>13.3</td>\n",
       "      <td>561.98450</td>\n",
       "      <td>5</td>\n",
       "      <td>24.98746</td>\n",
       "      <td>121.54391</td>\n",
       "      <td>47.3</td>\n",
       "    </tr>\n",
       "    <tr>\n",
       "      <th>3</th>\n",
       "      <td>13.3</td>\n",
       "      <td>561.98450</td>\n",
       "      <td>5</td>\n",
       "      <td>24.98746</td>\n",
       "      <td>121.54391</td>\n",
       "      <td>54.8</td>\n",
       "    </tr>\n",
       "    <tr>\n",
       "      <th>4</th>\n",
       "      <td>5.0</td>\n",
       "      <td>390.56840</td>\n",
       "      <td>5</td>\n",
       "      <td>24.97937</td>\n",
       "      <td>121.54245</td>\n",
       "      <td>43.1</td>\n",
       "    </tr>\n",
       "  </tbody>\n",
       "</table>\n",
       "</div>"
      ],
      "text/plain": [
       "   house_age  distance_to_the_nearest_MRT_station  \\\n",
       "0       32.0                             84.87882   \n",
       "1       19.5                            306.59470   \n",
       "2       13.3                            561.98450   \n",
       "3       13.3                            561.98450   \n",
       "4        5.0                            390.56840   \n",
       "\n",
       "   number_of_convenience_stores  latitude  longitude  house_price_of_unit_area  \n",
       "0                            10  24.98298  121.54024                      37.9  \n",
       "1                             9  24.98034  121.53951                      42.2  \n",
       "2                             5  24.98746  121.54391                      47.3  \n",
       "3                             5  24.98746  121.54391                      54.8  \n",
       "4                             5  24.97937  121.54245                      43.1  "
      ]
     },
     "execution_count": 2,
     "metadata": {},
     "output_type": "execute_result"
    }
   ],
   "source": [
    "house_price = house_price.drop(columns = ['No', 'transaction_date'], axis =1)\n",
    "house_price.head()"
   ]
  },
  {
   "cell_type": "markdown",
   "id": "24776ae4",
   "metadata": {},
   "source": [
    "## Builiding Linear Regression Model 1"
   ]
  },
  {
   "cell_type": "code",
   "execution_count": 3,
   "id": "87887f84",
   "metadata": {},
   "outputs": [],
   "source": [
    "from sklearn.model_selection import train_test_split\n",
    "\n",
    "## defining input and target variables\n",
    "X = house_price.drop(columns = 'house_price_of_unit_area', axis =1)\n",
    "Y = house_price['house_price_of_unit_area']\n",
    "\n",
    "## splitting the data into 80% training and 20% testing\n",
    "X_train, X_test, Y_train, Y_test = train_test_split(X, Y, test_size = .2)"
   ]
  },
  {
   "cell_type": "code",
   "execution_count": 4,
   "id": "0e6d295a",
   "metadata": {},
   "outputs": [],
   "source": [
    "## building the linear regression model\n",
    "from sklearn.linear_model import LinearRegression\n",
    "lm_md = LinearRegression().fit(X_train, Y_train)"
   ]
  },
  {
   "cell_type": "code",
   "execution_count": 5,
   "id": "31464d52",
   "metadata": {},
   "outputs": [
    {
     "data": {
      "text/plain": [
       "array([46.61308767, 46.37510245, 34.67950202, 41.23247787, 55.37207794,\n",
       "       41.76763118, 33.49617094, 28.07965999, 40.03387212, 45.8472948 ,\n",
       "       46.06330878, 46.1007306 , 28.17145807, 13.54770063, 47.86664828,\n",
       "       23.78101952, 50.76665714, 42.60903456, 10.90748907, 10.71581969,\n",
       "       29.54598031, 46.9471282 , 43.4915215 , 14.56144384, 39.57189369,\n",
       "       48.08246262, 33.69084729, 14.20145358, 30.40132614, 30.33796719,\n",
       "       26.09043138, 38.838156  , 43.43158263, 52.95346207, 10.53248328,\n",
       "       37.47702117, 38.17688473, 49.52206507, 41.19487058, 49.01702601,\n",
       "       49.55115102, 39.60703602, 38.85917051, 42.48023512, 14.01137673,\n",
       "       53.52213192, 42.54168553, 14.296492  , 12.8095008 , 45.50471771,\n",
       "       46.79867721,  0.63721718, 38.71121234, 43.80671273, 29.19406624,\n",
       "       36.76889861, 44.94392247, 34.22127446, 54.25829549, 34.12305218,\n",
       "       14.59312332, 46.73531826, 33.17333567, 39.97542819, 47.77079434,\n",
       "       42.58546188, 46.9471282 , 38.31243338, 31.9019079 , 33.95977064,\n",
       "       40.65798503, 54.19493654, 53.45877297, 37.06016376, 32.36150351,\n",
       "       35.37105367, 50.15263841, 14.0430562 , 48.89030811, 30.0351523 ,\n",
       "       51.64434001, 37.34444302, 29.4344406 ])"
      ]
     },
     "execution_count": 5,
     "metadata": {},
     "output_type": "execute_result"
    }
   ],
   "source": [
    "## predicting on the testing dataset\n",
    "lm_preds = lm_md.predict(X_test)\n",
    "lm_preds"
   ]
  },
  {
   "cell_type": "code",
   "execution_count": 6,
   "id": "3ebf07e4",
   "metadata": {},
   "outputs": [
    {
     "data": {
      "text/plain": [
       "69.79273085050119"
      ]
     },
     "execution_count": 6,
     "metadata": {},
     "output_type": "execute_result"
    }
   ],
   "source": [
    "## calculating the MSE for model 1\n",
    "np.mean((Y_test - lm_preds)**2)"
   ]
  },
  {
   "cell_type": "code",
   "execution_count": 7,
   "id": "1b47b00e",
   "metadata": {},
   "outputs": [
    {
     "data": {
      "image/png": "[encoded data removed]",
      "text/plain": [
       "<Figure size 432x288 with 1 Axes>"
      ]
     },
     "metadata": {
      "needs_background": "light"
     },
     "output_type": "display_data"
    }
   ],
   "source": [
    "## visualizing results\n",
    "import matplotlib.pyplot as plt\n",
    "plt.scatter(lm_preds, Y_test)\n",
    "plt.xlabel('linear model predictions')\n",
    "plt.ylabel('actual values')\n",
    "plt.show()"
   ]
  },
  {
   "cell_type": "code",
   "execution_count": 8,
   "id": "81848b2e",
   "metadata": {},
   "outputs": [],
   "source": [
    "## The MSE for model 1 is 44.59"
   ]
  },
  {
   "cell_type": "markdown",
   "id": "af65cf08",
   "metadata": {},
   "source": [
    "## Building Linear Regression Model 2"
   ]
  },
  {
   "cell_type": "code",
   "execution_count": 9,
   "id": "c4887157",
   "metadata": {},
   "outputs": [],
   "source": [
    "## defining input and target variables\n",
    "X2 = house_price[['house_age', 'distance_to_the_nearest_MRT_station', 'number_of_convenience_stores', 'latitude', 'longitude']]\n",
    "Y2 = house_price['house_price_of_unit_area']"
   ]
  },
  {
   "cell_type": "code",
   "execution_count": 10,
   "id": "8be79187",
   "metadata": {},
   "outputs": [],
   "source": [
    "## building the linear regression model\n",
    "lm_md_2 = LinearRegression().fit(X_train.drop(columns = ['distance_to_the_nearest_MRT_station'], axis = 1), Y_train)"
   ]
  },
  {
   "cell_type": "code",
   "execution_count": 11,
   "id": "716c8bc1",
   "metadata": {},
   "outputs": [
    {
     "data": {
      "text/plain": [
       "array([43.44521349, 46.83856251, 34.26922557, 40.34893415, 57.4678613 ,\n",
       "       42.13176601, 31.20666261, 25.83299429, 38.32107071, 45.11922098,\n",
       "       43.25942731, 45.37358663, 29.86053202, 16.09362702, 49.30987952,\n",
       "       19.29438254, 50.8081081 , 42.98871534, 14.93810174, 14.13432114,\n",
       "       30.90130757, 43.39832633, 45.34953044, 17.11108961, 41.34205694,\n",
       "       49.41171032, 32.15400251, 16.74959594, 31.75979163, 31.69620022,\n",
       "       33.00589205, 39.0810956 , 44.91738955, 54.16969384, 14.12813334,\n",
       "       36.58582247, 36.245968  , 46.2067011 , 35.14216991, 50.0431762 ,\n",
       "       50.44164308, 35.51767781, 39.12334981, 42.59668198, 16.5588217 ,\n",
       "       53.96361108, 40.64972407, 16.84498306, 14.78964491, 40.27402269,\n",
       "       47.2111164 ,  9.26862756, 34.17272251, 37.50771958, 33.34173324,\n",
       "       34.43131322, 48.11660047, 34.11860348, 55.72412257, 33.45124609,\n",
       "       17.14288532, 47.14752499, 33.16071195, 40.22054083, 49.79263135,\n",
       "       42.67143096, 43.39832633, 36.73869939, 32.47670068, 32.95958965,\n",
       "       41.71234564, 55.66053116, 53.90001967, 36.33311812, 31.61202705,\n",
       "       34.63261911, 51.96899328, 16.59061741, 49.91599338, 29.37754755,\n",
       "       52.27762486, 35.73700485, 29.92653678])"
      ]
     },
     "execution_count": 11,
     "metadata": {},
     "output_type": "execute_result"
    }
   ],
   "source": [
    "## predicting on the testing dataset\n",
    "lm_preds_2 = lm_md_2.predict(X_test.drop(columns = ['distance_to_the_nearest_MRT_station'], axis = 1))\n",
    "lm_preds_2"
   ]
  },
  {
   "cell_type": "code",
   "execution_count": 12,
   "id": "450eefe1",
   "metadata": {},
   "outputs": [
    {
     "data": {
      "text/plain": [
       "66.41588291374126"
      ]
     },
     "execution_count": 12,
     "metadata": {},
     "output_type": "execute_result"
    }
   ],
   "source": [
    "## calculating the MSE for model 2\n",
    "np.mean((Y_test -lm_preds_2)**2)"
   ]
  },
  {
   "cell_type": "code",
   "execution_count": 13,
   "id": "e0420b49",
   "metadata": {},
   "outputs": [],
   "source": [
    "## The MSE for model 2 is 263.37"
   ]
  },
  {
   "cell_type": "code",
   "execution_count": 14,
   "id": "5de1a29b",
   "metadata": {},
   "outputs": [],
   "source": [
    "## Based on the MSE from both of these models, I would select the first model because the MSE value is lower."
   ]
  },
  {
   "cell_type": "markdown",
   "id": "90f3e8c8",
   "metadata": {},
   "source": [
    "## Reating above steps 100 times"
   ]
  },
  {
   "cell_type": "code",
   "execution_count": 15,
   "id": "f48022c4",
   "metadata": {},
   "outputs": [
    {
     "data": {
      "text/html": [
       "<div>\n",
       "<style scoped>\n",
       "    .dataframe tbody tr th:only-of-type {\n",
       "        vertical-align: middle;\n",
       "    }\n",
       "\n",
       "    .dataframe tbody tr th {\n",
       "        vertical-align: top;\n",
       "    }\n",
       "\n",
       "    .dataframe thead th {\n",
       "        text-align: right;\n",
       "    }\n",
       "</style>\n",
       "<table border=\"1\" class=\"dataframe\">\n",
       "  <thead>\n",
       "    <tr style=\"text-align: right;\">\n",
       "      <th></th>\n",
       "      <th>MSE_results</th>\n",
       "      <th>md1_results</th>\n",
       "      <th>md2_results</th>\n",
       "    </tr>\n",
       "  </thead>\n",
       "  <tbody>\n",
       "    <tr>\n",
       "      <th>0</th>\n",
       "      <td>NaN</td>\n",
       "      <td>NaN</td>\n",
       "      <td>NaN</td>\n",
       "    </tr>\n",
       "    <tr>\n",
       "      <th>1</th>\n",
       "      <td>NaN</td>\n",
       "      <td>NaN</td>\n",
       "      <td>NaN</td>\n",
       "    </tr>\n",
       "    <tr>\n",
       "      <th>2</th>\n",
       "      <td>NaN</td>\n",
       "      <td>NaN</td>\n",
       "      <td>NaN</td>\n",
       "    </tr>\n",
       "    <tr>\n",
       "      <th>3</th>\n",
       "      <td>NaN</td>\n",
       "      <td>NaN</td>\n",
       "      <td>NaN</td>\n",
       "    </tr>\n",
       "    <tr>\n",
       "      <th>4</th>\n",
       "      <td>NaN</td>\n",
       "      <td>NaN</td>\n",
       "      <td>NaN</td>\n",
       "    </tr>\n",
       "    <tr>\n",
       "      <th>...</th>\n",
       "      <td>...</td>\n",
       "      <td>...</td>\n",
       "      <td>...</td>\n",
       "    </tr>\n",
       "    <tr>\n",
       "      <th>95</th>\n",
       "      <td>NaN</td>\n",
       "      <td>NaN</td>\n",
       "      <td>NaN</td>\n",
       "    </tr>\n",
       "    <tr>\n",
       "      <th>96</th>\n",
       "      <td>NaN</td>\n",
       "      <td>NaN</td>\n",
       "      <td>NaN</td>\n",
       "    </tr>\n",
       "    <tr>\n",
       "      <th>97</th>\n",
       "      <td>NaN</td>\n",
       "      <td>NaN</td>\n",
       "      <td>NaN</td>\n",
       "    </tr>\n",
       "    <tr>\n",
       "      <th>98</th>\n",
       "      <td>NaN</td>\n",
       "      <td>NaN</td>\n",
       "      <td>NaN</td>\n",
       "    </tr>\n",
       "    <tr>\n",
       "      <th>99</th>\n",
       "      <td>NaN</td>\n",
       "      <td>NaN</td>\n",
       "      <td>NaN</td>\n",
       "    </tr>\n",
       "  </tbody>\n",
       "</table>\n",
       "<p>100 rows × 3 columns</p>\n",
       "</div>"
      ],
      "text/plain": [
       "    MSE_results   md1_results  md2_results\n",
       "0           NaN           NaN          NaN\n",
       "1           NaN           NaN          NaN\n",
       "2           NaN           NaN          NaN\n",
       "3           NaN           NaN          NaN\n",
       "4           NaN           NaN          NaN\n",
       "..          ...           ...          ...\n",
       "95          NaN           NaN          NaN\n",
       "96          NaN           NaN          NaN\n",
       "97          NaN           NaN          NaN\n",
       "98          NaN           NaN          NaN\n",
       "99          NaN           NaN          NaN\n",
       "\n",
       "[100 rows x 3 columns]"
      ]
     },
     "execution_count": 15,
     "metadata": {},
     "output_type": "execute_result"
    }
   ],
   "source": [
    "## creating a data frame to store results\n",
    "import numpy as np\n",
    "MSE_results = pd.DataFrame({'MSE_results': np.repeat(np.nan, 100), ' md1_results': np.repeat(np.nan, 100), 'md2_results': np.repeat(np.nan, 100)})\n",
    "MSE_results"
   ]
  },
  {
   "cell_type": "code",
   "execution_count": 16,
   "id": "2c07f648",
   "metadata": {},
   "outputs": [
    {
     "name": "stdout",
     "output_type": "stream",
     "text": [
      "    md1_results  md2_results\n",
      "0           NaN          NaN\n",
      "1           NaN          NaN\n",
      "2           NaN          NaN\n",
      "3           NaN          NaN\n",
      "4           NaN          NaN\n",
      "..          ...          ...\n",
      "95          NaN          NaN\n",
      "96          NaN          NaN\n",
      "97          NaN          NaN\n",
      "98          NaN          NaN\n",
      "99          NaN          NaN\n",
      "\n",
      "[100 rows x 2 columns]\n",
      "The mse of model 1 is:  81.20257498932355\n",
      "The mse of model 1 is:  87.26655659868739\n",
      "    md1_results  md2_results\n",
      "0    118.140023   129.677118\n",
      "1     63.002228    62.862394\n",
      "2     90.769825    97.990949\n",
      "3     67.571006    71.992181\n",
      "4     64.350709    63.278024\n",
      "..          ...          ...\n",
      "95    48.224140    58.340030\n",
      "96    63.732136    63.676182\n",
      "97    69.417040    83.399152\n",
      "98    97.024605   102.438050\n",
      "99    58.811817    69.895628\n",
      "\n",
      "[100 rows x 2 columns]\n",
      "md1_results\n"
     ]
    }
   ],
   "source": [
    "MSE_results = pd.DataFrame({'md1_results': np.repeat(np.nan, 100), 'md2_results': np.repeat(np.nan, 100)})\n",
    "print(MSE_results)\n",
    "\n",
    "## defining input and target variables for model 1\n",
    "X = house_price.drop(columns = 'house_price_of_unit_area', axis =1)\n",
    "Y = house_price['house_price_of_unit_area']\n",
    "\n",
    "## defining input and target variables for model 2\n",
    "X2 = house_price.drop(columns = ['distance_to_the_nearest_MRT_station'], axis = 1)\n",
    "Y2 = house_price['house_price_of_unit_area']\n",
    "\n",
    "for i in range(0,100):\n",
    "    X_train, X_test, Y_train, Y_test = train_test_split(X, Y, test_size = .2)\n",
    "    md1 = LinearRegression().fit(X_train, Y_train)\n",
    "    \n",
    "    md2 = LinearRegression().fit(X_train.drop(columns = ['distance_to_the_nearest_MRT_station'], axis = 1), Y_train)\n",
    "    \n",
    "    ## predicting on the test dataset\n",
    "    md1_preds = md1.predict(X_test)\n",
    "    md2_preds = md2.predict(X_test.drop(columns = ['distance_to_the_nearest_MRT_station'], axis = 1))\n",
    "    \n",
    "    ## computing MSE\n",
    "    mse1 = np.mean((Y_test - md1_preds)**2)\n",
    "    mse2 = np.mean((Y_test - md2_preds)**2)\n",
    "    MSE_results['md1_results'][i] = mse1\n",
    "    MSE_results['md2_results'][i] = mse2\n",
    "    \n",
    "print('The mse of model 1 is: ', MSE_results['md1_results'].mean())\n",
    "print('The mse of model 1 is: ', MSE_results['md2_results'].mean())\n",
    "print(MSE_results)\n",
    "print('md1_results')"
   ]
  },
  {
   "cell_type": "markdown",
   "id": "7b63c60f",
   "metadata": {},
   "source": [
    "### Visualizing results on a graph"
   ]
  },
  {
   "cell_type": "code",
   "execution_count": 32,
   "id": "77552756",
   "metadata": {},
   "outputs": [
    {
     "data": {
      "image/png": "[encoded data removed]",
      "text/plain": [
       "<Figure size 432x288 with 1 Axes>"
      ]
     },
     "metadata": {
      "needs_background": "light"
     },
     "output_type": "display_data"
    }
   ],
   "source": [
    "##for i in range(1, 101):\n",
    "plt.plot(MSE_results['md1_results'], color = 'red')\n",
    "plt.plot(MSE_results['md2_results'], color = 'blue')\n",
    "plt.xlabel('iteration')\n",
    "plt.ylabel('MSE')\n",
    "plt.legend(loc = 'upper right', labels = ['model 1', 'model 2'])\n",
    "plt.grid()\n",
    "plt.show();"
   ]
  },
  {
   "cell_type": "code",
   "execution_count": 33,
   "id": "440e5caf",
   "metadata": {},
   "outputs": [],
   "source": [
    "## df['col']"
   ]
  }
 ],
 "metadata": {
  "kernelspec": {
   "display_name": "conda_python3",
   "language": "python",
   "name": "conda_python3"
  },
  "language_info": {
   "codemirror_mode": {
    "name": "ipython",
    "version": 3
   },
   "file_extension": ".py",
   "mimetype": "text/x-python",
   "name": "python",
   "nbconvert_exporter": "python",
   "pygments_lexer": "ipython3",
   "version": "3.8.12"
  }
 },
 "nbformat": 4,
 "nbformat_minor": 5
}
