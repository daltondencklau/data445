{
 "cells": [
  {
   "cell_type": "code",
   "execution_count": 36,
   "id": "cdbc17e6",
   "metadata": {},
   "outputs": [
    {
     "data": {
      "text/html": [
       "<div>\n",
       "<style scoped>\n",
       "    .dataframe tbody tr th:only-of-type {\n",
       "        vertical-align: middle;\n",
       "    }\n",
       "\n",
       "    .dataframe tbody tr th {\n",
       "        vertical-align: top;\n",
       "    }\n",
       "\n",
       "    .dataframe thead th {\n",
       "        text-align: right;\n",
       "    }\n",
       "</style>\n",
       "<table border=\"1\" class=\"dataframe\">\n",
       "  <thead>\n",
       "    <tr style=\"text-align: right;\">\n",
       "      <th></th>\n",
       "      <th>x</th>\n",
       "      <th>y</th>\n",
       "    </tr>\n",
       "  </thead>\n",
       "  <tbody>\n",
       "    <tr>\n",
       "      <th>0</th>\n",
       "      <td>0.421362</td>\n",
       "      <td>0.161185</td>\n",
       "    </tr>\n",
       "    <tr>\n",
       "      <th>1</th>\n",
       "      <td>-0.385647</td>\n",
       "      <td>0.449012</td>\n",
       "    </tr>\n",
       "    <tr>\n",
       "      <th>2</th>\n",
       "      <td>0.425654</td>\n",
       "      <td>-0.100170</td>\n",
       "    </tr>\n",
       "    <tr>\n",
       "      <th>3</th>\n",
       "      <td>-0.574566</td>\n",
       "      <td>0.741009</td>\n",
       "    </tr>\n",
       "    <tr>\n",
       "      <th>4</th>\n",
       "      <td>-0.255552</td>\n",
       "      <td>0.572340</td>\n",
       "    </tr>\n",
       "  </tbody>\n",
       "</table>\n",
       "</div>"
      ],
      "text/plain": [
       "          x         y\n",
       "0  0.421362  0.161185\n",
       "1 -0.385647  0.449012\n",
       "2  0.425654 -0.100170\n",
       "3 -0.574566  0.741009\n",
       "4 -0.255552  0.572340"
      ]
     },
     "execution_count": 36,
     "metadata": {},
     "output_type": "execute_result"
    }
   ],
   "source": [
    "import boto3\n",
    "import pandas as pd; pd.set_option('display.max_column', 100)\n",
    "import numpy as np\n",
    "import matplotlib.pyplot as plt\n",
    "\n",
    "from sklearn.model_selection import train_test_split\n",
    "from sklearn.preprocessing import MinMaxScaler\n",
    "\n",
    "from sklearn.cluster import SpectralClustering\n",
    "## define bucket in which you are trying to reach\n",
    "s3 = boto3.resource('s3')\n",
    "bucket_name = 'daltondencklau-data445-bucket'\n",
    "bucket = s3.Bucket(bucket_name)\n",
    "\n",
    "## define csv file to read in the bucket\n",
    "file_key= 'circle_data.csv'\n",
    "\n",
    "## syntax to allow us to read the file\n",
    "bucket_object = bucket.Object(file_key)\n",
    "file_object = bucket_object.get()\n",
    "file_content_stream = file_object.get('Body')\n",
    "\n",
    "## reading the data file\n",
    "circles = pd.read_csv(file_content_stream)\n",
    "circles.head()"
   ]
  },
  {
   "cell_type": "code",
   "execution_count": 37,
   "id": "031b0ddb",
   "metadata": {},
   "outputs": [
    {
     "data": {
      "text/plain": [
       "(1000, 2)"
      ]
     },
     "execution_count": 37,
     "metadata": {},
     "output_type": "execute_result"
    }
   ],
   "source": [
    "circles.shape"
   ]
  },
  {
   "cell_type": "code",
   "execution_count": 38,
   "id": "bb3c14bb",
   "metadata": {},
   "outputs": [
    {
     "data": {
      "image/png": "[encoded data removed]",
      "text/plain": [
       "<Figure size 432x288 with 1 Axes>"
      ]
     },
     "metadata": {
      "needs_background": "light"
     },
     "output_type": "display_data"
    }
   ],
   "source": [
    "## visualizing the data ('o': gives circlular data points)\n",
    "plt.plot(circles['x'], circles['y'], 'o')\n",
    "plt.xlabel('x')\n",
    "plt.xlabel('y')\n",
    "plt.grid()\n",
    "plt.show()"
   ]
  },
  {
   "cell_type": "code",
   "execution_count": 39,
   "id": "9c214ec7",
   "metadata": {},
   "outputs": [],
   "source": [
    "## standardizing the data\n",
    "scaler = MinMaxScaler()\n",
    "circles[['x_0_1', 'y_0_1']] = scaler.fit_transform(circles)"
   ]
  },
  {
   "cell_type": "code",
   "execution_count": 40,
   "id": "7b1b6a53",
   "metadata": {},
   "outputs": [
    {
     "data": {
      "text/html": [
       "<div>\n",
       "<style scoped>\n",
       "    .dataframe tbody tr th:only-of-type {\n",
       "        vertical-align: middle;\n",
       "    }\n",
       "\n",
       "    .dataframe tbody tr th {\n",
       "        vertical-align: top;\n",
       "    }\n",
       "\n",
       "    .dataframe thead th {\n",
       "        text-align: right;\n",
       "    }\n",
       "</style>\n",
       "<table border=\"1\" class=\"dataframe\">\n",
       "  <thead>\n",
       "    <tr style=\"text-align: right;\">\n",
       "      <th></th>\n",
       "      <th>x</th>\n",
       "      <th>y</th>\n",
       "      <th>x_0_1</th>\n",
       "      <th>y_0_1</th>\n",
       "    </tr>\n",
       "  </thead>\n",
       "  <tbody>\n",
       "    <tr>\n",
       "      <th>0</th>\n",
       "      <td>0.421362</td>\n",
       "      <td>0.161185</td>\n",
       "      <td>0.677955</td>\n",
       "      <td>0.562456</td>\n",
       "    </tr>\n",
       "    <tr>\n",
       "      <th>1</th>\n",
       "      <td>-0.385647</td>\n",
       "      <td>0.449012</td>\n",
       "      <td>0.313458</td>\n",
       "      <td>0.692048</td>\n",
       "    </tr>\n",
       "    <tr>\n",
       "      <th>2</th>\n",
       "      <td>0.425654</td>\n",
       "      <td>-0.100170</td>\n",
       "      <td>0.679893</td>\n",
       "      <td>0.444782</td>\n",
       "    </tr>\n",
       "    <tr>\n",
       "      <th>3</th>\n",
       "      <td>-0.574566</td>\n",
       "      <td>0.741009</td>\n",
       "      <td>0.228130</td>\n",
       "      <td>0.823518</td>\n",
       "    </tr>\n",
       "    <tr>\n",
       "      <th>4</th>\n",
       "      <td>-0.255552</td>\n",
       "      <td>0.572340</td>\n",
       "      <td>0.372217</td>\n",
       "      <td>0.747576</td>\n",
       "    </tr>\n",
       "    <tr>\n",
       "      <th>...</th>\n",
       "      <td>...</td>\n",
       "      <td>...</td>\n",
       "      <td>...</td>\n",
       "      <td>...</td>\n",
       "    </tr>\n",
       "    <tr>\n",
       "      <th>995</th>\n",
       "      <td>0.227031</td>\n",
       "      <td>-0.509298</td>\n",
       "      <td>0.590182</td>\n",
       "      <td>0.260575</td>\n",
       "    </tr>\n",
       "    <tr>\n",
       "      <th>996</th>\n",
       "      <td>0.070092</td>\n",
       "      <td>0.561475</td>\n",
       "      <td>0.519298</td>\n",
       "      <td>0.742684</td>\n",
       "    </tr>\n",
       "    <tr>\n",
       "      <th>997</th>\n",
       "      <td>-0.761880</td>\n",
       "      <td>0.584458</td>\n",
       "      <td>0.143527</td>\n",
       "      <td>0.753032</td>\n",
       "    </tr>\n",
       "    <tr>\n",
       "      <th>998</th>\n",
       "      <td>0.356828</td>\n",
       "      <td>0.903999</td>\n",
       "      <td>0.648807</td>\n",
       "      <td>0.896903</td>\n",
       "    </tr>\n",
       "    <tr>\n",
       "      <th>999</th>\n",
       "      <td>0.704940</td>\n",
       "      <td>-0.695997</td>\n",
       "      <td>0.806037</td>\n",
       "      <td>0.176516</td>\n",
       "    </tr>\n",
       "  </tbody>\n",
       "</table>\n",
       "<p>1000 rows × 4 columns</p>\n",
       "</div>"
      ],
      "text/plain": [
       "            x         y     x_0_1     y_0_1\n",
       "0    0.421362  0.161185  0.677955  0.562456\n",
       "1   -0.385647  0.449012  0.313458  0.692048\n",
       "2    0.425654 -0.100170  0.679893  0.444782\n",
       "3   -0.574566  0.741009  0.228130  0.823518\n",
       "4   -0.255552  0.572340  0.372217  0.747576\n",
       "..        ...       ...       ...       ...\n",
       "995  0.227031 -0.509298  0.590182  0.260575\n",
       "996  0.070092  0.561475  0.519298  0.742684\n",
       "997 -0.761880  0.584458  0.143527  0.753032\n",
       "998  0.356828  0.903999  0.648807  0.896903\n",
       "999  0.704940 -0.695997  0.806037  0.176516\n",
       "\n",
       "[1000 rows x 4 columns]"
      ]
     },
     "execution_count": 40,
     "metadata": {},
     "output_type": "execute_result"
    }
   ],
   "source": [
    "circles"
   ]
  },
  {
   "cell_type": "code",
   "execution_count": 41,
   "id": "2c78b2e1",
   "metadata": {},
   "outputs": [],
   "source": [
    "## running spectural clustering (cluster = 2)\n",
    "spectral_cluster = SpectralClustering(n_clusters = 2, affinity = 'nearest_neighbors', n_neighbors = 20).fit(circles[['x_0_1', 'y_0_1']])\n",
    "\n"
   ]
  },
  {
   "cell_type": "code",
   "execution_count": 42,
   "id": "13b5219f",
   "metadata": {},
   "outputs": [
    {
     "data": {
      "text/html": [
       "<div>\n",
       "<style scoped>\n",
       "    .dataframe tbody tr th:only-of-type {\n",
       "        vertical-align: middle;\n",
       "    }\n",
       "\n",
       "    .dataframe tbody tr th {\n",
       "        vertical-align: top;\n",
       "    }\n",
       "\n",
       "    .dataframe thead th {\n",
       "        text-align: right;\n",
       "    }\n",
       "</style>\n",
       "<table border=\"1\" class=\"dataframe\">\n",
       "  <thead>\n",
       "    <tr style=\"text-align: right;\">\n",
       "      <th></th>\n",
       "      <th>x</th>\n",
       "      <th>y</th>\n",
       "      <th>x_0_1</th>\n",
       "      <th>y_0_1</th>\n",
       "      <th>spectral_cluster</th>\n",
       "    </tr>\n",
       "  </thead>\n",
       "  <tbody>\n",
       "    <tr>\n",
       "      <th>0</th>\n",
       "      <td>0.421362</td>\n",
       "      <td>0.161185</td>\n",
       "      <td>0.677955</td>\n",
       "      <td>0.562456</td>\n",
       "      <td>0</td>\n",
       "    </tr>\n",
       "    <tr>\n",
       "      <th>1</th>\n",
       "      <td>-0.385647</td>\n",
       "      <td>0.449012</td>\n",
       "      <td>0.313458</td>\n",
       "      <td>0.692048</td>\n",
       "      <td>0</td>\n",
       "    </tr>\n",
       "    <tr>\n",
       "      <th>2</th>\n",
       "      <td>0.425654</td>\n",
       "      <td>-0.100170</td>\n",
       "      <td>0.679893</td>\n",
       "      <td>0.444782</td>\n",
       "      <td>0</td>\n",
       "    </tr>\n",
       "    <tr>\n",
       "      <th>3</th>\n",
       "      <td>-0.574566</td>\n",
       "      <td>0.741009</td>\n",
       "      <td>0.228130</td>\n",
       "      <td>0.823518</td>\n",
       "      <td>1</td>\n",
       "    </tr>\n",
       "    <tr>\n",
       "      <th>4</th>\n",
       "      <td>-0.255552</td>\n",
       "      <td>0.572340</td>\n",
       "      <td>0.372217</td>\n",
       "      <td>0.747576</td>\n",
       "      <td>0</td>\n",
       "    </tr>\n",
       "  </tbody>\n",
       "</table>\n",
       "</div>"
      ],
      "text/plain": [
       "          x         y     x_0_1     y_0_1  spectral_cluster\n",
       "0  0.421362  0.161185  0.677955  0.562456                 0\n",
       "1 -0.385647  0.449012  0.313458  0.692048                 0\n",
       "2  0.425654 -0.100170  0.679893  0.444782                 0\n",
       "3 -0.574566  0.741009  0.228130  0.823518                 1\n",
       "4 -0.255552  0.572340  0.372217  0.747576                 0"
      ]
     },
     "execution_count": 42,
     "metadata": {},
     "output_type": "execute_result"
    }
   ],
   "source": [
    "## apending the cluster labels\n",
    "circles['spectral_cluster'] = spectral_cluster.labels_\n",
    "circles.head()"
   ]
  },
  {
   "cell_type": "code",
   "execution_count": 44,
   "id": "0dca7553",
   "metadata": {},
   "outputs": [
    {
     "data": {
      "image/png": "[encoded data removed]",
      "text/plain": [
       "<Figure size 864x576 with 1 Axes>"
      ]
     },
     "metadata": {
      "needs_background": "light"
     },
     "output_type": "display_data"
    }
   ],
   "source": [
    "## visuzlizing the results\n",
    "colors = ['lightblue', 'orange']\n",
    "\n",
    "plt.figure(figsize = (12,8))\n",
    "plt.xlabel('x')\n",
    "plt.xlabel('y')\n",
    "plt.grid()\n",
    "\n",
    "for i in circles['spectral_cluster'].unique():\n",
    "    temp = circles[circles['spectral_cluster'] == i]\n",
    "    plt.scatter(temp['x'], temp['y'], color = colors[i])"
   ]
  },
  {
   "cell_type": "code",
   "execution_count": null,
   "id": "24e24c0c",
   "metadata": {},
   "outputs": [],
   "source": []
  },
  {
   "cell_type": "code",
   "execution_count": null,
   "id": "23956e6b",
   "metadata": {},
   "outputs": [],
   "source": []
  }
 ],
 "metadata": {
  "kernelspec": {
   "display_name": "conda_python3",
   "language": "python",
   "name": "conda_python3"
  },
  "language_info": {
   "codemirror_mode": {
    "name": "ipython",
    "version": 3
   },
   "file_extension": ".py",
   "mimetype": "text/x-python",
   "name": "python",
   "nbconvert_exporter": "python",
   "pygments_lexer": "ipython3",
   "version": "3.8.12"
  }
 },
 "nbformat": 4,
 "nbformat_minor": 5
}
