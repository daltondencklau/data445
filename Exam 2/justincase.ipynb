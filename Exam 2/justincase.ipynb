{
 "cells": [
  {
   "cell_type": "markdown",
   "id": "fb8a3f3a",
   "metadata": {},
   "source": [
    "iteration average acorss three models"
   ]
  },
  {
   "cell_type": "code",
   "execution_count": 1,
   "id": "8b3e6ee9",
   "metadata": {},
   "outputs": [
    {
     "ename": "NameError",
     "evalue": "name 'gb_importances_df' is not defined",
     "output_type": "error",
     "traceback": [
      "\u001b[0;31m---------------------------------------------------------------------------\u001b[0m",
      "\u001b[0;31mNameError\u001b[0m                                 Traceback (most recent call last)",
      "\u001b[0;32m/tmp/ipykernel_6094/2808023929.py\u001b[0m in \u001b[0;36m<cell line: 2>\u001b[0;34m()\u001b[0m\n\u001b[1;32m      1\u001b[0m \u001b[0;31m## creating loop to calculate averages across 1000 iterations for GB model\u001b[0m\u001b[0;34m\u001b[0m\u001b[0;34m\u001b[0m\u001b[0;34m\u001b[0m\u001b[0m\n\u001b[0;32m----> 2\u001b[0;31m \u001b[0;32mfor\u001b[0m \u001b[0;34m(\u001b[0m\u001b[0mcolumnName\u001b[0m\u001b[0;34m,\u001b[0m \u001b[0mcolumnData\u001b[0m\u001b[0;34m)\u001b[0m \u001b[0;32min\u001b[0m \u001b[0mgb_importances_df\u001b[0m\u001b[0;34m.\u001b[0m\u001b[0miteritems\u001b[0m\u001b[0;34m(\u001b[0m\u001b[0;34m)\u001b[0m\u001b[0;34m:\u001b[0m\u001b[0;34m\u001b[0m\u001b[0;34m\u001b[0m\u001b[0m\n\u001b[0m\u001b[1;32m      3\u001b[0m     \u001b[0mavg_account_length_gb\u001b[0m \u001b[0;34m=\u001b[0m \u001b[0mnp\u001b[0m\u001b[0;34m.\u001b[0m\u001b[0mmean\u001b[0m\u001b[0;34m(\u001b[0m\u001b[0mgb_importances_df\u001b[0m\u001b[0;34m.\u001b[0m\u001b[0mloc\u001b[0m\u001b[0;34m[\u001b[0m\u001b[0;34m:\u001b[0m\u001b[0;34m,\u001b[0m \u001b[0;36m0\u001b[0m\u001b[0;34m]\u001b[0m\u001b[0;34m)\u001b[0m\u001b[0;34m\u001b[0m\u001b[0;34m\u001b[0m\u001b[0m\n\u001b[1;32m      4\u001b[0m     \u001b[0mavg_intl_plan_gb\u001b[0m \u001b[0;34m=\u001b[0m \u001b[0mnp\u001b[0m\u001b[0;34m.\u001b[0m\u001b[0mmean\u001b[0m\u001b[0;34m(\u001b[0m\u001b[0mgb_importances_df\u001b[0m\u001b[0;34m.\u001b[0m\u001b[0mloc\u001b[0m\u001b[0;34m[\u001b[0m\u001b[0;34m:\u001b[0m\u001b[0;34m,\u001b[0m \u001b[0;36m1\u001b[0m\u001b[0;34m]\u001b[0m\u001b[0;34m)\u001b[0m\u001b[0;34m\u001b[0m\u001b[0;34m\u001b[0m\u001b[0m\n\u001b[1;32m      5\u001b[0m     \u001b[0mavg_voice_mail_plan_gb\u001b[0m \u001b[0;34m=\u001b[0m \u001b[0mnp\u001b[0m\u001b[0;34m.\u001b[0m\u001b[0mmean\u001b[0m\u001b[0;34m(\u001b[0m\u001b[0mgb_importances_df\u001b[0m\u001b[0;34m.\u001b[0m\u001b[0mloc\u001b[0m\u001b[0;34m[\u001b[0m\u001b[0;34m:\u001b[0m\u001b[0;34m,\u001b[0m \u001b[0;36m2\u001b[0m\u001b[0;34m]\u001b[0m\u001b[0;34m)\u001b[0m\u001b[0;34m\u001b[0m\u001b[0;34m\u001b[0m\u001b[0m\n",
      "\u001b[0;31mNameError\u001b[0m: name 'gb_importances_df' is not defined"
     ]
    }
   ],
   "source": [
    "## creating loop to calculate averages across 1000 iterations for GB model\n",
    "for (columnName, columnData) in gb_importances_df.iteritems():\n",
    "    avg_account_length_gb = np.mean(gb_importances_df.loc[:, 0])\n",
    "    avg_intl_plan_gb = np.mean(gb_importances_df.loc[:, 1])\n",
    "    avg_voice_mail_plan_gb = np.mean(gb_importances_df.loc[:, 2])\n",
    "    avg_total_charge_gb = np.mean(gb_importances_df.loc[:, 3])\n",
    "    avg_customer_service_calls_gb = np.mean(gb_importances_df.loc[:, 4])\n",
    "    \n",
    "## creating loop to calculate averages across 1000 iterations for Ada model\n",
    "for (columnName, columnData) in ada_importances_df.iteritems():\n",
    "    avg_account_length_ada = (ada_importances_df['Account_length']).mean()\n",
    "    avg_intl_plan_ada = (ada_importances_df['International_plan']).mean()\n",
    "    avg_voice_mail_plan_ada = (ada_importances_df['Voice_mail_plan']).mean()\n",
    "    avg_total_charge_ada = (ada_importances_df['total_charge']).mean()\n",
    "    avg_customer_service_calls_ada = (ada_importances_df['Customer_service_calls']).mean()"
   ]
  },
  {
   "cell_type": "code",
   "execution_count": null,
   "id": "f9da182a",
   "metadata": {},
   "outputs": [],
   "source": [
    "## creating list to store results\n",
    "md1_results = list()\n",
    "\n",
    "## defining input variables to be used for this model\n",
    "X_rf = telecom_train[['Account_length', 'International_plan', 'total_charge', 'Customer_service_calls']]\n",
    "\n",
    "for i in range(0, 10):\n",
    "    \n",
    "    ## splitting the data into training and testing datasets\n",
    "    X_training, X_testing, Y_training, Y_testing = train_test_split(X_rf, Y, test_size = 0.2)\n",
    "    \n",
    "    ## building random forest model\n",
    "    md1 = RandomForestClassifier(n_estimators = parameters_1['n_tree'][i], max_depth = parameters_1['depth'][i]).fit(X_training, Y_training)\n",
    "    \n",
    "    ## predicting on the testing dataset\n",
    "    md1_preds = md1.predict(X_testing)\n",
    "    \n",
    "    ## changing likelihoods to labels\n",
    "    md1_labels = np.where(md1_preds < 0.1, 0, 1)\n",
    "    \n",
    "    ## computing the recall score\n",
    "    md1_recall = recall_score(Y_testing, md1_labels)\n",
    "    \n",
    "    ## appending the results to a list\n",
    "    md1_results.append(md1_recall)"
   ]
  }
 ],
 "metadata": {
  "kernelspec": {
   "display_name": "conda_python3",
   "language": "python",
   "name": "conda_python3"
  },
  "language_info": {
   "codemirror_mode": {
    "name": "ipython",
    "version": 3
   },
   "file_extension": ".py",
   "mimetype": "text/x-python",
   "name": "python",
   "nbconvert_exporter": "python",
   "pygments_lexer": "ipython3",
   "version": "3.8.12"
  }
 },
 "nbformat": 4,
 "nbformat_minor": 5
}
