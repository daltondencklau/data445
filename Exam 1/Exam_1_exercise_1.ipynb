{
 "cells": [
  {
   "cell_type": "code",
   "execution_count": 25,
   "id": "808184cd",
   "metadata": {},
   "outputs": [],
   "source": [
    "import boto3\n",
    "import pandas as pd; pd.set_option('display.max_column', 100)\n",
    "import numpy as np\n",
    "import matplotlib.pyplot as plt\n",
    "from sklearn.model_selection import train_test_split\n",
    "from sklearn.linear_model import LinearRegression, Ridge, RidgeCV, Lasso, LassoCV\n",
    "from sklearn.preprocessing import MinMaxScaler\n",
    "\n",
    "## define bucket in which you are trying to reach\n",
    "s3 = boto3.resource('s3')\n",
    "bucket_name = 'daltondencklau-data445-bucket'\n",
    "bucket = s3.Bucket(bucket_name)\n",
    "\n",
    "## define csv file to read in the bucket\n",
    "file_key= 'College.csv'\n",
    "\n",
    "## syntax to allow us to read the file\n",
    "bucket_object = bucket.Object(file_key)\n",
    "file_object = bucket_object.get()\n",
    "file_content_stream = file_object.get('Body')\n",
    "\n",
    "## reading the data file\n",
    "college = pd.read_csv(file_content_stream)\n",
    "college.head()\n",
    "\n",
    "## disabling the 'FutureWarning' warning message\n",
    "import warnings\n",
    "warnings.simplefilter(action = 'ignore', category = FutureWarning)"
   ]
  },
  {
   "cell_type": "code",
   "execution_count": 26,
   "id": "edd299ae",
   "metadata": {},
   "outputs": [
    {
     "data": {
      "text/html": [
       "<div>\n",
       "<style scoped>\n",
       "    .dataframe tbody tr th:only-of-type {\n",
       "        vertical-align: middle;\n",
       "    }\n",
       "\n",
       "    .dataframe tbody tr th {\n",
       "        vertical-align: top;\n",
       "    }\n",
       "\n",
       "    .dataframe thead th {\n",
       "        text-align: right;\n",
       "    }\n",
       "</style>\n",
       "<table border=\"1\" class=\"dataframe\">\n",
       "  <thead>\n",
       "    <tr style=\"text-align: right;\">\n",
       "      <th></th>\n",
       "      <th>Private</th>\n",
       "      <th>Apps</th>\n",
       "      <th>Accept</th>\n",
       "      <th>Enroll</th>\n",
       "      <th>Top10perc</th>\n",
       "      <th>Top25perc</th>\n",
       "      <th>F.Undergrad</th>\n",
       "      <th>P.Undergrad</th>\n",
       "      <th>Outstate</th>\n",
       "      <th>Room.Board</th>\n",
       "      <th>Books</th>\n",
       "      <th>Personal</th>\n",
       "      <th>PhD</th>\n",
       "      <th>Terminal</th>\n",
       "      <th>S.F.Ratio</th>\n",
       "      <th>perc.alumni</th>\n",
       "      <th>Expend</th>\n",
       "      <th>Grad.Rate</th>\n",
       "    </tr>\n",
       "  </thead>\n",
       "  <tbody>\n",
       "    <tr>\n",
       "      <th>Abilene Christian University</th>\n",
       "      <td>1</td>\n",
       "      <td>1660</td>\n",
       "      <td>1232</td>\n",
       "      <td>721</td>\n",
       "      <td>23</td>\n",
       "      <td>52</td>\n",
       "      <td>2885</td>\n",
       "      <td>537</td>\n",
       "      <td>7440</td>\n",
       "      <td>3300</td>\n",
       "      <td>450</td>\n",
       "      <td>2200</td>\n",
       "      <td>70</td>\n",
       "      <td>78</td>\n",
       "      <td>18.1</td>\n",
       "      <td>12</td>\n",
       "      <td>7041</td>\n",
       "      <td>60</td>\n",
       "    </tr>\n",
       "    <tr>\n",
       "      <th>Adelphi University</th>\n",
       "      <td>1</td>\n",
       "      <td>2186</td>\n",
       "      <td>1924</td>\n",
       "      <td>512</td>\n",
       "      <td>16</td>\n",
       "      <td>29</td>\n",
       "      <td>2683</td>\n",
       "      <td>1227</td>\n",
       "      <td>12280</td>\n",
       "      <td>6450</td>\n",
       "      <td>750</td>\n",
       "      <td>1500</td>\n",
       "      <td>29</td>\n",
       "      <td>30</td>\n",
       "      <td>12.2</td>\n",
       "      <td>16</td>\n",
       "      <td>10527</td>\n",
       "      <td>56</td>\n",
       "    </tr>\n",
       "    <tr>\n",
       "      <th>Adrian College</th>\n",
       "      <td>1</td>\n",
       "      <td>1428</td>\n",
       "      <td>1097</td>\n",
       "      <td>336</td>\n",
       "      <td>22</td>\n",
       "      <td>50</td>\n",
       "      <td>1036</td>\n",
       "      <td>99</td>\n",
       "      <td>11250</td>\n",
       "      <td>3750</td>\n",
       "      <td>400</td>\n",
       "      <td>1165</td>\n",
       "      <td>53</td>\n",
       "      <td>66</td>\n",
       "      <td>12.9</td>\n",
       "      <td>30</td>\n",
       "      <td>8735</td>\n",
       "      <td>54</td>\n",
       "    </tr>\n",
       "    <tr>\n",
       "      <th>Agnes Scott College</th>\n",
       "      <td>1</td>\n",
       "      <td>417</td>\n",
       "      <td>349</td>\n",
       "      <td>137</td>\n",
       "      <td>60</td>\n",
       "      <td>89</td>\n",
       "      <td>510</td>\n",
       "      <td>63</td>\n",
       "      <td>12960</td>\n",
       "      <td>5450</td>\n",
       "      <td>450</td>\n",
       "      <td>875</td>\n",
       "      <td>92</td>\n",
       "      <td>97</td>\n",
       "      <td>7.7</td>\n",
       "      <td>37</td>\n",
       "      <td>19016</td>\n",
       "      <td>59</td>\n",
       "    </tr>\n",
       "    <tr>\n",
       "      <th>Alaska Pacific University</th>\n",
       "      <td>1</td>\n",
       "      <td>193</td>\n",
       "      <td>146</td>\n",
       "      <td>55</td>\n",
       "      <td>16</td>\n",
       "      <td>44</td>\n",
       "      <td>249</td>\n",
       "      <td>869</td>\n",
       "      <td>7560</td>\n",
       "      <td>4120</td>\n",
       "      <td>800</td>\n",
       "      <td>1500</td>\n",
       "      <td>76</td>\n",
       "      <td>72</td>\n",
       "      <td>11.9</td>\n",
       "      <td>2</td>\n",
       "      <td>10922</td>\n",
       "      <td>15</td>\n",
       "    </tr>\n",
       "  </tbody>\n",
       "</table>\n",
       "</div>"
      ],
      "text/plain": [
       "                              Private  Apps  Accept  Enroll  Top10perc  \\\n",
       "Abilene Christian University        1  1660    1232     721         23   \n",
       "Adelphi University                  1  2186    1924     512         16   \n",
       "Adrian College                      1  1428    1097     336         22   \n",
       "Agnes Scott College                 1   417     349     137         60   \n",
       "Alaska Pacific University           1   193     146      55         16   \n",
       "\n",
       "                              Top25perc  F.Undergrad  P.Undergrad  Outstate  \\\n",
       "Abilene Christian University         52         2885          537      7440   \n",
       "Adelphi University                   29         2683         1227     12280   \n",
       "Adrian College                       50         1036           99     11250   \n",
       "Agnes Scott College                  89          510           63     12960   \n",
       "Alaska Pacific University            44          249          869      7560   \n",
       "\n",
       "                              Room.Board  Books  Personal  PhD  Terminal  \\\n",
       "Abilene Christian University        3300    450      2200   70        78   \n",
       "Adelphi University                  6450    750      1500   29        30   \n",
       "Adrian College                      3750    400      1165   53        66   \n",
       "Agnes Scott College                 5450    450       875   92        97   \n",
       "Alaska Pacific University           4120    800      1500   76        72   \n",
       "\n",
       "                              S.F.Ratio  perc.alumni  Expend  Grad.Rate  \n",
       "Abilene Christian University       18.1           12    7041         60  \n",
       "Adelphi University                 12.2           16   10527         56  \n",
       "Adrian College                     12.9           30    8735         54  \n",
       "Agnes Scott College                 7.7           37   19016         59  \n",
       "Alaska Pacific University          11.9            2   10922         15  "
      ]
     },
     "execution_count": 26,
     "metadata": {},
     "output_type": "execute_result"
    }
   ],
   "source": [
    "## Changing the variable 'Private' from a categorical to a numerical variable\n",
    "college['Private'] = np.where(college['Private'] == 'No', 0 ,1)\n",
    "college.head()"
   ]
  },
  {
   "cell_type": "code",
   "execution_count": 27,
   "id": "1fc7f061",
   "metadata": {},
   "outputs": [],
   "source": [
    "## defining the input (x) and target (y) variables\n",
    "X = college[['Private', 'F.Undergrad', 'P.Undergrad', 'Outstate', 'Room.Board', 'Books', 'Personal', 'S.F.Ratio', 'Grad.Rate']]\n",
    "Y = college['Apps']\n",
    "## splitting the data into 80% trianing and 20% testing datasets\n",
    "X_train, X_test, Y_train, Y_test = train_test_split(X, Y, test_size = .2)"
   ]
  },
  {
   "cell_type": "code",
   "execution_count": 28,
   "id": "a82460d9",
   "metadata": {},
   "outputs": [],
   "source": [
    "## transforming the input variables in the training and testing dataset to a 0-1 scale\n",
    "scaler = MinMaxScaler()\n",
    "X_train = scaler.fit_transform(X_train)\n",
    "X_test = scaler.fit_transform(X_test)"
   ]
  },
  {
   "cell_type": "markdown",
   "id": "2dcb5263",
   "metadata": {},
   "source": [
    "## building linear regression model\n"
   ]
  },
  {
   "cell_type": "code",
   "execution_count": 29,
   "id": "5d88df79",
   "metadata": {},
   "outputs": [],
   "source": [
    "## fitting the data to a linear regression model\n",
    "lm_md = LinearRegression().fit(X_train, Y_train)"
   ]
  },
  {
   "cell_type": "code",
   "execution_count": 30,
   "id": "2c5ee8cd",
   "metadata": {},
   "outputs": [
    {
     "data": {
      "text/plain": [
       "array([ 3.20107001e+03,  2.72864885e+03,  1.38193619e+04,  1.51607352e+03,\n",
       "        1.61002571e+03,  4.53227673e+03,  2.80810416e+03,  5.49269762e+03,\n",
       "        3.75888813e+03,  1.83126568e+03,  1.14155467e+03,  1.72033696e+03,\n",
       "        5.37812866e+03,  2.37955380e+03,  6.86398854e+02,  1.12705882e+04,\n",
       "       -2.11708295e+02,  2.38088579e+03,  2.17290893e+03,  2.45200872e+03,\n",
       "       -6.52241124e+02,  8.67605943e+02,  6.98230823e+02,  1.95804053e+03,\n",
       "        4.24162561e+03,  4.46412533e+03,  2.60401188e+03, -1.29441595e+03,\n",
       "        4.09462293e+03,  3.98216572e+03,  1.34319426e+03,  1.31602666e+03,\n",
       "        2.99698950e+03,  1.19906217e+03,  2.89596467e+03,  7.16089927e+03,\n",
       "        8.52772515e+02,  4.75221556e+03,  6.29192407e+03,  5.28889554e+03,\n",
       "        4.39172817e+03,  1.69244654e+03,  3.04980266e+03,  1.41581320e+01,\n",
       "        5.37085936e+02,  1.23539764e+01,  1.30048988e+03,  1.30390043e+02,\n",
       "        6.37940508e+02,  7.23192816e+02,  5.06681715e+03,  1.85784791e+03,\n",
       "        1.47639243e+04,  5.47793848e+02,  3.66327504e+03,  2.09976842e+03,\n",
       "        9.25234397e+02,  1.64079799e+03, -5.70371171e+00,  2.26741636e+03,\n",
       "        1.42243455e+03,  7.84425433e+02,  8.22218143e+03,  2.09308257e+04,\n",
       "        8.55053834e+02,  7.60995112e+03,  1.52135045e+04, -5.13582131e+02,\n",
       "        1.71739125e+03,  3.81687501e+03,  5.68418911e+03,  4.64705135e+03,\n",
       "        2.51139386e+03,  5.28885985e+03,  3.79673188e+03,  4.18319242e+03,\n",
       "        1.15923905e+03,  1.24569027e+03,  5.93716175e+03,  5.78796350e+02,\n",
       "        3.41647937e+03,  5.94319722e+03,  3.43121516e+03,  4.41779389e+02,\n",
       "        8.64382872e+03,  9.77731679e+02,  1.19516492e+04,  2.50950768e+03,\n",
       "        2.24888380e+03,  4.95328734e+03,  1.62705170e+03,  3.96242576e+03,\n",
       "        1.93146483e+03,  5.45612097e+03,  2.94545101e+03,  7.98572832e+02,\n",
       "        2.66436981e+03,  6.80802549e+02,  1.16464803e+03, -3.05343454e+02,\n",
       "        2.26930258e+03,  3.98173463e+02,  1.61550194e+03,  1.11868528e+04,\n",
       "        2.79101481e+03,  2.81667453e+02,  2.88449581e+03,  1.78299330e+03,\n",
       "       -5.84828173e+02,  3.77894970e+03,  1.67846484e+03,  9.29042073e+03,\n",
       "        1.30443190e+03,  3.69346942e+03,  1.64045546e+04,  1.70511668e+03,\n",
       "        3.92520131e+03,  1.78802058e+03,  2.19950090e+03,  6.37899659e+03,\n",
       "        8.93645159e+03,  2.58479438e+03,  2.64461705e+02,  3.13778638e+03,\n",
       "        1.10897310e+04,  5.18009357e+03,  5.11891454e+03,  1.12540712e+03,\n",
       "        1.62724266e+03,  2.95119629e+03,  1.34395881e+03, -7.14706476e+01,\n",
       "        5.56821717e+03,  2.39528145e+03,  2.47379784e+03, -1.87292528e+03,\n",
       "        2.54844286e+02,  2.25421251e+03,  1.81087115e+03,  2.36770661e+03,\n",
       "        6.24704715e+01,  7.94868861e+03,  1.26392285e+04,  3.43338858e+03,\n",
       "        4.22758531e+03,  7.10193037e+03,  8.38321897e+03,  8.41035899e+02,\n",
       "        2.38147175e+03,  3.82215255e+03,  1.36497692e+03, -1.39078854e+02,\n",
       "        3.06048446e+03,  3.29399231e+03,  2.06491262e+04,  2.75437782e+03])"
      ]
     },
     "execution_count": 30,
     "metadata": {},
     "output_type": "execute_result"
    }
   ],
   "source": [
    "## predicting on the testing dataset\n",
    "lm_preds = lm_md.predict(X_test)\n",
    "lm_preds"
   ]
  },
  {
   "cell_type": "code",
   "execution_count": 31,
   "id": "031ce6a2",
   "metadata": {},
   "outputs": [
    {
     "name": "stdout",
     "output_type": "stream",
     "text": [
      "The MSE of the Linear Regression Model is 3213814.188961649\n"
     ]
    }
   ],
   "source": [
    "## calculating the MSE for this model\n",
    "mse1 = np.mean((Y_test - lm_preds)**2)\n",
    "print('The MSE of the Linear Regression Model is', mse1)"
   ]
  },
  {
   "cell_type": "markdown",
   "id": "d826644f",
   "metadata": {},
   "source": [
    "## building ridge and lasso regression model"
   ]
  },
  {
   "cell_type": "code",
   "execution_count": 39,
   "id": "295dff5d",
   "metadata": {},
   "outputs": [
    {
     "name": "stdout",
     "output_type": "stream",
     "text": [
      "The optimal lambda for the ridge model is 0.001\n",
      "The optimal lambda for the lasso model is 3.0312727272727273\n"
     ]
    }
   ],
   "source": [
    "## estimating the best lambda for ridge model (1st) and LASSO model (2nd)\n",
    "ridge_cv = RidgeCV(alphas = np.linspace(0.001, 100, num = 100), cv = 5).fit(X_train, Y_train)\n",
    "lasso_cv = LassoCV(alphas = np.linspace(0.001, 100, num = 100), normalize = True, cv = 5).fit(X_train, Y_train)\n",
    "\n",
    "## extracting the best lambda value for both models\n",
    "cv_lambda_ridge = ridge_cv.alpha_\n",
    "cv_lambda_lasso = lasso_cv.alpha_\n",
    "print('The optimal lambda for the ridge model is', cv_lambda_ridge)\n",
    "print('The optimal lambda for the lasso model is', cv_lambda_lasso)"
   ]
  },
  {
   "cell_type": "code",
   "execution_count": 40,
   "id": "bd735029",
   "metadata": {},
   "outputs": [
    {
     "name": "stdout",
     "output_type": "stream",
     "text": [
      "The MSE of the Linear Regression Model is 3213814.188961649\n",
      "The MSE of the Ridge Regression Model is 3213713.5716644274\n",
      "The MSE of the LASSO Regression Model is 3353322.7970733885\n"
     ]
    }
   ],
   "source": [
    "## building the ridge model\n",
    "ridge_md = Ridge(alpha = CV_lambda).fit(X_train, Y_train)\n",
    "\n",
    "## building the lasso model and capturing coefficients\n",
    "lasso_md = Lasso(alpha = cv_lambda, normalize = True).fit(X_train, Y_train)\n",
    "lasso_md.coef_\n",
    "              \n",
    "## predicting on the testing dataset for the ridge model\n",
    "ridge_pred = ridge_md.predict(X_test)\n",
    "lasso_pred = lasso_md.predict(X_test)\n",
    "\n",
    "## computing the MSE of both models\n",
    "mse2 = np.mean(np.power(Y_test - ridge_pred, 2))\n",
    "mse3 = np.mean(np.power(Y_test - lasso_pred, 2))\n",
    "\n",
    "## printing MSE results\n",
    "print('The MSE of the Linear Regression Model is', mse1)\n",
    "print('The MSE of the Ridge Regression Model is', mse2)\n",
    "print('The MSE of the LASSO Regression Model is', mse3)"
   ]
  },
  {
   "cell_type": "code",
   "execution_count": 42,
   "id": "0939129e",
   "metadata": {},
   "outputs": [
    {
     "data": {
      "text/plain": [
       "True"
      ]
     },
     "execution_count": 42,
     "metadata": {},
     "output_type": "execute_result"
    }
   ],
   "source": [
    "mse2<mse1<mse3"
   ]
  },
  {
   "cell_type": "markdown",
   "id": "df88d034",
   "metadata": {},
   "source": [
    "Based on these MSE values, I would choose the Ridge Regression model to predict the number of applications a university will receive because it has the lowest MSE value."
   ]
  }
 ],
 "metadata": {
  "kernelspec": {
   "display_name": "conda_python3",
   "language": "python",
   "name": "conda_python3"
  },
  "language_info": {
   "codemirror_mode": {
    "name": "ipython",
    "version": 3
   },
   "file_extension": ".py",
   "mimetype": "text/x-python",
   "name": "python",
   "nbconvert_exporter": "python",
   "pygments_lexer": "ipython3",
   "version": "3.8.12"
  }
 },
 "nbformat": 4,
 "nbformat_minor": 5
}
