{
 "cells": [
  {
   "cell_type": "code",
   "execution_count": 8,
   "id": "dd2933eb",
   "metadata": {},
   "outputs": [],
   "source": [
    "import boto3\n",
    "import pandas as pd; pd.set_option('display.max_column', 100)\n",
    "import numpy as np\n",
    "import matplotlib.pyplot as plt\n",
    "from sklearn.model_selection import train_test_split\n",
    "from sklearn.linear_model import LinearRegression, Ridge, RidgeCV, Lasso, LassoCV\n",
    "from sklearn.preprocessing import MinMaxScaler\n",
    "\n",
    "## define bucket in which you are trying to reach\n",
    "s3 = boto3.resource('s3')\n",
    "bucket_name = 'daltondencklau-data445-bucket'\n",
    "bucket = s3.Bucket(bucket_name)\n",
    "\n",
    "## define csv file to read in the bucket\n",
    "file_key= 'College.csv'\n",
    "\n",
    "## syntax to allow us to read the file\n",
    "bucket_object = bucket.Object(file_key)\n",
    "file_object = bucket_object.get()\n",
    "file_content_stream = file_object.get('Body')\n",
    "\n",
    "## reading the data file\n",
    "college = pd.read_csv(file_content_stream)\n",
    "college.head()\n",
    "\n",
    "## disabling the 'FutureWarning' warning message\n",
    "import warnings\n",
    "warnings.simplefilter(action = 'ignore', category = FutureWarning)"
   ]
  },
  {
   "cell_type": "code",
   "execution_count": 9,
   "id": "ecf41c78",
   "metadata": {},
   "outputs": [
    {
     "data": {
      "text/html": [
       "<div>\n",
       "<style scoped>\n",
       "    .dataframe tbody tr th:only-of-type {\n",
       "        vertical-align: middle;\n",
       "    }\n",
       "\n",
       "    .dataframe tbody tr th {\n",
       "        vertical-align: top;\n",
       "    }\n",
       "\n",
       "    .dataframe thead th {\n",
       "        text-align: right;\n",
       "    }\n",
       "</style>\n",
       "<table border=\"1\" class=\"dataframe\">\n",
       "  <thead>\n",
       "    <tr style=\"text-align: right;\">\n",
       "      <th></th>\n",
       "      <th>Private</th>\n",
       "      <th>Apps</th>\n",
       "      <th>Accept</th>\n",
       "      <th>Enroll</th>\n",
       "      <th>Top10perc</th>\n",
       "      <th>Top25perc</th>\n",
       "      <th>F.Undergrad</th>\n",
       "      <th>P.Undergrad</th>\n",
       "      <th>Outstate</th>\n",
       "      <th>Room.Board</th>\n",
       "      <th>Books</th>\n",
       "      <th>Personal</th>\n",
       "      <th>PhD</th>\n",
       "      <th>Terminal</th>\n",
       "      <th>S.F.Ratio</th>\n",
       "      <th>perc.alumni</th>\n",
       "      <th>Expend</th>\n",
       "      <th>Grad.Rate</th>\n",
       "    </tr>\n",
       "  </thead>\n",
       "  <tbody>\n",
       "    <tr>\n",
       "      <th>Abilene Christian University</th>\n",
       "      <td>1</td>\n",
       "      <td>1660</td>\n",
       "      <td>1232</td>\n",
       "      <td>721</td>\n",
       "      <td>23</td>\n",
       "      <td>52</td>\n",
       "      <td>2885</td>\n",
       "      <td>537</td>\n",
       "      <td>7440</td>\n",
       "      <td>3300</td>\n",
       "      <td>450</td>\n",
       "      <td>2200</td>\n",
       "      <td>70</td>\n",
       "      <td>78</td>\n",
       "      <td>18.1</td>\n",
       "      <td>12</td>\n",
       "      <td>7041</td>\n",
       "      <td>60</td>\n",
       "    </tr>\n",
       "    <tr>\n",
       "      <th>Adelphi University</th>\n",
       "      <td>1</td>\n",
       "      <td>2186</td>\n",
       "      <td>1924</td>\n",
       "      <td>512</td>\n",
       "      <td>16</td>\n",
       "      <td>29</td>\n",
       "      <td>2683</td>\n",
       "      <td>1227</td>\n",
       "      <td>12280</td>\n",
       "      <td>6450</td>\n",
       "      <td>750</td>\n",
       "      <td>1500</td>\n",
       "      <td>29</td>\n",
       "      <td>30</td>\n",
       "      <td>12.2</td>\n",
       "      <td>16</td>\n",
       "      <td>10527</td>\n",
       "      <td>56</td>\n",
       "    </tr>\n",
       "    <tr>\n",
       "      <th>Adrian College</th>\n",
       "      <td>1</td>\n",
       "      <td>1428</td>\n",
       "      <td>1097</td>\n",
       "      <td>336</td>\n",
       "      <td>22</td>\n",
       "      <td>50</td>\n",
       "      <td>1036</td>\n",
       "      <td>99</td>\n",
       "      <td>11250</td>\n",
       "      <td>3750</td>\n",
       "      <td>400</td>\n",
       "      <td>1165</td>\n",
       "      <td>53</td>\n",
       "      <td>66</td>\n",
       "      <td>12.9</td>\n",
       "      <td>30</td>\n",
       "      <td>8735</td>\n",
       "      <td>54</td>\n",
       "    </tr>\n",
       "    <tr>\n",
       "      <th>Agnes Scott College</th>\n",
       "      <td>1</td>\n",
       "      <td>417</td>\n",
       "      <td>349</td>\n",
       "      <td>137</td>\n",
       "      <td>60</td>\n",
       "      <td>89</td>\n",
       "      <td>510</td>\n",
       "      <td>63</td>\n",
       "      <td>12960</td>\n",
       "      <td>5450</td>\n",
       "      <td>450</td>\n",
       "      <td>875</td>\n",
       "      <td>92</td>\n",
       "      <td>97</td>\n",
       "      <td>7.7</td>\n",
       "      <td>37</td>\n",
       "      <td>19016</td>\n",
       "      <td>59</td>\n",
       "    </tr>\n",
       "    <tr>\n",
       "      <th>Alaska Pacific University</th>\n",
       "      <td>1</td>\n",
       "      <td>193</td>\n",
       "      <td>146</td>\n",
       "      <td>55</td>\n",
       "      <td>16</td>\n",
       "      <td>44</td>\n",
       "      <td>249</td>\n",
       "      <td>869</td>\n",
       "      <td>7560</td>\n",
       "      <td>4120</td>\n",
       "      <td>800</td>\n",
       "      <td>1500</td>\n",
       "      <td>76</td>\n",
       "      <td>72</td>\n",
       "      <td>11.9</td>\n",
       "      <td>2</td>\n",
       "      <td>10922</td>\n",
       "      <td>15</td>\n",
       "    </tr>\n",
       "  </tbody>\n",
       "</table>\n",
       "</div>"
      ],
      "text/plain": [
       "                              Private  Apps  Accept  Enroll  Top10perc  \\\n",
       "Abilene Christian University        1  1660    1232     721         23   \n",
       "Adelphi University                  1  2186    1924     512         16   \n",
       "Adrian College                      1  1428    1097     336         22   \n",
       "Agnes Scott College                 1   417     349     137         60   \n",
       "Alaska Pacific University           1   193     146      55         16   \n",
       "\n",
       "                              Top25perc  F.Undergrad  P.Undergrad  Outstate  \\\n",
       "Abilene Christian University         52         2885          537      7440   \n",
       "Adelphi University                   29         2683         1227     12280   \n",
       "Adrian College                       50         1036           99     11250   \n",
       "Agnes Scott College                  89          510           63     12960   \n",
       "Alaska Pacific University            44          249          869      7560   \n",
       "\n",
       "                              Room.Board  Books  Personal  PhD  Terminal  \\\n",
       "Abilene Christian University        3300    450      2200   70        78   \n",
       "Adelphi University                  6450    750      1500   29        30   \n",
       "Adrian College                      3750    400      1165   53        66   \n",
       "Agnes Scott College                 5450    450       875   92        97   \n",
       "Alaska Pacific University           4120    800      1500   76        72   \n",
       "\n",
       "                              S.F.Ratio  perc.alumni  Expend  Grad.Rate  \n",
       "Abilene Christian University       18.1           12    7041         60  \n",
       "Adelphi University                 12.2           16   10527         56  \n",
       "Adrian College                     12.9           30    8735         54  \n",
       "Agnes Scott College                 7.7           37   19016         59  \n",
       "Alaska Pacific University          11.9            2   10922         15  "
      ]
     },
     "execution_count": 9,
     "metadata": {},
     "output_type": "execute_result"
    }
   ],
   "source": [
    "## Changing the variable 'Private' from a categorical to a numerical variable\n",
    "college['Private'] = np.where(college['Private'] == 'No', 0 ,1)\n",
    "college.head()"
   ]
  },
  {
   "cell_type": "code",
   "execution_count": 10,
   "id": "40b02d1f",
   "metadata": {},
   "outputs": [],
   "source": [
    "## defining the input (x) and target (y) variables\n",
    "X = college[['Private', 'F.Undergrad', 'P.Undergrad', 'Outstate', 'Room.Board', 'Books', 'Personal', 'S.F.Ratio', 'Grad.Rate']]\n",
    "Y = college['Apps']\n",
    "## splitting the data into 80% trianing and 20% testing datasets\n",
    "X_train, X_test, Y_train, Y_test = train_test_split(X, Y, test_size = .2)"
   ]
  },
  {
   "cell_type": "code",
   "execution_count": 11,
   "id": "d1cb275a",
   "metadata": {},
   "outputs": [],
   "source": [
    "## transforming the input variables in the training and testing dataset to a 0-1 scale\n",
    "scaler = MinMaxScaler()\n",
    "X_train = scaler.fit_transform(X_train)\n",
    "X_test = scaler.fit_transform(X_test)"
   ]
  },
  {
   "cell_type": "markdown",
   "id": "e10fb6ea",
   "metadata": {},
   "source": [
    "## building linear regression model\n"
   ]
  },
  {
   "cell_type": "code",
   "execution_count": 12,
   "id": "f17fd52a",
   "metadata": {},
   "outputs": [],
   "source": [
    "## fitting the data to a linear regression model\n",
    "lm_md = LinearRegression().fit(X_train, Y_train)"
   ]
  },
  {
   "cell_type": "code",
   "execution_count": 13,
   "id": "12767c58",
   "metadata": {
    "collapsed": true,
    "jupyter": {
     "outputs_hidden": true
    }
   },
   "outputs": [
    {
     "data": {
      "text/plain": [
       "array([-3.90520372e+02,  1.65455560e+04,  2.66821328e+03,  6.09452302e+03,\n",
       "        3.04051181e+02,  1.40162972e+03,  1.75449401e+03,  6.82608575e+03,\n",
       "        1.11422302e+04,  6.92764957e+03, -1.76754715e+03,  3.61277455e+03,\n",
       "        9.26457549e+03,  2.18812165e+03, -4.98890442e+02,  5.06773631e+03,\n",
       "        1.65561824e+02,  9.00392483e+03,  7.76812946e+03,  2.29981560e+02,\n",
       "        2.24166591e+03, -4.02227818e+02,  3.96666634e+03,  4.49990473e+03,\n",
       "        7.13085612e+02,  3.21197623e+03, -8.04248355e+02,  2.51947189e+03,\n",
       "       -1.25014857e+02,  4.83458301e+03, -8.66283970e+02, -2.69921836e+02,\n",
       "        7.82366140e+02,  1.05784432e+03,  3.28763326e+03,  2.44650480e+03,\n",
       "       -3.14787071e+01,  1.74173725e+03,  6.45421889e+02,  1.50399743e+03,\n",
       "        1.21510110e+03,  3.88021052e+02, -5.97611242e+02,  1.03503202e+03,\n",
       "        3.01955224e+03,  3.04009745e+03,  3.24555697e+03,  4.82267749e+03,\n",
       "       -2.46697578e+03, -1.66755756e+02,  5.64988193e+03,  1.69337734e+04,\n",
       "        1.02122301e+04,  2.39171393e+03,  6.05951922e+03,  3.21859575e+03,\n",
       "        5.86321186e+02,  8.25115346e+03,  3.06484234e+02, -1.72544220e+02,\n",
       "       -3.02633038e+02,  2.00138898e+03,  1.82066919e+03, -1.37998265e+03,\n",
       "        1.64657691e+03,  4.15829969e+02,  1.13335953e+03, -1.18865415e+03,\n",
       "        7.53594379e+03,  9.47269462e+02,  5.16990090e+02,  5.29720636e+02,\n",
       "       -5.27141321e+02,  9.35281889e+03,  1.63111810e+03, -7.69330363e+02,\n",
       "        1.96639962e+03,  8.89655700e+03,  1.66740897e+03,  1.50244376e+03,\n",
       "       -1.22232627e+02,  3.57283381e+02,  5.96835678e+03, -7.69070872e+02,\n",
       "       -1.49435058e+01,  6.70022272e+02,  1.28141006e+03, -8.50435514e+02,\n",
       "        1.04579248e+03, -7.98042752e+02,  3.72356188e+03,  1.75306073e+03,\n",
       "        2.63937607e+02, -3.32581330e+01,  2.82618549e+03,  1.57441957e+03,\n",
       "        1.60316611e+04, -4.85868701e+02,  6.52229849e+03,  2.39128110e+03,\n",
       "        1.96955670e+04,  2.24543742e+03,  4.28327381e+03,  2.80481520e+02,\n",
       "        6.22783907e+03,  1.78359716e+04,  4.41248506e+02,  1.22706139e+03,\n",
       "        2.06160803e+04, -4.69317070e+01,  1.42081915e+04,  1.01274027e+03,\n",
       "        5.45622274e+03,  2.29973271e+03,  1.46822710e+03, -1.47299399e+03,\n",
       "        5.35317239e+03,  5.22591938e+03,  2.35152519e+02,  1.80869933e+04,\n",
       "        3.78313583e+02,  2.78908593e+02,  4.41461882e+02,  8.26347342e+02,\n",
       "        1.66154096e+03, -1.07876864e+03,  1.59984615e+02,  8.19194333e+02,\n",
       "       -4.27004314e+02,  2.78169231e+03,  2.14943057e+03,  2.58137613e+03,\n",
       "        9.68494553e+03, -4.14534943e+02,  5.00568951e+03,  2.74047454e+03,\n",
       "       -2.59968589e+02,  2.23489705e+03,  8.77833206e+02,  2.98748119e+03,\n",
       "       -5.59662577e+02,  1.71129131e+03,  2.93717058e+02, -3.63931158e+02,\n",
       "       -5.34975790e+01,  2.28210461e+03, -1.62444261e+03, -1.04509480e+03,\n",
       "        9.08190852e+02,  4.17051592e+03,  4.14329989e+03, -4.41893491e+02,\n",
       "        2.02543595e+03,  1.22889271e+03,  2.81640885e+02,  5.43570021e+03])"
      ]
     },
     "execution_count": 13,
     "metadata": {},
     "output_type": "execute_result"
    }
   ],
   "source": [
    "## predicting on the testing dataset\n",
    "lm_preds = lm_md.predict(X_test)\n",
    "lm_preds"
   ]
  },
  {
   "cell_type": "code",
   "execution_count": 14,
   "id": "4d44daac",
   "metadata": {},
   "outputs": [
    {
     "name": "stdout",
     "output_type": "stream",
     "text": [
      "The MSE of the Linear Regression Model is 5347360.573749425\n"
     ]
    }
   ],
   "source": [
    "## calculating the MSE for this model\n",
    "mse1 = np.mean((Y_test - lm_preds)**2)\n",
    "print('The MSE of the Linear Regression Model is', mse1)"
   ]
  },
  {
   "cell_type": "markdown",
   "id": "a9f4ba44",
   "metadata": {},
   "source": [
    "## building ridge regression model"
   ]
  },
  {
   "cell_type": "code",
   "execution_count": 15,
   "id": "2e6b5181",
   "metadata": {},
   "outputs": [
    {
     "name": "stdout",
     "output_type": "stream",
     "text": [
      "The optimal lambda for the ridge model is 1.011090909090909\n",
      "The optimal lambda for the lasso model is 1.011090909090909\n"
     ]
    }
   ],
   "source": [
    "## estimating the best lambda for ridge model (1st) and LASSO model (2nd)\n",
    "ridge_cv = RidgeCV(alphas = np.linspace(0.001, 100, num = 100), cv = 5).fit(X_train, Y_train)\n",
    "lasso_cv = LassoCV(alphas = np.linspace(0.001, 100, num = 100), normalize = True, cv = 5).fit(X_train, Y_train)\n",
    "\n",
    "## extracting the best lambda value for both models\n",
    "CV_lambda = ridge_cv.alpha_\n",
    "cv_lambda = lasso_cv.alpha_\n",
    "print('The optimal lambda for the ridge model is', CV_lambda)\n",
    "print('The optimal lambda for the lasso model is', cv_lambda)"
   ]
  },
  {
   "cell_type": "code",
   "execution_count": 19,
   "id": "ae50eadc",
   "metadata": {},
   "outputs": [
    {
     "name": "stdout",
     "output_type": "stream",
     "text": [
      "The MSE of the Linear Regression Model is 5347360.573749425\n",
      "The MSE of the Ridge Regression Model is 4110162.056210365\n",
      "The MSE of the LASSO Regression Model is 5000514.7275081\n"
     ]
    }
   ],
   "source": [
    "## building the ridge model\n",
    "ridge_md = Ridge(alpha = CV_lambda).fit(X_train, Y_train)\n",
    "\n",
    "## building the lasso model and capturing coefficients\n",
    "lasso_md = Lasso(alpha = cv_lambda, normalize = True).fit(X_train, Y_train)\n",
    "lasso_md.coef_\n",
    "              \n",
    "## predicting on the testing dataset for the ridge model\n",
    "ridge_pred = ridge_md.predict(X_test)\n",
    "lasso_pred = lasso_md.predict(X_test)\n",
    "\n",
    "## computing the MSE of both models\n",
    "mse2 = np.mean(np.power(Y_test - ridge_pred, 2))\n",
    "mse3 = np.mean(np.power(Y_test - lasso_pred, 2))\n",
    "\n",
    "## printing MSE results\n",
    "print('The MSE of the Linear Regression Model is', mse1)\n",
    "print('The MSE of the Ridge Regression Model is', mse2)\n",
    "print('The MSE of the LASSO Regression Model is', mse3)"
   ]
  },
  {
   "cell_type": "code",
   "execution_count": 24,
   "id": "84e0fc13",
   "metadata": {},
   "outputs": [
    {
     "data": {
      "text/plain": [
       "True"
      ]
     },
     "execution_count": 24,
     "metadata": {},
     "output_type": "execute_result"
    }
   ],
   "source": [
    "mse1>mse3>mse2"
   ]
  },
  {
   "cell_type": "markdown",
   "id": "142155f1",
   "metadata": {},
   "source": [
    "Based on these MSE values, I would choose the Ridge Regression model to predict the number of applications a university will receive because it has the lowest MSE value."
   ]
  }
 ],
 "metadata": {
  "kernelspec": {
   "display_name": "conda_python3",
   "language": "python",
   "name": "conda_python3"
  },
  "language_info": {
   "codemirror_mode": {
    "name": "ipython",
    "version": 3
   },
   "file_extension": ".py",
   "mimetype": "text/x-python",
   "name": "python",
   "nbconvert_exporter": "python",
   "pygments_lexer": "ipython3",
   "version": "3.8.12"
  }
 },
 "nbformat": 4,
 "nbformat_minor": 5
}
