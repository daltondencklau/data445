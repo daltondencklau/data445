{
 "cells": [
  {
   "cell_type": "code",
   "execution_count": 1,
   "id": "40e4ef6a",
   "metadata": {},
   "outputs": [],
   "source": [
    "import boto3\n",
    "import pandas as pd; pd.set_option('display.max_column', 100)\n",
    "import numpy as np\n",
    "import matplotlib.pyplot as plt\n",
    "from sklearn.model_selection import train_test_split\n",
    "from sklearn.linear_model import LinearRegression, Ridge, RidgeCV, Lasso, LassoCV\n",
    "from sklearn.preprocessing import MinMaxScaler\n",
    "\n",
    "## define bucket in which you are trying to reach\n",
    "s3 = boto3.resource('s3')\n",
    "bucket_name = 'daltondencklau-data445-bucket'\n",
    "bucket = s3.Bucket(bucket_name)\n",
    "\n",
    "## define csv file to read in the bucket\n",
    "file_key= 'College.csv'\n",
    "\n",
    "## syntax to allow us to read the file\n",
    "bucket_object = bucket.Object(file_key)\n",
    "file_object = bucket_object.get()\n",
    "file_content_stream = file_object.get('Body')\n",
    "\n",
    "## reading the data file\n",
    "college = pd.read_csv(file_content_stream)\n",
    "college.head()\n",
    "\n",
    "## disabling the 'FutureWarning' warning message\n",
    "import warnings\n",
    "warnings.simplefilter(action = 'ignore', category = FutureWarning)"
   ]
  },
  {
   "cell_type": "code",
   "execution_count": 2,
   "id": "0e1e9f74",
   "metadata": {},
   "outputs": [
    {
     "data": {
      "text/html": [
       "<div>\n",
       "<style scoped>\n",
       "    .dataframe tbody tr th:only-of-type {\n",
       "        vertical-align: middle;\n",
       "    }\n",
       "\n",
       "    .dataframe tbody tr th {\n",
       "        vertical-align: top;\n",
       "    }\n",
       "\n",
       "    .dataframe thead th {\n",
       "        text-align: right;\n",
       "    }\n",
       "</style>\n",
       "<table border=\"1\" class=\"dataframe\">\n",
       "  <thead>\n",
       "    <tr style=\"text-align: right;\">\n",
       "      <th></th>\n",
       "      <th>Private</th>\n",
       "      <th>Apps</th>\n",
       "      <th>Accept</th>\n",
       "      <th>Enroll</th>\n",
       "      <th>Top10perc</th>\n",
       "      <th>Top25perc</th>\n",
       "      <th>F.Undergrad</th>\n",
       "      <th>P.Undergrad</th>\n",
       "      <th>Outstate</th>\n",
       "      <th>Room.Board</th>\n",
       "      <th>Books</th>\n",
       "      <th>Personal</th>\n",
       "      <th>PhD</th>\n",
       "      <th>Terminal</th>\n",
       "      <th>S.F.Ratio</th>\n",
       "      <th>perc.alumni</th>\n",
       "      <th>Expend</th>\n",
       "      <th>Grad.Rate</th>\n",
       "    </tr>\n",
       "  </thead>\n",
       "  <tbody>\n",
       "    <tr>\n",
       "      <th>Abilene Christian University</th>\n",
       "      <td>1</td>\n",
       "      <td>1660</td>\n",
       "      <td>1232</td>\n",
       "      <td>721</td>\n",
       "      <td>23</td>\n",
       "      <td>52</td>\n",
       "      <td>2885</td>\n",
       "      <td>537</td>\n",
       "      <td>7440</td>\n",
       "      <td>3300</td>\n",
       "      <td>450</td>\n",
       "      <td>2200</td>\n",
       "      <td>70</td>\n",
       "      <td>78</td>\n",
       "      <td>18.1</td>\n",
       "      <td>12</td>\n",
       "      <td>7041</td>\n",
       "      <td>60</td>\n",
       "    </tr>\n",
       "    <tr>\n",
       "      <th>Adelphi University</th>\n",
       "      <td>1</td>\n",
       "      <td>2186</td>\n",
       "      <td>1924</td>\n",
       "      <td>512</td>\n",
       "      <td>16</td>\n",
       "      <td>29</td>\n",
       "      <td>2683</td>\n",
       "      <td>1227</td>\n",
       "      <td>12280</td>\n",
       "      <td>6450</td>\n",
       "      <td>750</td>\n",
       "      <td>1500</td>\n",
       "      <td>29</td>\n",
       "      <td>30</td>\n",
       "      <td>12.2</td>\n",
       "      <td>16</td>\n",
       "      <td>10527</td>\n",
       "      <td>56</td>\n",
       "    </tr>\n",
       "    <tr>\n",
       "      <th>Adrian College</th>\n",
       "      <td>1</td>\n",
       "      <td>1428</td>\n",
       "      <td>1097</td>\n",
       "      <td>336</td>\n",
       "      <td>22</td>\n",
       "      <td>50</td>\n",
       "      <td>1036</td>\n",
       "      <td>99</td>\n",
       "      <td>11250</td>\n",
       "      <td>3750</td>\n",
       "      <td>400</td>\n",
       "      <td>1165</td>\n",
       "      <td>53</td>\n",
       "      <td>66</td>\n",
       "      <td>12.9</td>\n",
       "      <td>30</td>\n",
       "      <td>8735</td>\n",
       "      <td>54</td>\n",
       "    </tr>\n",
       "    <tr>\n",
       "      <th>Agnes Scott College</th>\n",
       "      <td>1</td>\n",
       "      <td>417</td>\n",
       "      <td>349</td>\n",
       "      <td>137</td>\n",
       "      <td>60</td>\n",
       "      <td>89</td>\n",
       "      <td>510</td>\n",
       "      <td>63</td>\n",
       "      <td>12960</td>\n",
       "      <td>5450</td>\n",
       "      <td>450</td>\n",
       "      <td>875</td>\n",
       "      <td>92</td>\n",
       "      <td>97</td>\n",
       "      <td>7.7</td>\n",
       "      <td>37</td>\n",
       "      <td>19016</td>\n",
       "      <td>59</td>\n",
       "    </tr>\n",
       "    <tr>\n",
       "      <th>Alaska Pacific University</th>\n",
       "      <td>1</td>\n",
       "      <td>193</td>\n",
       "      <td>146</td>\n",
       "      <td>55</td>\n",
       "      <td>16</td>\n",
       "      <td>44</td>\n",
       "      <td>249</td>\n",
       "      <td>869</td>\n",
       "      <td>7560</td>\n",
       "      <td>4120</td>\n",
       "      <td>800</td>\n",
       "      <td>1500</td>\n",
       "      <td>76</td>\n",
       "      <td>72</td>\n",
       "      <td>11.9</td>\n",
       "      <td>2</td>\n",
       "      <td>10922</td>\n",
       "      <td>15</td>\n",
       "    </tr>\n",
       "  </tbody>\n",
       "</table>\n",
       "</div>"
      ],
      "text/plain": [
       "                              Private  Apps  Accept  Enroll  Top10perc  \\\n",
       "Abilene Christian University        1  1660    1232     721         23   \n",
       "Adelphi University                  1  2186    1924     512         16   \n",
       "Adrian College                      1  1428    1097     336         22   \n",
       "Agnes Scott College                 1   417     349     137         60   \n",
       "Alaska Pacific University           1   193     146      55         16   \n",
       "\n",
       "                              Top25perc  F.Undergrad  P.Undergrad  Outstate  \\\n",
       "Abilene Christian University         52         2885          537      7440   \n",
       "Adelphi University                   29         2683         1227     12280   \n",
       "Adrian College                       50         1036           99     11250   \n",
       "Agnes Scott College                  89          510           63     12960   \n",
       "Alaska Pacific University            44          249          869      7560   \n",
       "\n",
       "                              Room.Board  Books  Personal  PhD  Terminal  \\\n",
       "Abilene Christian University        3300    450      2200   70        78   \n",
       "Adelphi University                  6450    750      1500   29        30   \n",
       "Adrian College                      3750    400      1165   53        66   \n",
       "Agnes Scott College                 5450    450       875   92        97   \n",
       "Alaska Pacific University           4120    800      1500   76        72   \n",
       "\n",
       "                              S.F.Ratio  perc.alumni  Expend  Grad.Rate  \n",
       "Abilene Christian University       18.1           12    7041         60  \n",
       "Adelphi University                 12.2           16   10527         56  \n",
       "Adrian College                     12.9           30    8735         54  \n",
       "Agnes Scott College                 7.7           37   19016         59  \n",
       "Alaska Pacific University          11.9            2   10922         15  "
      ]
     },
     "execution_count": 2,
     "metadata": {},
     "output_type": "execute_result"
    }
   ],
   "source": [
    "## Changing the variable 'Private' from a categorical to a numerical variable\n",
    "college['Private'] = np.where(college['Private'] == 'No', 0 ,1)\n",
    "college.head()"
   ]
  },
  {
   "cell_type": "code",
   "execution_count": 3,
   "id": "df89754c",
   "metadata": {},
   "outputs": [],
   "source": [
    "## defining the input (x) and target (y) variables\n",
    "X = college[['Private', 'F.Undergrad', 'P.Undergrad', 'Outstate', 'Room.Board', 'Books', 'Personal', 'S.F.Ratio', 'Grad.Rate']]\n",
    "Y = college['Apps']\n",
    "## splitting the data into 80% trianing and 20% testing datasets\n",
    "X_train, X_test, Y_train, Y_test = train_test_split(X, Y, test_size = .2)"
   ]
  },
  {
   "cell_type": "code",
   "execution_count": 4,
   "id": "25a7a3c6",
   "metadata": {},
   "outputs": [],
   "source": [
    "## transforming the input variables in the training and testing dataset to a 0-1 scale\n",
    "scaler = MinMaxScaler()\n",
    "X = scaler.fit_transform(X)"
   ]
  },
  {
   "cell_type": "markdown",
   "id": "ff53d469",
   "metadata": {},
   "source": [
    "## building linear regression model\n"
   ]
  },
  {
   "cell_type": "code",
   "execution_count": 5,
   "id": "f2cf0f22",
   "metadata": {},
   "outputs": [],
   "source": [
    "## fitting the data to a linear regression model\n",
    "lm_md = LinearRegression().fit(X_train, Y_train)"
   ]
  },
  {
   "cell_type": "code",
   "execution_count": 6,
   "id": "22b549d9",
   "metadata": {},
   "outputs": [
    {
     "data": {
      "text/plain": [
       "array([ 1.82838620e+03,  3.77413746e+03,  1.21556043e+03,  5.35800892e+03,\n",
       "       -5.93713739e+02,  1.26733288e+03,  1.44389967e+01,  1.06347328e+04,\n",
       "        3.31592506e+03, -4.84188029e+02,  4.68994147e+03,  9.96629359e+03,\n",
       "        3.32083353e+03,  2.32041259e+03,  1.58199449e+03,  7.08438090e+02,\n",
       "        8.28319684e+03,  7.55310726e+02,  6.73871601e+02,  2.63701887e+03,\n",
       "        1.61439923e+03,  9.06690689e+02,  1.47855890e+03,  2.01308828e+03,\n",
       "        1.07343723e+04,  1.36265754e+03,  9.45697078e+02,  1.59332850e+03,\n",
       "        3.35163345e+03,  1.27579421e+03,  1.49693618e+03, -2.21042907e+02,\n",
       "        2.81948784e+03,  3.77894432e+03,  2.06879728e+03, -5.00307196e+02,\n",
       "        2.55808222e+03,  1.02119322e+03,  6.55016922e+02,  2.10732357e+03,\n",
       "        2.33546281e+03, -1.40751966e+02,  7.12622611e+03,  2.17957228e+03,\n",
       "        7.65642622e+03,  2.27502031e+03,  6.63102784e+02, -2.25952136e+02,\n",
       "        2.23343258e+03,  2.44585801e+03,  3.45220346e+03,  3.72550933e+03,\n",
       "       -1.68194564e+02,  3.34057962e+03,  1.75669012e+03,  8.21526502e+03,\n",
       "        9.29956398e+02,  2.10936040e+04,  9.26294556e+03,  1.43992341e+03,\n",
       "        3.12336156e+03,  9.87777894e+03,  3.39155521e+03,  6.37348186e+02,\n",
       "        7.20321827e+03,  2.40513485e+02,  1.10032128e+03,  3.61285477e+03,\n",
       "        2.69225327e+03,  1.24047628e+03,  9.72751815e+03,  1.42430421e+03,\n",
       "        8.40264850e+03,  3.65957193e+02,  6.34464183e+03,  2.24247566e+03,\n",
       "        1.99083066e+03,  1.96581249e+02,  2.03939026e+03,  7.94461745e+02,\n",
       "       -5.13631774e+02,  1.47400582e+03,  2.42695032e+03,  4.12591993e+03,\n",
       "        4.25073038e+03,  7.36094610e+02,  1.78445158e+03,  5.77607463e+03,\n",
       "       -5.80870463e+02,  4.71157816e+03,  3.57362080e+03,  2.99363534e+03,\n",
       "        1.07164037e+03,  2.64696808e+03,  9.89993358e+03,  1.54997511e+03,\n",
       "        5.06747840e+03,  6.11672305e+03,  1.42964644e+03,  4.36232618e+03,\n",
       "        1.58186060e+03,  1.59940282e+03,  9.91491083e+03,  1.11981690e+03,\n",
       "        3.08983687e+03,  1.89039823e+03,  3.16964378e+03,  1.42447766e+03,\n",
       "        6.90697913e+03,  3.05715031e+03,  1.27985278e+03,  2.06974143e+03,\n",
       "        6.42124826e+02,  1.40003635e+03,  1.25634163e+03,  2.04480461e+03,\n",
       "        1.95377672e+03,  1.81973696e+03,  1.77667951e+03,  7.45733677e+03,\n",
       "        1.67567632e+03,  1.73082567e+02,  2.86031595e+03,  1.65876552e+03,\n",
       "        9.29166696e+02,  1.80413836e+03,  1.57245709e+03,  1.17213422e+03,\n",
       "        7.12573141e+03,  2.67902811e+03,  1.17735158e+03,  8.90919177e+03,\n",
       "        3.58755263e+03,  1.20573052e+04,  2.60957209e+03, -4.70326990e+01,\n",
       "       -1.11324079e+03, -2.06349384e+02,  2.52720386e+03,  4.36257651e+03,\n",
       "        1.06530086e+03,  4.96908729e+03,  1.08273646e+04,  8.09338345e+03,\n",
       "        1.14211742e+04,  5.58984891e+02,  2.67682997e+03,  3.01332990e+03,\n",
       "        9.15620217e+03,  5.07973715e+03,  1.47397867e+03,  4.67816700e+02,\n",
       "        1.69504398e+03, -1.22357360e+03,  2.86976511e+03,  7.72740242e+03])"
      ]
     },
     "execution_count": 6,
     "metadata": {},
     "output_type": "execute_result"
    }
   ],
   "source": [
    "## predicting on the testing dataset\n",
    "lm_preds = lm_md.predict(X_test)\n",
    "lm_preds"
   ]
  },
  {
   "cell_type": "code",
   "execution_count": 7,
   "id": "1c2ab41b",
   "metadata": {},
   "outputs": [
    {
     "name": "stdout",
     "output_type": "stream",
     "text": [
      "The MSE of the Linear Regression Model is 2568311.2165202214\n"
     ]
    }
   ],
   "source": [
    "## calculating the MSE for this model\n",
    "mse1 = np.mean((Y_test - lm_preds)**2)\n",
    "print('The MSE of the Linear Regression Model is', mse1)"
   ]
  },
  {
   "cell_type": "markdown",
   "id": "772cb907",
   "metadata": {},
   "source": [
    "## building ridge regression model"
   ]
  },
  {
   "cell_type": "code",
   "execution_count": 8,
   "id": "c32c0f75",
   "metadata": {},
   "outputs": [
    {
     "name": "stdout",
     "output_type": "stream",
     "text": [
      "The optimal lambda for the ridge model is 6.123387755102041\n",
      "The optimal lambda for the lasso model is 0.001\n"
     ]
    }
   ],
   "source": [
    "## estimating the best lambda for ridge model (1st) and LASSO model (2nd)\n",
    "#ridge_cv = RidgeCV(alphas = (), np.linspace = (0.001, 100),cv = 5).fit(X_train, Y_train)\n",
    "ridge_cv = RidgeCV(alphas = np.linspace(0.001, 100), cv = 5).fit(X_train, Y_train)\n",
    "lasso_cv = LassoCV(alphas = np.linspace(0.001, 100), normalize = True, cv = 5).fit(X_train, Y_train)\n",
    "\n",
    "## extracting the best lambda value for both models\n",
    "CV_lambda = ridge_cv.alpha_\n",
    "cv_lambda = lasso_cv.alpha_\n",
    "print('The optimal lambda for the ridge model is', CV_lambda)\n",
    "print('The optimal lambda for the lasso model is', cv_lambda)"
   ]
  },
  {
   "cell_type": "code",
   "execution_count": 14,
   "id": "f1fb928b",
   "metadata": {},
   "outputs": [
    {
     "name": "stdout",
     "output_type": "stream",
     "text": [
      "The MSE of the Ridge Regression Model is 2565131.7119970093\n",
      "\n"
     ]
    }
   ],
   "source": [
    "## building the ridge model\n",
    "ridge_md = Ridge(alpha = CV_lambda).fit(X_train, Y_train)\n",
    "\n",
    "## predicting on the testing dataset for the ridge model\n",
    "ridge_pred = ridge_md.predict(X_test)\n",
    "\n",
    "## creating a list to store the results\n",
    "coeffs= []\n",
    "\n",
    "## building the lasso model and capturing coefficients\n",
    "lasso_md = Lasso(alpha = cv_lambda, normalize = True).fit(X_train, Y_train)\n",
    "coeffs.append(lasso_md.coef_)\n",
    "              \n",
    "## computing the MSE of both models\n",
    "mse2 = np.mean(np.power(Y_test - ridge_pred, 2))\n",
    "##mse3 =\n",
    "print('The MSE of the Ridge Regression Model is', mse2)\n",
    "print('')"
   ]
  },
  {
   "cell_type": "code",
   "execution_count": 13,
   "id": "da3d5f47",
   "metadata": {},
   "outputs": [
    {
     "data": {
      "text/html": [
       "<div>\n",
       "<style scoped>\n",
       "    .dataframe tbody tr th:only-of-type {\n",
       "        vertical-align: middle;\n",
       "    }\n",
       "\n",
       "    .dataframe tbody tr th {\n",
       "        vertical-align: top;\n",
       "    }\n",
       "\n",
       "    .dataframe thead tr th {\n",
       "        text-align: left;\n",
       "    }\n",
       "</style>\n",
       "<table border=\"1\" class=\"dataframe\">\n",
       "  <thead>\n",
       "    <tr>\n",
       "      <th></th>\n",
       "      <th>Private</th>\n",
       "      <th>F.Undergrad</th>\n",
       "      <th>P.Undergrad</th>\n",
       "      <th>Outstate</th>\n",
       "      <th>Room.Board</th>\n",
       "      <th>Books</th>\n",
       "      <th>Personal</th>\n",
       "      <th>S.F.Ratio</th>\n",
       "      <th>Gradrad.Rate</th>\n",
       "    </tr>\n",
       "  </thead>\n",
       "  <tbody>\n",
       "    <tr>\n",
       "      <th>0</th>\n",
       "      <td>-881.90127</td>\n",
       "      <td>0.677146</td>\n",
       "      <td>-0.143619</td>\n",
       "      <td>0.108229</td>\n",
       "      <td>0.368131</td>\n",
       "      <td>0.481247</td>\n",
       "      <td>-0.073894</td>\n",
       "      <td>-39.297468</td>\n",
       "      <td>26.872288</td>\n",
       "    </tr>\n",
       "  </tbody>\n",
       "</table>\n",
       "</div>"
      ],
      "text/plain": [
       "     Private F.Undergrad P.Undergrad  Outstate Room.Board     Books  Personal  \\\n",
       "0 -881.90127    0.677146   -0.143619  0.108229   0.368131  0.481247 -0.073894   \n",
       "\n",
       "   S.F.Ratio Gradrad.Rate  \n",
       "0 -39.297468    26.872288  "
      ]
     },
     "execution_count": 13,
     "metadata": {},
     "output_type": "execute_result"
    }
   ],
   "source": [
    "## creating a dataframe from array/list to store results\n",
    "df_coeffs = pd.DataFrame(coeffs, columns = [['Private', 'F.Undergrad', 'P.Undergrad', 'Outstate', 'Room.Board', 'Books', 'Personal', 'S.F.Ratio', 'Gradrad.Rate']])\n",
    "df_coeffs"
   ]
  },
  {
   "cell_type": "markdown",
   "id": "328a0579",
   "metadata": {},
   "source": [
    "## building LASSO regression model"
   ]
  }
 ],
 "metadata": {
  "kernelspec": {
   "display_name": "conda_python3",
   "language": "python",
   "name": "conda_python3"
  },
  "language_info": {
   "codemirror_mode": {
    "name": "ipython",
    "version": 3
   },
   "file_extension": ".py",
   "mimetype": "text/x-python",
   "name": "python",
   "nbconvert_exporter": "python",
   "pygments_lexer": "ipython3",
   "version": "3.8.12"
  }
 },
 "nbformat": 4,
 "nbformat_minor": 5
}
